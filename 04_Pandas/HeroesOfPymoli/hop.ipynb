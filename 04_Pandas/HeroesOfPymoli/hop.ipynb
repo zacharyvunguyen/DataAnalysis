{
 "cells": [
  {
   "cell_type": "code",
   "execution_count": 1,
   "metadata": {
    "pycharm": {
     "is_executing": false
    }
   },
   "outputs": [
    {
     "data": {
      "text/plain": "   Purchase ID             SN  Age Gender  Item ID  \\\n0            0        Lisim78   20   Male      108   \n1            1    Lisovynya38   40   Male      143   \n2            2     Ithergue48   24   Male       92   \n3            3  Chamassasya86   24   Male      100   \n4            4      Iskosia90   23   Male      131   \n\n                                   Item Name  Price  \n0  Extraction, Quickblade Of Trembling Hands   3.53  \n1                          Frenzied Scimitar   1.56  \n2                               Final Critic   4.88  \n3                                Blindscythe   3.27  \n4                                       Fury   1.44  ",
      "text/html": "<div>\n<style scoped>\n    .dataframe tbody tr th:only-of-type {\n        vertical-align: middle;\n    }\n\n    .dataframe tbody tr th {\n        vertical-align: top;\n    }\n\n    .dataframe thead th {\n        text-align: right;\n    }\n</style>\n<table border=\"1\" class=\"dataframe\">\n  <thead>\n    <tr style=\"text-align: right;\">\n      <th></th>\n      <th>Purchase ID</th>\n      <th>SN</th>\n      <th>Age</th>\n      <th>Gender</th>\n      <th>Item ID</th>\n      <th>Item Name</th>\n      <th>Price</th>\n    </tr>\n  </thead>\n  <tbody>\n    <tr>\n      <th>0</th>\n      <td>0</td>\n      <td>Lisim78</td>\n      <td>20</td>\n      <td>Male</td>\n      <td>108</td>\n      <td>Extraction, Quickblade Of Trembling Hands</td>\n      <td>3.53</td>\n    </tr>\n    <tr>\n      <th>1</th>\n      <td>1</td>\n      <td>Lisovynya38</td>\n      <td>40</td>\n      <td>Male</td>\n      <td>143</td>\n      <td>Frenzied Scimitar</td>\n      <td>1.56</td>\n    </tr>\n    <tr>\n      <th>2</th>\n      <td>2</td>\n      <td>Ithergue48</td>\n      <td>24</td>\n      <td>Male</td>\n      <td>92</td>\n      <td>Final Critic</td>\n      <td>4.88</td>\n    </tr>\n    <tr>\n      <th>3</th>\n      <td>3</td>\n      <td>Chamassasya86</td>\n      <td>24</td>\n      <td>Male</td>\n      <td>100</td>\n      <td>Blindscythe</td>\n      <td>3.27</td>\n    </tr>\n    <tr>\n      <th>4</th>\n      <td>4</td>\n      <td>Iskosia90</td>\n      <td>23</td>\n      <td>Male</td>\n      <td>131</td>\n      <td>Fury</td>\n      <td>1.44</td>\n    </tr>\n  </tbody>\n</table>\n</div>"
     },
     "metadata": {},
     "output_type": "execute_result",
     "execution_count": 1
    }
   ],
   "source": [
    "import pandas as pd\n",
    "import numpy as np\n",
    "file = \"Resources/purchase_data.csv\"\n",
    "\n",
    "df = pd.read_csv(file)\n",
    "df.head()\n"
   ]
  },
  {
   "cell_type": "markdown",
   "metadata": {
    "pycharm": {
     "is_executing": false,
     "name": "#%% md\n"
    }
   },
   "source": [
    "---\n",
    "## Player Count\n",
    "* Total Number of Players\n"
   ]
  },
  {
   "cell_type": "code",
   "execution_count": 2,
   "metadata": {
    "pycharm": {
     "is_executing": false,
     "name": "#%%\n"
    }
   },
   "outputs": [
    {
     "data": {
      "text/plain": "   Total Players\n0            576",
      "text/html": "<div>\n<style scoped>\n    .dataframe tbody tr th:only-of-type {\n        vertical-align: middle;\n    }\n\n    .dataframe tbody tr th {\n        vertical-align: top;\n    }\n\n    .dataframe thead th {\n        text-align: right;\n    }\n</style>\n<table border=\"1\" class=\"dataframe\">\n  <thead>\n    <tr style=\"text-align: right;\">\n      <th></th>\n      <th>Total Players</th>\n    </tr>\n  </thead>\n  <tbody>\n    <tr>\n      <th>0</th>\n      <td>576</td>\n    </tr>\n  </tbody>\n</table>\n</div>"
     },
     "metadata": {},
     "output_type": "execute_result",
     "execution_count": 2
    }
   ],
   "source": [
    "np = df['SN'].value_counts().count()\n",
    "tnp  = pd.DataFrame({'Total Players': [np]})\n",
    "tnp.head()\n"
   ]
  },
  {
   "cell_type": "markdown",
   "metadata": {
    "pycharm": {
     "name": "#%% md\n"
    }
   },
   "source": [
    "---\n",
    "## Purchasing Analysis (Total)\n",
    "* Number of Unique Items\n",
    "* Average Purchase Price\n",
    "* Total Number of Purchases\n",
    "* Total Revenue\n"
   ]
  },
  {
   "cell_type": "code",
   "execution_count": 3,
   "metadata": {
    "pycharm": {
     "is_executing": false,
     "name": "#%%\n"
    }
   },
   "outputs": [
    {
     "data": {
      "text/plain": "   Number of Unique Items Average Purchase Price  Total Number of Purchases  \\\n0                     183                  $3.05                        780   \n\n  Total Revenue  \n0      $2379.77  ",
      "text/html": "<div>\n<style scoped>\n    .dataframe tbody tr th:only-of-type {\n        vertical-align: middle;\n    }\n\n    .dataframe tbody tr th {\n        vertical-align: top;\n    }\n\n    .dataframe thead th {\n        text-align: right;\n    }\n</style>\n<table border=\"1\" class=\"dataframe\">\n  <thead>\n    <tr style=\"text-align: right;\">\n      <th></th>\n      <th>Number of Unique Items</th>\n      <th>Average Purchase Price</th>\n      <th>Total Number of Purchases</th>\n      <th>Total Revenue</th>\n    </tr>\n  </thead>\n  <tbody>\n    <tr>\n      <th>0</th>\n      <td>183</td>\n      <td>$3.05</td>\n      <td>780</td>\n      <td>$2379.77</td>\n    </tr>\n  </tbody>\n</table>\n</div>"
     },
     "metadata": {},
     "output_type": "execute_result",
     "execution_count": 3
    }
   ],
   "source": [
    "# dataframe of Purchasing Analysis\n",
    "pa = pd.DataFrame({'Number of Unique Items': [df['Item ID'].value_counts().count()] ,\n",
    "                        'Average Purchase Price': [df['Price'].mean()] ,\n",
    "                        'Total Number of Purchases': [df['Purchase ID'].count()],\n",
    "                        'Total Revenue': [df['Price'].sum()]})\n",
    "\n",
    "# change currency format for two columns:\n",
    "pa['Average Purchase Price'] = pa['Average Purchase Price'].map(\"${:.2f}\".format)\n",
    "pa['Total Revenue'] = pa['Total Revenue'].map(\"${:.2f}\".format)\n",
    "pa.head()\n"
   ]
  },
  {
   "cell_type": "markdown",
   "metadata": {
    "pycharm": {
     "name": "#%% md\n"
    }
   },
   "source": [
    "---\n",
    "## Gender Demographics\n",
    "* Percentage and Count of Male Players\n",
    "* Percentage and Count of Female Players\n",
    "* Percentage and Count of Other / Non-Disclosed\n"
   ]
  },
  {
   "cell_type": "code",
   "execution_count": 4,
   "metadata": {
    "pycharm": {
     "is_executing": false,
     "name": "#%%\n"
    }
   },
   "outputs": [
    {
     "data": {
      "text/plain": "                       Total Count  Percentage of Players\nMale                           484                  84.03\nFemale                          81                  14.06\nOther / Non-Disclosed           11                   1.91",
      "text/html": "<div>\n<style scoped>\n    .dataframe tbody tr th:only-of-type {\n        vertical-align: middle;\n    }\n\n    .dataframe tbody tr th {\n        vertical-align: top;\n    }\n\n    .dataframe thead th {\n        text-align: right;\n    }\n</style>\n<table border=\"1\" class=\"dataframe\">\n  <thead>\n    <tr style=\"text-align: right;\">\n      <th></th>\n      <th>Total Count</th>\n      <th>Percentage of Players</th>\n    </tr>\n  </thead>\n  <tbody>\n    <tr>\n      <th>Male</th>\n      <td>484</td>\n      <td>84.03</td>\n    </tr>\n    <tr>\n      <th>Female</th>\n      <td>81</td>\n      <td>14.06</td>\n    </tr>\n    <tr>\n      <th>Other / Non-Disclosed</th>\n      <td>11</td>\n      <td>1.91</td>\n    </tr>\n  </tbody>\n</table>\n</div>"
     },
     "metadata": {},
     "output_type": "execute_result",
     "execution_count": 4
    }
   ],
   "source": [
    "# dataframe: all players with their genders\n",
    "df1 = df.groupby(\"SN\").agg({\"Gender\":min})\n",
    "\n",
    "# series: counting genders of all players\n",
    "gd = df1[\"Gender\"].value_counts()\n",
    "\n",
    "# dataframe: all genders (total counts) of all players \n",
    "gd = gd.to_frame(name='Total Count')\n",
    "\n",
    "# dataframe: all genders (total counts & percentages) of all players \n",
    "gd['Percentage of Players'] = round(gd['Total Count']/np*100,2)\n",
    "gd.head()\n"
   ]
  },
  {
   "cell_type": "markdown",
   "metadata": {
    "pycharm": {
     "name": "#%% md\n"
    }
   },
   "source": [
    "---\n",
    "## Purchasing Analysis (Gender)"
   ]
  },
  {
   "cell_type": "markdown",
   "metadata": {},
   "source": [
    "* Purchase Count, Average Purchase Price, Total Purchase Value, and  Average Purchase Total per Person: by Gender\n"
   ]
  },
  {
   "cell_type": "code",
   "execution_count": 5,
   "metadata": {
    "pycharm": {
     "is_executing": false,
     "name": "#%%\n"
    }
   },
   "outputs": [
    {
     "data": {
      "text/plain": "                       Purchase Count Avg Purchase Price Total Purchase Value  \\\nGender                                                                          \nFemale                            113               $3.2              $361.94   \nMale                              652              $3.02             $1967.64   \nOther / Non-Disclosed              15              $3.35               $50.19   \n\n                      Avg Purchase Total per Person  \nGender                                               \nFemale                                        $4.47  \nMale                                          $4.07  \nOther / Non-Disclosed                         $4.56  ",
      "text/html": "<div>\n<style scoped>\n    .dataframe tbody tr th:only-of-type {\n        vertical-align: middle;\n    }\n\n    .dataframe tbody tr th {\n        vertical-align: top;\n    }\n\n    .dataframe thead th {\n        text-align: right;\n    }\n</style>\n<table border=\"1\" class=\"dataframe\">\n  <thead>\n    <tr style=\"text-align: right;\">\n      <th></th>\n      <th>Purchase Count</th>\n      <th>Avg Purchase Price</th>\n      <th>Total Purchase Value</th>\n      <th>Avg Purchase Total per Person</th>\n    </tr>\n    <tr>\n      <th>Gender</th>\n      <th></th>\n      <th></th>\n      <th></th>\n      <th></th>\n    </tr>\n  </thead>\n  <tbody>\n    <tr>\n      <th>Female</th>\n      <td>113</td>\n      <td>$3.2</td>\n      <td>$361.94</td>\n      <td>$4.47</td>\n    </tr>\n    <tr>\n      <th>Male</th>\n      <td>652</td>\n      <td>$3.02</td>\n      <td>$1967.64</td>\n      <td>$4.07</td>\n    </tr>\n    <tr>\n      <th>Other / Non-Disclosed</th>\n      <td>15</td>\n      <td>$3.35</td>\n      <td>$50.19</td>\n      <td>$4.56</td>\n    </tr>\n  </tbody>\n</table>\n</div>"
     },
     "metadata": {},
     "output_type": "execute_result",
     "execution_count": 5
    }
   ],
   "source": [
    "# dataframe: purchase count, avg. purchase price, total purchase value by gender\n",
    "pag = df.groupby(\"Gender\").agg({\"Purchase ID\": 'count' , \"Price\": ['mean','sum']})\n",
    "\n",
    "# change column names and add in the column of 'Avg Purchase Total per Person'\n",
    "pag.columns = ['Purchase Count','Avg Purchase Price','Total Purchase Value']\n",
    "pag['Avg Purchase Total per Person'] = pag['Total Purchase Value']/gd['Total Count']\n",
    "\n",
    "# # change currency format for the last three columns:\n",
    "pag.iloc[:,1:]='$' + round(pag.iloc[:,1:],2).astype(str)\n",
    "pag.head()\n"
   ]
  },
  {
   "cell_type": "markdown",
   "metadata": {},
   "source": [
    "---\n",
    "## Age Demographics"
   ]
  },
  {
   "cell_type": "markdown",
   "metadata": {},
   "source": [
    "* Establish bins for ages\n",
    "\n",
    "\n",
    "* Categorize the existing players using the age bins\n",
    "\n",
    "\n",
    "* Calculate the numbers and percentages by age group\n"
   ]
  },
  {
   "cell_type": "code",
   "execution_count": 6,
   "metadata": {
    "pycharm": {
     "is_executing": false,
     "name": "#%%\n"
    }
   },
   "outputs": [
    {
     "data": {
      "text/plain": "       Total Count  Percentage of Players\n<10             17                   2.95\n10-14           22                   3.82\n15-19          107                  18.58\n20-24          258                  44.79\n25-29           77                  13.37\n30-34           52                   9.03\n35-39           31                   5.38\n40+             12                   2.08",
      "text/html": "<div>\n<style scoped>\n    .dataframe tbody tr th:only-of-type {\n        vertical-align: middle;\n    }\n\n    .dataframe tbody tr th {\n        vertical-align: top;\n    }\n\n    .dataframe thead th {\n        text-align: right;\n    }\n</style>\n<table border=\"1\" class=\"dataframe\">\n  <thead>\n    <tr style=\"text-align: right;\">\n      <th></th>\n      <th>Total Count</th>\n      <th>Percentage of Players</th>\n    </tr>\n  </thead>\n  <tbody>\n    <tr>\n      <th>&lt;10</th>\n      <td>17</td>\n      <td>2.95</td>\n    </tr>\n    <tr>\n      <th>10-14</th>\n      <td>22</td>\n      <td>3.82</td>\n    </tr>\n    <tr>\n      <th>15-19</th>\n      <td>107</td>\n      <td>18.58</td>\n    </tr>\n    <tr>\n      <th>20-24</th>\n      <td>258</td>\n      <td>44.79</td>\n    </tr>\n    <tr>\n      <th>25-29</th>\n      <td>77</td>\n      <td>13.37</td>\n    </tr>\n    <tr>\n      <th>30-34</th>\n      <td>52</td>\n      <td>9.03</td>\n    </tr>\n    <tr>\n      <th>35-39</th>\n      <td>31</td>\n      <td>5.38</td>\n    </tr>\n    <tr>\n      <th>40+</th>\n      <td>12</td>\n      <td>2.08</td>\n    </tr>\n  </tbody>\n</table>\n</div>"
     },
     "metadata": {},
     "output_type": "execute_result",
     "execution_count": 6
    }
   ],
   "source": [
    "# bin number\n",
    "nbin = 5\n",
    "\n",
    "# Create bins in which to place values based upon Age\n",
    "binList = [i for i in range(9,40, nbin)]\n",
    "binList.insert(0,0)\n",
    "binList.append(150)\n",
    "\n",
    "# Create bin-labels\n",
    "bin_labels =[str(binList[i]+1)+ '-' + str(binList[i+1]) for i in range(len(binList)-1)]\n",
    "bin_labels[0]= '<' + str(binList[1]+1)\n",
    "bin_labels[-1]= str(binList[-2]+1) + '+'\n",
    "\n",
    "# OPTIONAL: make a backup for the original dataframe\n",
    "df_bk = df\n",
    "\n",
    "# add new column of Age bins into the original dataframe\n",
    "df['Age_Bin'] = pd.cut(df['Age'],binList,labels=bin_labels)\n",
    "\n",
    "# dataframe: all players with their ages (in bins)\n",
    "df2 = df.groupby(\"SN\").agg({\"Age_Bin\": 'min'})\n",
    "\n",
    "# series: counting ages (in bins) of all players\n",
    "ab = df2[\"Age_Bin\"].value_counts()\n",
    "\n",
    "# dataframe: all ages (in bins) of all players (in sorted order)\n",
    "ab = ab.to_frame(name='Total Count').reindex(bin_labels)\n",
    "ab['Percentage of Players'] = round(ab['Total Count']/np*100,2)\n",
    "ab\n"
   ]
  },
  {
   "cell_type": "markdown",
   "metadata": {},
   "source": [
    "---\n",
    "## Purchasing Analysis (Age)"
   ]
  },
  {
   "cell_type": "markdown",
   "metadata": {
    "pycharm": {
     "name": "#%% md\n"
    }
   },
   "source": [
    "* The below each broken into bins of 4 years (i.e. <10, 10-14, 15-19, etc.)\n",
    " * Purchase Count\n",
    " * Average Purchase Price\n",
    " * Total Purchase Value\n",
    " * Average Purchase Total per Person by Age Group\n",
    " "
   ]
  },
  {
   "cell_type": "code",
   "execution_count": 7,
   "metadata": {
    "pycharm": {
     "is_executing": false,
     "name": "#%%\n"
    }
   },
   "outputs": [
    {
     "data": {
      "text/plain": "         Purchase Count Avg Purchase Price Total Purchase Value  \\\nAge_Bin                                                           \n<10                  23              $3.35               $77.13   \n10-14                28              $2.96               $82.78   \n15-19               136              $3.04              $412.89   \n20-24               365              $3.05             $1114.06   \n25-29               101               $2.9               $293.0   \n30-34                73              $2.93               $214.0   \n35-39                41               $3.6              $147.67   \n40+                  13              $2.94               $38.24   \n\n        Avg Purchase Total per Person  \nAge_Bin                                \n<10                             $4.54  \n10-14                           $3.76  \n15-19                           $3.86  \n20-24                           $4.32  \n25-29                           $3.81  \n30-34                           $4.12  \n35-39                           $4.76  \n40+                             $3.19  ",
      "text/html": "<div>\n<style scoped>\n    .dataframe tbody tr th:only-of-type {\n        vertical-align: middle;\n    }\n\n    .dataframe tbody tr th {\n        vertical-align: top;\n    }\n\n    .dataframe thead th {\n        text-align: right;\n    }\n</style>\n<table border=\"1\" class=\"dataframe\">\n  <thead>\n    <tr style=\"text-align: right;\">\n      <th></th>\n      <th>Purchase Count</th>\n      <th>Avg Purchase Price</th>\n      <th>Total Purchase Value</th>\n      <th>Avg Purchase Total per Person</th>\n    </tr>\n    <tr>\n      <th>Age_Bin</th>\n      <th></th>\n      <th></th>\n      <th></th>\n      <th></th>\n    </tr>\n  </thead>\n  <tbody>\n    <tr>\n      <th>&lt;10</th>\n      <td>23</td>\n      <td>$3.35</td>\n      <td>$77.13</td>\n      <td>$4.54</td>\n    </tr>\n    <tr>\n      <th>10-14</th>\n      <td>28</td>\n      <td>$2.96</td>\n      <td>$82.78</td>\n      <td>$3.76</td>\n    </tr>\n    <tr>\n      <th>15-19</th>\n      <td>136</td>\n      <td>$3.04</td>\n      <td>$412.89</td>\n      <td>$3.86</td>\n    </tr>\n    <tr>\n      <th>20-24</th>\n      <td>365</td>\n      <td>$3.05</td>\n      <td>$1114.06</td>\n      <td>$4.32</td>\n    </tr>\n    <tr>\n      <th>25-29</th>\n      <td>101</td>\n      <td>$2.9</td>\n      <td>$293.0</td>\n      <td>$3.81</td>\n    </tr>\n    <tr>\n      <th>30-34</th>\n      <td>73</td>\n      <td>$2.93</td>\n      <td>$214.0</td>\n      <td>$4.12</td>\n    </tr>\n    <tr>\n      <th>35-39</th>\n      <td>41</td>\n      <td>$3.6</td>\n      <td>$147.67</td>\n      <td>$4.76</td>\n    </tr>\n    <tr>\n      <th>40+</th>\n      <td>13</td>\n      <td>$2.94</td>\n      <td>$38.24</td>\n      <td>$3.19</td>\n    </tr>\n  </tbody>\n</table>\n</div>"
     },
     "metadata": {},
     "output_type": "execute_result",
     "execution_count": 7
    }
   ],
   "source": [
    "# dataframe: purchase count, avg. purchase price, total purchase value by gender\n",
    "paa = df.groupby(\"Age_Bin\").agg({\"Purchase ID\": 'count' , \"Price\": ['mean','sum']})\n",
    "\n",
    "# change column names and add in the column of 'Avg Purchase Total per Person'\n",
    "paa.columns = ['Purchase Count','Avg Purchase Price','Total Purchase Value']\n",
    "paa['Avg Purchase Total per Person'] = paa['Total Purchase Value']/ab['Total Count']\n",
    "\n",
    "# change currency format for the last three columns:\n",
    "paa.iloc[:,1:]='$' + round(paa.iloc[:,1:],2).astype(str)\n",
    "paa\n"
   ]
  },
  {
   "cell_type": "markdown",
   "metadata": {
    "pycharm": {
     "is_executing": false,
     "name": "#%% md\n"
    }
   },
   "source": [
    "---\n",
    "## Top Spenders"
   ]
  },
  {
   "cell_type": "markdown",
   "metadata": {},
   "source": [
    "* Identify the the top 5 spenders in the game by total purchase value, then list (in a table):\n",
    " * SN\n",
    " * Purchase Count\n",
    " * Average Purchase Price\n",
    " * Total Purchase Value\n",
    " \n"
   ]
  },
  {
   "cell_type": "code",
   "execution_count": 8,
   "metadata": {
    "pycharm": {
     "is_executing": false,
     "name": "#%%\n"
    }
   },
   "outputs": [
    {
     "data": {
      "text/plain": "             Purchase Count Average Purchase Price Total Purchase Value\nSN                                                                     \nLisosia93                 5                  $3.79               $18.96\nIdastidru52               4                  $3.86               $15.45\nChamjask73                3                  $4.61               $13.83\nIral74                    4                   $3.4               $13.62\nIskadarya95               3                  $4.37                $13.1",
      "text/html": "<div>\n<style scoped>\n    .dataframe tbody tr th:only-of-type {\n        vertical-align: middle;\n    }\n\n    .dataframe tbody tr th {\n        vertical-align: top;\n    }\n\n    .dataframe thead th {\n        text-align: right;\n    }\n</style>\n<table border=\"1\" class=\"dataframe\">\n  <thead>\n    <tr style=\"text-align: right;\">\n      <th></th>\n      <th>Purchase Count</th>\n      <th>Average Purchase Price</th>\n      <th>Total Purchase Value</th>\n    </tr>\n    <tr>\n      <th>SN</th>\n      <th></th>\n      <th></th>\n      <th></th>\n    </tr>\n  </thead>\n  <tbody>\n    <tr>\n      <th>Lisosia93</th>\n      <td>5</td>\n      <td>$3.79</td>\n      <td>$18.96</td>\n    </tr>\n    <tr>\n      <th>Idastidru52</th>\n      <td>4</td>\n      <td>$3.86</td>\n      <td>$15.45</td>\n    </tr>\n    <tr>\n      <th>Chamjask73</th>\n      <td>3</td>\n      <td>$4.61</td>\n      <td>$13.83</td>\n    </tr>\n    <tr>\n      <th>Iral74</th>\n      <td>4</td>\n      <td>$3.4</td>\n      <td>$13.62</td>\n    </tr>\n    <tr>\n      <th>Iskadarya95</th>\n      <td>3</td>\n      <td>$4.37</td>\n      <td>$13.1</td>\n    </tr>\n  </tbody>\n</table>\n</div>"
     },
     "metadata": {},
     "output_type": "execute_result",
     "execution_count": 8
    }
   ],
   "source": [
    "# dataframe: purchase count and total purchase value by each player, SORTED by total purchase values\n",
    "df1 = df.groupby(\"SN\").agg({\"Purchase ID\": 'count',\"Price\": 'sum'}).sort_values('Price',ascending=False)\n",
    "\n",
    "# insert the column of 'Average Purchase Price' into the dataframe\n",
    "df1.insert(loc=1,column='Average Purchase Price', value=df1['Price']/df1['Purchase ID'])\n",
    "df1.columns= ['Purchase Count','Average Purchase Price','Total Purchase Value']\n",
    "\n",
    "# change currency format for the last two columns:\n",
    "df1.iloc[:,1:]='$' + round(df1.iloc[:,1:],2).astype(str)\n",
    "df1.head()\n",
    "\n"
   ]
  },
  {
   "cell_type": "markdown",
   "metadata": {},
   "source": [
    "---\n",
    "## Most Popular Items"
   ]
  },
  {
   "cell_type": "markdown",
   "metadata": {},
   "source": [
    "* Identify the 5 most popular items by purchase count, then list (in a table):\n",
    " * Item ID\n",
    " * Item Name\n",
    " * Item Price\n",
    " * Total Purchase Value\n",
    " \n"
   ]
  },
  {
   "cell_type": "code",
   "execution_count": 9,
   "metadata": {
    "pycharm": {
     "is_executing": false,
     "name": "#%%\n"
    }
   },
   "outputs": [
    {
     "data": {
      "text/plain": "                                            Item Name  Purchase Count  \\\nItem ID                                                                 \n178      Oathbreaker, Last Hope of the Breaking Storm              12   \n145                              Fiery Glass Crusader               9   \n108         Extraction, Quickblade Of Trembling Hands               9   \n82                                            Nirvana               9   \n19                      Pursuit, Cudgel of Necromancy               8   \n\n        Item Price Total Purchase Value  \nItem ID                                  \n178          $4.23               $50.76  \n145          $4.58               $41.22  \n108          $3.53               $31.77  \n82            $4.9                $44.1  \n19           $1.02                $8.16  ",
      "text/html": "<div>\n<style scoped>\n    .dataframe tbody tr th:only-of-type {\n        vertical-align: middle;\n    }\n\n    .dataframe tbody tr th {\n        vertical-align: top;\n    }\n\n    .dataframe thead th {\n        text-align: right;\n    }\n</style>\n<table border=\"1\" class=\"dataframe\">\n  <thead>\n    <tr style=\"text-align: right;\">\n      <th></th>\n      <th>Item Name</th>\n      <th>Purchase Count</th>\n      <th>Item Price</th>\n      <th>Total Purchase Value</th>\n    </tr>\n    <tr>\n      <th>Item ID</th>\n      <th></th>\n      <th></th>\n      <th></th>\n      <th></th>\n    </tr>\n  </thead>\n  <tbody>\n    <tr>\n      <th>178</th>\n      <td>Oathbreaker, Last Hope of the Breaking Storm</td>\n      <td>12</td>\n      <td>$4.23</td>\n      <td>$50.76</td>\n    </tr>\n    <tr>\n      <th>145</th>\n      <td>Fiery Glass Crusader</td>\n      <td>9</td>\n      <td>$4.58</td>\n      <td>$41.22</td>\n    </tr>\n    <tr>\n      <th>108</th>\n      <td>Extraction, Quickblade Of Trembling Hands</td>\n      <td>9</td>\n      <td>$3.53</td>\n      <td>$31.77</td>\n    </tr>\n    <tr>\n      <th>82</th>\n      <td>Nirvana</td>\n      <td>9</td>\n      <td>$4.9</td>\n      <td>$44.1</td>\n    </tr>\n    <tr>\n      <th>19</th>\n      <td>Pursuit, Cudgel of Necromancy</td>\n      <td>8</td>\n      <td>$1.02</td>\n      <td>$8.16</td>\n    </tr>\n  </tbody>\n</table>\n</div>"
     },
     "metadata": {},
     "output_type": "execute_result",
     "execution_count": 9
    }
   ],
   "source": [
    "# dataframe: item ID, item name, and item price of each item, \n",
    "df1 = df.groupby(\"Item ID\").agg({\"Item Name\": 'min',\"Purchase ID\": 'count', \"Price\":'min'})\n",
    "\n",
    "# insert the column of 'Total Purchase Value' into the dataframe\n",
    "df1['Total Purchase Value'] = df1['Purchase ID']*df1['Price']\n",
    "df1.columns= ['Item Name','Purchase Count','Item Price','Total Purchase Value']\n",
    "\n",
    "# SORTING dataframe by total purchase values\n",
    "df1Sorted = df1.sort_values('Purchase Count',ascending=False)\n",
    "\n",
    "# change currency format for the last two columns:\n",
    "df1Sorted.iloc[:,2:]='$' + round(df1Sorted.iloc[:,2:],2).astype(str)\n",
    "\n",
    "df1Sorted.head()\n"
   ]
  },
  {
   "cell_type": "markdown",
   "metadata": {
    "pycharm": {
     "name": "#%% md\n"
    }
   },
   "source": [
    "---\n",
    "## Most Profitable Items"
   ]
  },
  {
   "cell_type": "markdown",
   "metadata": {},
   "source": [
    "* Identify the 5 most profitable items by total purchase value, then list (in a table):\n",
    " * Item ID\n",
    " * Item Name\n",
    " * Item Price\n",
    " * Total Purchase Value\n",
    " \n"
   ]
  },
  {
   "cell_type": "code",
   "execution_count": 19,
   "metadata": {
    "pycharm": {
     "is_executing": false,
     "name": "#%%\n"
    }
   },
   "outputs": [
    {
     "data": {
      "text/plain": "                                            Item Name  Purchase Count  \\\nItem ID                                                                 \n178      Oathbreaker, Last Hope of the Breaking Storm              12   \n82                                            Nirvana               9   \n145                              Fiery Glass Crusader               9   \n92                                       Final Critic               8   \n103                                    Singed Scalpel               8   \n\n        Item Price Total Purchase Value  \nItem ID                                  \n178          $4.23               $50.76  \n82            $4.9                $44.1  \n145          $4.58               $41.22  \n92           $4.88               $39.04  \n103          $4.35                $34.8  ",
      "text/html": "<div>\n<style scoped>\n    .dataframe tbody tr th:only-of-type {\n        vertical-align: middle;\n    }\n\n    .dataframe tbody tr th {\n        vertical-align: top;\n    }\n\n    .dataframe thead th {\n        text-align: right;\n    }\n</style>\n<table border=\"1\" class=\"dataframe\">\n  <thead>\n    <tr style=\"text-align: right;\">\n      <th></th>\n      <th>Item Name</th>\n      <th>Purchase Count</th>\n      <th>Item Price</th>\n      <th>Total Purchase Value</th>\n    </tr>\n    <tr>\n      <th>Item ID</th>\n      <th></th>\n      <th></th>\n      <th></th>\n      <th></th>\n    </tr>\n  </thead>\n  <tbody>\n    <tr>\n      <th>178</th>\n      <td>Oathbreaker, Last Hope of the Breaking Storm</td>\n      <td>12</td>\n      <td>$4.23</td>\n      <td>$50.76</td>\n    </tr>\n    <tr>\n      <th>82</th>\n      <td>Nirvana</td>\n      <td>9</td>\n      <td>$4.9</td>\n      <td>$44.1</td>\n    </tr>\n    <tr>\n      <th>145</th>\n      <td>Fiery Glass Crusader</td>\n      <td>9</td>\n      <td>$4.58</td>\n      <td>$41.22</td>\n    </tr>\n    <tr>\n      <th>92</th>\n      <td>Final Critic</td>\n      <td>8</td>\n      <td>$4.88</td>\n      <td>$39.04</td>\n    </tr>\n    <tr>\n      <th>103</th>\n      <td>Singed Scalpel</td>\n      <td>8</td>\n      <td>$4.35</td>\n      <td>$34.8</td>\n    </tr>\n  </tbody>\n</table>\n</div>"
     },
     "metadata": {},
     "output_type": "execute_result",
     "execution_count": 19
    }
   ],
   "source": [
    "# SORTING dataframe by total purchase values\n",
    "df2Sorted = df1.sort_values('Total Purchase Value',ascending=False)\n",
    "\n",
    "# change currency format for the last two columns:\n",
    "df2Sorted.iloc[:,2:]='$' + round(df2Sorted.iloc[:,2:],2).astype(str)\n",
    "\n",
    "df2Sorted.head()\n"
   ]
  },
  {
   "cell_type": "markdown",
   "metadata": {
    "pycharm": {
     "name": "#%% md\n"
    }
   },
   "source": [
    "---\n",
    "## Three observable trends based on the data:"
   ]
  },
  {
   "cell_type": "markdown",
   "metadata": {},
   "source": [
    "1. Male players tends to purchase more optional items than other genders.\n",
    "\n",
    "2. Young people, especially who are from 15-29, are top spenders.\n",
    "\n",
    "3. Items with the high frequently purchase often make high profitable values, except for those whose prices are too low.\n"
   ]
  }
 ],
 "metadata": {
  "kernelspec": {
   "display_name": "Python 3",
   "language": "python",
   "name": "python3"
  },
  "language_info": {
   "codemirror_mode": {
    "name": "ipython",
    "version": 3
   },
   "file_extension": ".py",
   "mimetype": "text/x-python",
   "name": "python",
   "nbconvert_exporter": "python",
   "pygments_lexer": "ipython3",
   "version": "3.7.3"
  },
  "pycharm": {
   "stem_cell": {
    "cell_type": "raw",
    "metadata": {
     "collapsed": false
    },
    "source": []
   }
  }
 },
 "nbformat": 4,
 "nbformat_minor": 1
}