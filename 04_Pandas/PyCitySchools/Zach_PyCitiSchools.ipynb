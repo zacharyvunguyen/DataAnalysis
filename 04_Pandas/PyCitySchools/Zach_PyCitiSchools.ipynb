{
 "cells": [
  {
   "cell_type": "code",
   "execution_count": 2,
   "metadata": {
    "collapsed": true,
    "pycharm": {
     "is_executing": false,
     "name": "#%%\n"
    }
   },
   "outputs": [],
   "source": [
    "# Dependencies and Setup\n",
    "import pandas as pd\n",
    "import numpy as np\n",
    "\n",
    "# File to Load (Remember to Change These)\n",
    "school_data_to_load = \"Resources/schools_complete.csv\"\n",
    "student_data_to_load = \"Resources/students_complete.csv\"\n",
    "\n",
    "# Read School and Student Data File and store into Pandas Data Frames\n",
    "school_data = pd.read_csv(school_data_to_load)\n",
    "student_data = pd.read_csv(student_data_to_load)\n",
    "\n",
    "# Combine the data into a single dataset\n",
    "school_data_complete = pd.merge(student_data, school_data, how=\"left\", on=[\"school_name\", \"school_name\"])"
   ]
  },
  {
   "cell_type": "code",
   "execution_count": 3,
   "outputs": [
    {
     "data": {
      "text/plain": "   Student ID  student_name gender grade        school_name  reading_score  \\\n0           0  Paul Bradley      M   9th  Huang High School             66   \n1           1  Victor Smith      M  12th  Huang High School             94   \n\n   math_score  School ID      type  size   budget  \n0          79          0  District  2917  1910635  \n1          61          0  District  2917  1910635  ",
      "text/html": "<div>\n<style scoped>\n    .dataframe tbody tr th:only-of-type {\n        vertical-align: middle;\n    }\n\n    .dataframe tbody tr th {\n        vertical-align: top;\n    }\n\n    .dataframe thead th {\n        text-align: right;\n    }\n</style>\n<table border=\"1\" class=\"dataframe\">\n  <thead>\n    <tr style=\"text-align: right;\">\n      <th></th>\n      <th>Student ID</th>\n      <th>student_name</th>\n      <th>gender</th>\n      <th>grade</th>\n      <th>school_name</th>\n      <th>reading_score</th>\n      <th>math_score</th>\n      <th>School ID</th>\n      <th>type</th>\n      <th>size</th>\n      <th>budget</th>\n    </tr>\n  </thead>\n  <tbody>\n    <tr>\n      <th>0</th>\n      <td>0</td>\n      <td>Paul Bradley</td>\n      <td>M</td>\n      <td>9th</td>\n      <td>Huang High School</td>\n      <td>66</td>\n      <td>79</td>\n      <td>0</td>\n      <td>District</td>\n      <td>2917</td>\n      <td>1910635</td>\n    </tr>\n    <tr>\n      <th>1</th>\n      <td>1</td>\n      <td>Victor Smith</td>\n      <td>M</td>\n      <td>12th</td>\n      <td>Huang High School</td>\n      <td>94</td>\n      <td>61</td>\n      <td>0</td>\n      <td>District</td>\n      <td>2917</td>\n      <td>1910635</td>\n    </tr>\n  </tbody>\n</table>\n</div>"
     },
     "metadata": {},
     "output_type": "execute_result",
     "execution_count": 3
    }
   ],
   "source": [
    "### District Summary\n",
    "\n",
    "#* Create a high level snapshot (in table form) of the district's key metrics, including:\n",
    "#  * Total Schools\n",
    "#  * Total Students\n",
    "#  * Total Budget\n",
    "#  * Average Math Score\n",
    "#  * Average Reading Score\n",
    "#  * % Passing Math\n",
    "#  * % Passing Reading\n",
    "#  * Overall Passing Rate (Average of the above two)\n",
    "\n",
    "school_data_complete.head(2)"
   ],
   "metadata": {
    "collapsed": false,
    "pycharm": {
     "name": "#%%\n",
     "is_executing": false
    }
   }
  },
  {
   "cell_type": "code",
   "execution_count": 4,
   "outputs": [
    {
     "data": {
      "text/plain": "15"
     },
     "metadata": {},
     "output_type": "execute_result",
     "execution_count": 4
    }
   ],
   "source": [
    "#TOTAL SCHOOLS\n",
    "total_schools=school_data_complete['school_name'].value_counts().count()\n",
    "total_schools"
   ],
   "metadata": {
    "collapsed": false,
    "pycharm": {
     "name": "#%%\n",
     "is_executing": false
    }
   }
  },
  {
   "cell_type": "code",
   "execution_count": 5,
   "outputs": [
    {
     "data": {
      "text/plain": "39170"
     },
     "metadata": {},
     "output_type": "execute_result",
     "execution_count": 5
    }
   ],
   "source": [
    "#TOTAL STUDENTS\n",
    "total_students=school_data_complete['Student ID'].count()\n",
    "total_students"
   ],
   "metadata": {
    "collapsed": false,
    "pycharm": {
     "name": "#%%\n",
     "is_executing": false
    }
   }
  },
  {
   "cell_type": "code",
   "execution_count": 21,
   "outputs": [
    {
     "data": {
      "text/plain": "24649428"
     },
     "metadata": {},
     "output_type": "execute_result",
     "execution_count": 21
    }
   ],
   "source": [
    "#TOTAL BUDGET\n",
    "#total_budget=(school_data_complete.groupby('school_name').agg({\"budget\":'mean'})).sum()\n",
    "total_budget=(school_data_complete.groupby('school_name').budget.mean()).sum()\n",
    "total_budget\n"
   ],
   "metadata": {
    "collapsed": false,
    "pycharm": {
     "name": "#%%\n",
     "is_executing": false
    }
   }
  },
  {
   "cell_type": "code",
   "execution_count": 22,
   "outputs": [
    {
     "data": {
      "text/plain": "78.98537145774827"
     },
     "metadata": {},
     "output_type": "execute_result",
     "execution_count": 22
    }
   ],
   "source": [
    "#AVG MATH SCORE\n",
    "avg_math_score=school_data_complete['math_score'].mean()\n",
    "avg_math_score"
   ],
   "metadata": {
    "collapsed": false,
    "pycharm": {
     "name": "#%%\n",
     "is_executing": false
    }
   }
  },
  {
   "cell_type": "code",
   "execution_count": 23,
   "outputs": [
    {
     "data": {
      "text/plain": "81.87784018381414"
     },
     "metadata": {},
     "output_type": "execute_result",
     "execution_count": 23
    }
   ],
   "source": [
    "#AVG READING SCORE\n",
    "avg_reading_score=school_data_complete['reading_score'].mean()\n",
    "avg_reading_score"
   ],
   "metadata": {
    "collapsed": false,
    "pycharm": {
     "name": "#%%\n",
     "is_executing": false
    }
   }
  },
  {
   "cell_type": "code",
   "execution_count": 24,
   "outputs": [
    {
     "data": {
      "text/plain": "0.749808526933878"
     },
     "metadata": {},
     "output_type": "execute_result",
     "execution_count": 24
    }
   ],
   "source": [
    "#% Passing Math\n",
    "percent_passing_math=school_data_complete[school_data_complete.math_score>=70].math_score.count()/(total_students)\n",
    "percent_passing_math\n"
   ],
   "metadata": {
    "collapsed": false,
    "pycharm": {
     "name": "#%%\n",
     "is_executing": false
    }
   }
  },
  {
   "cell_type": "code",
   "execution_count": 25,
   "outputs": [
    {
     "data": {
      "text/plain": "0.8580546336482001"
     },
     "metadata": {},
     "output_type": "execute_result",
     "execution_count": 25
    }
   ],
   "source": [
    "#% Passing Reading\n",
    "percent_passing_reading=school_data_complete[school_data_complete.reading_score>=70].reading_score.count()/(total_students)\n",
    "percent_passing_reading"
   ],
   "metadata": {
    "collapsed": false,
    "pycharm": {
     "name": "#%%\n",
     "is_executing": false
    }
   }
  },
  {
   "cell_type": "code",
   "execution_count": 26,
   "outputs": [
    {
     "data": {
      "text/plain": "0.8039315802910391"
     },
     "metadata": {},
     "output_type": "execute_result",
     "execution_count": 26
    }
   ],
   "source": [
    "#Overall Passing Rate (Average of the above two)\n",
    "overall_passing_rate=(percent_passing_math+percent_passing_reading)/2\n",
    "overall_passing_rate\n"
   ],
   "metadata": {
    "collapsed": false,
    "pycharm": {
     "name": "#%%\n",
     "is_executing": false
    }
   }
  },
  {
   "cell_type": "code",
   "execution_count": 27,
   "outputs": [
    {
     "data": {
      "text/plain": "   Total School  Total Student  Total Budget  Average Math Score  \\\n0            15          39170      24649428           78.985371   \n\n   Average Reading Score  % Passing Math  % Passing Reading  \\\n0               81.87784        0.749809           0.858055   \n\n   Overall Passing Rate  \n0              0.803932  ",
      "text/html": "<div>\n<style scoped>\n    .dataframe tbody tr th:only-of-type {\n        vertical-align: middle;\n    }\n\n    .dataframe tbody tr th {\n        vertical-align: top;\n    }\n\n    .dataframe thead th {\n        text-align: right;\n    }\n</style>\n<table border=\"1\" class=\"dataframe\">\n  <thead>\n    <tr style=\"text-align: right;\">\n      <th></th>\n      <th>Total School</th>\n      <th>Total Student</th>\n      <th>Total Budget</th>\n      <th>Average Math Score</th>\n      <th>Average Reading Score</th>\n      <th>% Passing Math</th>\n      <th>% Passing Reading</th>\n      <th>Overall Passing Rate</th>\n    </tr>\n  </thead>\n  <tbody>\n    <tr>\n      <th>0</th>\n      <td>15</td>\n      <td>39170</td>\n      <td>24649428</td>\n      <td>78.985371</td>\n      <td>81.87784</td>\n      <td>0.749809</td>\n      <td>0.858055</td>\n      <td>0.803932</td>\n    </tr>\n  </tbody>\n</table>\n</div>"
     },
     "metadata": {},
     "output_type": "execute_result",
     "execution_count": 27
    }
   ],
   "source": [
    "# Create a dataframe to hold the above results#\n",
    "# Optional: give the displayed data cleaner formatting\n",
    "district_summary=pd.DataFrame({\"Total School\":[total_schools],\n",
    "                               \"Total Student\":[total_students],\n",
    "                               \"Total Budget\":[total_budget],\n",
    "                               \"Average Math Score\":[avg_math_score],\n",
    "                               \"Average Reading Score\":[avg_reading_score],\n",
    "                               \"% Passing Math\":[percent_passing_math],\n",
    "                               \"% Passing Reading\":[percent_passing_reading],\n",
    "                               \"Overall Passing Rate\":[overall_passing_rate]})\n",
    "district_summary\n"
   ],
   "metadata": {
    "collapsed": false,
    "pycharm": {
     "name": "#%%\n",
     "is_executing": false
    }
   }
  },
  {
   "cell_type": "code",
   "execution_count": 28,
   "outputs": [
    {
     "data": {
      "text/plain": "Index(['Student ID', 'student_name', 'gender', 'grade', 'school_name',\n       'reading_score', 'math_score', 'School ID', 'type', 'size', 'budget'],\n      dtype='object')"
     },
     "metadata": {},
     "output_type": "execute_result",
     "execution_count": 28
    }
   ],
   "source": [
    "#* Create an overview table that summarizes key metrics about each school, including:\n",
    "#  * School Name\n",
    "#  * School Type\n",
    "#  * Total Students\n",
    "#  * Total School Budget\n",
    "#  * Per Student Budget\n",
    "#  * Average Math Score\n",
    "#  * Average Reading Score\n",
    "#  * % Passing Math\n",
    "#  * % Passing Reading\n",
    "#  * Overall Passing Rate (Average of the above two)\n",
    "school_data_complete.columns\n"
   ],
   "metadata": {
    "collapsed": false,
    "pycharm": {
     "name": "#%%\n",
     "is_executing": false
    }
   }
  },
  {
   "cell_type": "code",
   "execution_count": 40,
   "outputs": [
    {
     "data": {
      "text/plain": "                                Student ID   budget  math_score  reading_score\nschool_name           type                                                    \nBailey High School    District        4976  3124928   77.048432      81.033963\nCabrera High School   Charter         1858  1081356   83.061895      83.975780\nFigueroa High School  District        2949  1884411   76.711767      81.158020\nFord High School      District        2739  1763916   77.102592      80.746258\nGriffin High School   Charter         1468   917500   83.351499      83.816757\nHernandez High School District        4635  3022020   77.289752      80.934412\nHolden High School    Charter          427   248087   83.803279      83.814988\nHuang High School     District        2917  1910635   76.629414      81.182722\nJohnson High School   District        4761  3094650   77.072464      80.966394\nPena High School      Charter          962   585858   83.839917      84.044699\nRodriguez High School District        3999  2547363   76.842711      80.744686\nShelton High School   Charter         1761  1056600   83.359455      83.725724\nThomas High School    Charter         1635  1043130   83.418349      83.848930\nWilson High School    Charter         2283  1319574   83.274201      83.989488\nWright High School    Charter         1800  1049400   83.682222      83.955000",
      "text/html": "<div>\n<style scoped>\n    .dataframe tbody tr th:only-of-type {\n        vertical-align: middle;\n    }\n\n    .dataframe tbody tr th {\n        vertical-align: top;\n    }\n\n    .dataframe thead th {\n        text-align: right;\n    }\n</style>\n<table border=\"1\" class=\"dataframe\">\n  <thead>\n    <tr style=\"text-align: right;\">\n      <th></th>\n      <th></th>\n      <th>Student ID</th>\n      <th>budget</th>\n      <th>math_score</th>\n      <th>reading_score</th>\n    </tr>\n    <tr>\n      <th>school_name</th>\n      <th>type</th>\n      <th></th>\n      <th></th>\n      <th></th>\n      <th></th>\n    </tr>\n  </thead>\n  <tbody>\n    <tr>\n      <th>Bailey High School</th>\n      <th>District</th>\n      <td>4976</td>\n      <td>3124928</td>\n      <td>77.048432</td>\n      <td>81.033963</td>\n    </tr>\n    <tr>\n      <th>Cabrera High School</th>\n      <th>Charter</th>\n      <td>1858</td>\n      <td>1081356</td>\n      <td>83.061895</td>\n      <td>83.975780</td>\n    </tr>\n    <tr>\n      <th>Figueroa High School</th>\n      <th>District</th>\n      <td>2949</td>\n      <td>1884411</td>\n      <td>76.711767</td>\n      <td>81.158020</td>\n    </tr>\n    <tr>\n      <th>Ford High School</th>\n      <th>District</th>\n      <td>2739</td>\n      <td>1763916</td>\n      <td>77.102592</td>\n      <td>80.746258</td>\n    </tr>\n    <tr>\n      <th>Griffin High School</th>\n      <th>Charter</th>\n      <td>1468</td>\n      <td>917500</td>\n      <td>83.351499</td>\n      <td>83.816757</td>\n    </tr>\n    <tr>\n      <th>Hernandez High School</th>\n      <th>District</th>\n      <td>4635</td>\n      <td>3022020</td>\n      <td>77.289752</td>\n      <td>80.934412</td>\n    </tr>\n    <tr>\n      <th>Holden High School</th>\n      <th>Charter</th>\n      <td>427</td>\n      <td>248087</td>\n      <td>83.803279</td>\n      <td>83.814988</td>\n    </tr>\n    <tr>\n      <th>Huang High School</th>\n      <th>District</th>\n      <td>2917</td>\n      <td>1910635</td>\n      <td>76.629414</td>\n      <td>81.182722</td>\n    </tr>\n    <tr>\n      <th>Johnson High School</th>\n      <th>District</th>\n      <td>4761</td>\n      <td>3094650</td>\n      <td>77.072464</td>\n      <td>80.966394</td>\n    </tr>\n    <tr>\n      <th>Pena High School</th>\n      <th>Charter</th>\n      <td>962</td>\n      <td>585858</td>\n      <td>83.839917</td>\n      <td>84.044699</td>\n    </tr>\n    <tr>\n      <th>Rodriguez High School</th>\n      <th>District</th>\n      <td>3999</td>\n      <td>2547363</td>\n      <td>76.842711</td>\n      <td>80.744686</td>\n    </tr>\n    <tr>\n      <th>Shelton High School</th>\n      <th>Charter</th>\n      <td>1761</td>\n      <td>1056600</td>\n      <td>83.359455</td>\n      <td>83.725724</td>\n    </tr>\n    <tr>\n      <th>Thomas High School</th>\n      <th>Charter</th>\n      <td>1635</td>\n      <td>1043130</td>\n      <td>83.418349</td>\n      <td>83.848930</td>\n    </tr>\n    <tr>\n      <th>Wilson High School</th>\n      <th>Charter</th>\n      <td>2283</td>\n      <td>1319574</td>\n      <td>83.274201</td>\n      <td>83.989488</td>\n    </tr>\n    <tr>\n      <th>Wright High School</th>\n      <th>Charter</th>\n      <td>1800</td>\n      <td>1049400</td>\n      <td>83.682222</td>\n      <td>83.955000</td>\n    </tr>\n  </tbody>\n</table>\n</div>"
     },
     "metadata": {},
     "output_type": "execute_result",
     "execution_count": 40
    }
   ],
   "source": [
    "school_summary=school_data_complete.groupby([\"school_name\",\"type\"]).agg({\"Student ID\":'count',\n",
    "                                                                         \"budget\":'first',\n",
    "                                                                         'math_score':'mean',\n",
    "                                                                         'reading_score':'mean'})\n",
    "school_summary"
   ],
   "metadata": {
    "collapsed": false,
    "pycharm": {
     "name": "#%%\n",
     "is_executing": false
    }
   }
  },
  {
   "cell_type": "code",
   "execution_count": 47,
   "outputs": [
    {
     "data": {
      "text/plain": "                                Student ID   budget  math_score  \\\nschool_name           type                                        \nBailey High School    District        4976  3124928   77.048432   \nCabrera High School   Charter         1858  1081356   83.061895   \nFigueroa High School  District        2949  1884411   76.711767   \nFord High School      District        2739  1763916   77.102592   \nGriffin High School   Charter         1468   917500   83.351499   \nHernandez High School District        4635  3022020   77.289752   \nHolden High School    Charter          427   248087   83.803279   \nHuang High School     District        2917  1910635   76.629414   \nJohnson High School   District        4761  3094650   77.072464   \nPena High School      Charter          962   585858   83.839917   \nRodriguez High School District        3999  2547363   76.842711   \nShelton High School   Charter         1761  1056600   83.359455   \nThomas High School    Charter         1635  1043130   83.418349   \nWilson High School    Charter         2283  1319574   83.274201   \nWright High School    Charter         1800  1049400   83.682222   \n\n                                reading_score  % Passing Math  \\\nschool_name           type                                      \nBailey High School    District      81.033963       66.680064   \nCabrera High School   Charter       83.975780       94.133477   \nFigueroa High School  District      81.158020       65.988471   \nFord High School      District      80.746258       68.309602   \nGriffin High School   Charter       83.816757       93.392371   \nHernandez High School District      80.934412       66.752967   \nHolden High School    Charter       83.814988       92.505855   \nHuang High School     District      81.182722       65.683922   \nJohnson High School   District      80.966394       66.057551   \nPena High School      Charter       84.044699       94.594595   \nRodriguez High School District      80.744686       66.366592   \nShelton High School   Charter       83.725724       93.867121   \nThomas High School    Charter       83.848930       93.272171   \nWilson High School    Charter       83.989488       93.867718   \nWright High School    Charter       83.955000       93.333333   \n\n                                % Passing Reading  Overall Passing Rate  \nschool_name           type                                               \nBailey High School    District          81.933280             74.306672  \nCabrera High School   Charter           97.039828             95.586652  \nFigueroa High School  District          80.739234             73.363852  \nFord High School      District          79.299014             73.804308  \nGriffin High School   Charter           97.138965             95.265668  \nHernandez High School District          80.862999             73.807983  \nHolden High School    Charter           96.252927             94.379391  \nHuang High School     District          81.316421             73.500171  \nJohnson High School   District          81.222432             73.639992  \nPena High School      Charter           95.945946             95.270270  \nRodriguez High School District          80.220055             73.293323  \nShelton High School   Charter           95.854628             94.860875  \nThomas High School    Charter           97.308869             95.290520  \nWilson High School    Charter           96.539641             95.203679  \nWright High School    Charter           96.611111             94.972222  ",
      "text/html": "<div>\n<style scoped>\n    .dataframe tbody tr th:only-of-type {\n        vertical-align: middle;\n    }\n\n    .dataframe tbody tr th {\n        vertical-align: top;\n    }\n\n    .dataframe thead th {\n        text-align: right;\n    }\n</style>\n<table border=\"1\" class=\"dataframe\">\n  <thead>\n    <tr style=\"text-align: right;\">\n      <th></th>\n      <th></th>\n      <th>Student ID</th>\n      <th>budget</th>\n      <th>math_score</th>\n      <th>reading_score</th>\n      <th>% Passing Math</th>\n      <th>% Passing Reading</th>\n      <th>Overall Passing Rate</th>\n    </tr>\n    <tr>\n      <th>school_name</th>\n      <th>type</th>\n      <th></th>\n      <th></th>\n      <th></th>\n      <th></th>\n      <th></th>\n      <th></th>\n      <th></th>\n    </tr>\n  </thead>\n  <tbody>\n    <tr>\n      <th>Bailey High School</th>\n      <th>District</th>\n      <td>4976</td>\n      <td>3124928</td>\n      <td>77.048432</td>\n      <td>81.033963</td>\n      <td>66.680064</td>\n      <td>81.933280</td>\n      <td>74.306672</td>\n    </tr>\n    <tr>\n      <th>Cabrera High School</th>\n      <th>Charter</th>\n      <td>1858</td>\n      <td>1081356</td>\n      <td>83.061895</td>\n      <td>83.975780</td>\n      <td>94.133477</td>\n      <td>97.039828</td>\n      <td>95.586652</td>\n    </tr>\n    <tr>\n      <th>Figueroa High School</th>\n      <th>District</th>\n      <td>2949</td>\n      <td>1884411</td>\n      <td>76.711767</td>\n      <td>81.158020</td>\n      <td>65.988471</td>\n      <td>80.739234</td>\n      <td>73.363852</td>\n    </tr>\n    <tr>\n      <th>Ford High School</th>\n      <th>District</th>\n      <td>2739</td>\n      <td>1763916</td>\n      <td>77.102592</td>\n      <td>80.746258</td>\n      <td>68.309602</td>\n      <td>79.299014</td>\n      <td>73.804308</td>\n    </tr>\n    <tr>\n      <th>Griffin High School</th>\n      <th>Charter</th>\n      <td>1468</td>\n      <td>917500</td>\n      <td>83.351499</td>\n      <td>83.816757</td>\n      <td>93.392371</td>\n      <td>97.138965</td>\n      <td>95.265668</td>\n    </tr>\n    <tr>\n      <th>Hernandez High School</th>\n      <th>District</th>\n      <td>4635</td>\n      <td>3022020</td>\n      <td>77.289752</td>\n      <td>80.934412</td>\n      <td>66.752967</td>\n      <td>80.862999</td>\n      <td>73.807983</td>\n    </tr>\n    <tr>\n      <th>Holden High School</th>\n      <th>Charter</th>\n      <td>427</td>\n      <td>248087</td>\n      <td>83.803279</td>\n      <td>83.814988</td>\n      <td>92.505855</td>\n      <td>96.252927</td>\n      <td>94.379391</td>\n    </tr>\n    <tr>\n      <th>Huang High School</th>\n      <th>District</th>\n      <td>2917</td>\n      <td>1910635</td>\n      <td>76.629414</td>\n      <td>81.182722</td>\n      <td>65.683922</td>\n      <td>81.316421</td>\n      <td>73.500171</td>\n    </tr>\n    <tr>\n      <th>Johnson High School</th>\n      <th>District</th>\n      <td>4761</td>\n      <td>3094650</td>\n      <td>77.072464</td>\n      <td>80.966394</td>\n      <td>66.057551</td>\n      <td>81.222432</td>\n      <td>73.639992</td>\n    </tr>\n    <tr>\n      <th>Pena High School</th>\n      <th>Charter</th>\n      <td>962</td>\n      <td>585858</td>\n      <td>83.839917</td>\n      <td>84.044699</td>\n      <td>94.594595</td>\n      <td>95.945946</td>\n      <td>95.270270</td>\n    </tr>\n    <tr>\n      <th>Rodriguez High School</th>\n      <th>District</th>\n      <td>3999</td>\n      <td>2547363</td>\n      <td>76.842711</td>\n      <td>80.744686</td>\n      <td>66.366592</td>\n      <td>80.220055</td>\n      <td>73.293323</td>\n    </tr>\n    <tr>\n      <th>Shelton High School</th>\n      <th>Charter</th>\n      <td>1761</td>\n      <td>1056600</td>\n      <td>83.359455</td>\n      <td>83.725724</td>\n      <td>93.867121</td>\n      <td>95.854628</td>\n      <td>94.860875</td>\n    </tr>\n    <tr>\n      <th>Thomas High School</th>\n      <th>Charter</th>\n      <td>1635</td>\n      <td>1043130</td>\n      <td>83.418349</td>\n      <td>83.848930</td>\n      <td>93.272171</td>\n      <td>97.308869</td>\n      <td>95.290520</td>\n    </tr>\n    <tr>\n      <th>Wilson High School</th>\n      <th>Charter</th>\n      <td>2283</td>\n      <td>1319574</td>\n      <td>83.274201</td>\n      <td>83.989488</td>\n      <td>93.867718</td>\n      <td>96.539641</td>\n      <td>95.203679</td>\n    </tr>\n    <tr>\n      <th>Wright High School</th>\n      <th>Charter</th>\n      <td>1800</td>\n      <td>1049400</td>\n      <td>83.682222</td>\n      <td>83.955000</td>\n      <td>93.333333</td>\n      <td>96.611111</td>\n      <td>94.972222</td>\n    </tr>\n  </tbody>\n</table>\n</div>"
     },
     "metadata": {},
     "output_type": "execute_result",
     "execution_count": 47
    }
   ],
   "source": [
    "passing_math_perschool=(school_data_complete[school_data_complete.math_score>=70].groupby(\"school_name\"))['Student ID'].count()\n",
    "passing_reading_perschool=(school_data_complete[school_data_complete.reading_score>=70].groupby(\"school_name\"))['Student ID'].count()\n",
    "\n",
    "school_summary['% Passing Math']=passing_math_perschool*100/(school_summary['Student ID'])\n",
    "school_summary['% Passing Reading']=passing_reading_perschool*100/(school_summary['Student ID'])\n",
    "school_summary['Overall Passing Rate']=(school_summary['% Passing Math']+school_summary['% Passing Reading'])/2\n",
    "school_summary"
   ],
   "metadata": {
    "collapsed": false,
    "pycharm": {
     "name": "#%%\n",
     "is_executing": false
    }
   }
  },
  {
   "cell_type": "code",
   "execution_count": null,
   "outputs": [],
   "source": [
    "\n"
   ],
   "metadata": {
    "collapsed": false,
    "pycharm": {
     "name": "#%%\n"
    }
   }
  }
 ],
 "metadata": {
  "language_info": {
   "codemirror_mode": {
    "name": "ipython",
    "version": 2
   },
   "file_extension": ".py",
   "mimetype": "text/x-python",
   "name": "python",
   "nbconvert_exporter": "python",
   "pygments_lexer": "ipython2",
   "version": "2.7.6"
  },
  "kernelspec": {
   "name": "python3",
   "language": "python",
   "display_name": "Python 3"
  },
  "pycharm": {
   "stem_cell": {
    "cell_type": "raw",
    "source": [],
    "metadata": {
     "collapsed": false
    }
   }
  }
 },
 "nbformat": 4,
 "nbformat_minor": 0
}