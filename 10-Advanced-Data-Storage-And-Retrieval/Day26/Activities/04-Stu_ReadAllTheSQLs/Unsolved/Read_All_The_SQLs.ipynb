{
 "cells": [
  {
   "cell_type": "code",
   "execution_count": 1,
   "metadata": {
    "collapsed": true,
    "pycharm": {
     "is_executing": false
    }
   },
   "outputs": [],
   "source": [
    "# Pandas\n",
    "import pandas as pd\n",
    "\n",
    "# SQL Alchemy\n",
    "from sqlalchemy import create_engine"
   ]
  },
  {
   "cell_type": "code",
   "execution_count": 6,
   "metadata": {
    "pycharm": {
     "is_executing": false
    }
   },
   "outputs": [],
   "source": [
    "# Create a connection to the Census database\n",
    "database_path = \"../Resources/Census_Data.sqlite\"\n",
    "engine = create_engine(f\"sqlite:///{database_path}\")\n",
    "conn = engine.connect()"
   ]
  },
  {
   "cell_type": "code",
   "execution_count": 7,
   "metadata": {
    "collapsed": true,
    "pycharm": {
     "is_executing": false
    }
   },
   "outputs": [
    {
     "data": {
      "text/plain": "         CityState         city state  Population  White Population  \\\n0      HOUSTON, TX      HOUSTON    TX     3061887           1775897   \n1      CHICAGO, IL      CHICAGO    IL     2702091           1318869   \n2     BROOKLYN, NY     BROOKLYN    NY     2595259           1126111   \n3  LOS ANGELES, CA  LOS ANGELES    CA     2426413           1068202   \n4        MIAMI, FL        MIAMI    FL     1820704           1361009   \n\n   Black Population  Native American Population  Asian Population  \\\n0            684416                       11586            230549   \n1            843633                        7554            161478   \n2            870465                        8744            297890   \n3            324842                       15949            273829   \n4            363514                        2250             33144   \n\n   Hispanic Population  Education None  ...  \\\n0              1368287           54180  ...   \n1               785374           32800  ...   \n2               509243           48934  ...   \n3              1292382           62684  ...   \n4              1162711           27137  ...   \n\n   Employment Female Computer Engineering  Median Age  Median Male Age  \\\n0                                   22637   33.439583        32.550000   \n1                                   18209   34.526786        33.798214   \n2                                   14845   35.175676        33.367568   \n3                                   12329   35.335484        34.535484   \n4                                    6969   38.740741        37.120370   \n\n   Median Female Age  Household Income  Income Per Capita  Median Gross Rent  \\\n0          34.363542       56206.50000        32239.52083         956.708333   \n1          35.141071       57735.96429        38730.83929        1119.928571   \n2          36.578378       51469.18919        28309.67568        1261.783784   \n3          36.061290       47494.58333        30073.19355        1201.766667   \n4          40.262963       51232.90741        25949.35185        1260.833333   \n\n   Median Home Value        lat         lng  \n0        178233.6842  29.775734  -95.414548  \n1        264739.2857  41.867838  -87.673440  \n2        605743.2432  40.652805  -73.956528  \n3        557115.0000  34.042209 -118.303468  \n4        243279.6296  25.760268  -80.298511  \n\n[5 rows x 31 columns]",
      "text/html": "<div>\n<style scoped>\n    .dataframe tbody tr th:only-of-type {\n        vertical-align: middle;\n    }\n\n    .dataframe tbody tr th {\n        vertical-align: top;\n    }\n\n    .dataframe thead th {\n        text-align: right;\n    }\n</style>\n<table border=\"1\" class=\"dataframe\">\n  <thead>\n    <tr style=\"text-align: right;\">\n      <th></th>\n      <th>CityState</th>\n      <th>city</th>\n      <th>state</th>\n      <th>Population</th>\n      <th>White Population</th>\n      <th>Black Population</th>\n      <th>Native American Population</th>\n      <th>Asian Population</th>\n      <th>Hispanic Population</th>\n      <th>Education None</th>\n      <th>...</th>\n      <th>Employment Female Computer Engineering</th>\n      <th>Median Age</th>\n      <th>Median Male Age</th>\n      <th>Median Female Age</th>\n      <th>Household Income</th>\n      <th>Income Per Capita</th>\n      <th>Median Gross Rent</th>\n      <th>Median Home Value</th>\n      <th>lat</th>\n      <th>lng</th>\n    </tr>\n  </thead>\n  <tbody>\n    <tr>\n      <th>0</th>\n      <td>HOUSTON, TX</td>\n      <td>HOUSTON</td>\n      <td>TX</td>\n      <td>3061887</td>\n      <td>1775897</td>\n      <td>684416</td>\n      <td>11586</td>\n      <td>230549</td>\n      <td>1368287</td>\n      <td>54180</td>\n      <td>...</td>\n      <td>22637</td>\n      <td>33.439583</td>\n      <td>32.550000</td>\n      <td>34.363542</td>\n      <td>56206.50000</td>\n      <td>32239.52083</td>\n      <td>956.708333</td>\n      <td>178233.6842</td>\n      <td>29.775734</td>\n      <td>-95.414548</td>\n    </tr>\n    <tr>\n      <th>1</th>\n      <td>CHICAGO, IL</td>\n      <td>CHICAGO</td>\n      <td>IL</td>\n      <td>2702091</td>\n      <td>1318869</td>\n      <td>843633</td>\n      <td>7554</td>\n      <td>161478</td>\n      <td>785374</td>\n      <td>32800</td>\n      <td>...</td>\n      <td>18209</td>\n      <td>34.526786</td>\n      <td>33.798214</td>\n      <td>35.141071</td>\n      <td>57735.96429</td>\n      <td>38730.83929</td>\n      <td>1119.928571</td>\n      <td>264739.2857</td>\n      <td>41.867838</td>\n      <td>-87.673440</td>\n    </tr>\n    <tr>\n      <th>2</th>\n      <td>BROOKLYN, NY</td>\n      <td>BROOKLYN</td>\n      <td>NY</td>\n      <td>2595259</td>\n      <td>1126111</td>\n      <td>870465</td>\n      <td>8744</td>\n      <td>297890</td>\n      <td>509243</td>\n      <td>48934</td>\n      <td>...</td>\n      <td>14845</td>\n      <td>35.175676</td>\n      <td>33.367568</td>\n      <td>36.578378</td>\n      <td>51469.18919</td>\n      <td>28309.67568</td>\n      <td>1261.783784</td>\n      <td>605743.2432</td>\n      <td>40.652805</td>\n      <td>-73.956528</td>\n    </tr>\n    <tr>\n      <th>3</th>\n      <td>LOS ANGELES, CA</td>\n      <td>LOS ANGELES</td>\n      <td>CA</td>\n      <td>2426413</td>\n      <td>1068202</td>\n      <td>324842</td>\n      <td>15949</td>\n      <td>273829</td>\n      <td>1292382</td>\n      <td>62684</td>\n      <td>...</td>\n      <td>12329</td>\n      <td>35.335484</td>\n      <td>34.535484</td>\n      <td>36.061290</td>\n      <td>47494.58333</td>\n      <td>30073.19355</td>\n      <td>1201.766667</td>\n      <td>557115.0000</td>\n      <td>34.042209</td>\n      <td>-118.303468</td>\n    </tr>\n    <tr>\n      <th>4</th>\n      <td>MIAMI, FL</td>\n      <td>MIAMI</td>\n      <td>FL</td>\n      <td>1820704</td>\n      <td>1361009</td>\n      <td>363514</td>\n      <td>2250</td>\n      <td>33144</td>\n      <td>1162711</td>\n      <td>27137</td>\n      <td>...</td>\n      <td>6969</td>\n      <td>38.740741</td>\n      <td>37.120370</td>\n      <td>40.262963</td>\n      <td>51232.90741</td>\n      <td>25949.35185</td>\n      <td>1260.833333</td>\n      <td>243279.6296</td>\n      <td>25.760268</td>\n      <td>-80.298511</td>\n    </tr>\n  </tbody>\n</table>\n<p>5 rows × 31 columns</p>\n</div>"
     },
     "metadata": {},
     "output_type": "execute_result",
     "execution_count": 7
    }
   ],
   "source": [
    "# Query All Records in the the City Table\n",
    "city_data = pd.read_sql(\"SELECT * FROM Census_Data\", conn)\n",
    "city_data.head()"
   ]
  },
  {
   "cell_type": "code",
   "execution_count": 9,
   "metadata": {
    "pycharm": {
     "is_executing": false
    }
   },
   "outputs": [],
   "source": [
    "# Create a connection to the Zip database\n",
    "zip_path= \"../Resources/zip_census.sqlite\"\n",
    "engine_zip = create_engine(f\"sqlite:///{zip_path}\")\n",
    "conn_zip=engine_zip.connect()"
   ]
  },
  {
   "cell_type": "code",
   "execution_count": 11,
   "metadata": {
    "collapsed": true,
    "pycharm": {
     "is_executing": false
    }
   },
   "outputs": [
    {
     "data": {
      "text/plain": "   Median Age  Median Male Age  Median Female Age  Population  \\\n0        37.6             36.5               39.0       17982   \n1        39.5             38.6               40.3       40260   \n2        39.9             37.7               41.4       52408   \n3        40.8             41.0               40.3        6331   \n4        40.2             36.9               42.2       28328   \n\n   White Population  Black Population  Native American Population  \\\n0             16956               102                          14   \n1             23144               693                           8   \n2             36177              2057                          76   \n3              4399               151                           0   \n4             17791               950                           0   \n\n   Asian Population  Hispanic Population  Education None  ...  \\\n0                 0                17942             456  ...   \n1                72                37681             955  ...   \n2               655                50437            1014  ...   \n3                 0                 6323             188  ...   \n4                26                27999             377  ...   \n\n   Median Gross Rent  Median Home Value  Employment Male Computer Engineering  \\\n0                359             104500                                    60   \n1                395              90200                                   211   \n2                384             128400                                   362   \n3                280             108500                                     9   \n4                424             113200                                   126   \n\n   Employment Female Computer Engineering  zipcode        lat        lng  \\\n0                                      21    00601  18.180555 -66.749961   \n1                                      85    00602  18.361945 -67.175597   \n2                                     150    00603  18.455183 -67.119887   \n3                                       0    00606  18.158345 -66.932911   \n4                                      45    00610  18.295366 -67.125135   \n\n        city  state      CityState  \n0   ADJUNTAS     PR   ADJUNTAS, PR  \n1     AGUADA     PR     AGUADA, PR  \n2  AGUADILLA     PR  AGUADILLA, PR  \n3    MARICAO     PR    MARICAO, PR  \n4     ANASCO     PR     ANASCO, PR  \n\n[5 rows x 32 columns]",
      "text/html": "<div>\n<style scoped>\n    .dataframe tbody tr th:only-of-type {\n        vertical-align: middle;\n    }\n\n    .dataframe tbody tr th {\n        vertical-align: top;\n    }\n\n    .dataframe thead th {\n        text-align: right;\n    }\n</style>\n<table border=\"1\" class=\"dataframe\">\n  <thead>\n    <tr style=\"text-align: right;\">\n      <th></th>\n      <th>Median Age</th>\n      <th>Median Male Age</th>\n      <th>Median Female Age</th>\n      <th>Population</th>\n      <th>White Population</th>\n      <th>Black Population</th>\n      <th>Native American Population</th>\n      <th>Asian Population</th>\n      <th>Hispanic Population</th>\n      <th>Education None</th>\n      <th>...</th>\n      <th>Median Gross Rent</th>\n      <th>Median Home Value</th>\n      <th>Employment Male Computer Engineering</th>\n      <th>Employment Female Computer Engineering</th>\n      <th>zipcode</th>\n      <th>lat</th>\n      <th>lng</th>\n      <th>city</th>\n      <th>state</th>\n      <th>CityState</th>\n    </tr>\n  </thead>\n  <tbody>\n    <tr>\n      <th>0</th>\n      <td>37.6</td>\n      <td>36.5</td>\n      <td>39.0</td>\n      <td>17982</td>\n      <td>16956</td>\n      <td>102</td>\n      <td>14</td>\n      <td>0</td>\n      <td>17942</td>\n      <td>456</td>\n      <td>...</td>\n      <td>359</td>\n      <td>104500</td>\n      <td>60</td>\n      <td>21</td>\n      <td>00601</td>\n      <td>18.180555</td>\n      <td>-66.749961</td>\n      <td>ADJUNTAS</td>\n      <td>PR</td>\n      <td>ADJUNTAS, PR</td>\n    </tr>\n    <tr>\n      <th>1</th>\n      <td>39.5</td>\n      <td>38.6</td>\n      <td>40.3</td>\n      <td>40260</td>\n      <td>23144</td>\n      <td>693</td>\n      <td>8</td>\n      <td>72</td>\n      <td>37681</td>\n      <td>955</td>\n      <td>...</td>\n      <td>395</td>\n      <td>90200</td>\n      <td>211</td>\n      <td>85</td>\n      <td>00602</td>\n      <td>18.361945</td>\n      <td>-67.175597</td>\n      <td>AGUADA</td>\n      <td>PR</td>\n      <td>AGUADA, PR</td>\n    </tr>\n    <tr>\n      <th>2</th>\n      <td>39.9</td>\n      <td>37.7</td>\n      <td>41.4</td>\n      <td>52408</td>\n      <td>36177</td>\n      <td>2057</td>\n      <td>76</td>\n      <td>655</td>\n      <td>50437</td>\n      <td>1014</td>\n      <td>...</td>\n      <td>384</td>\n      <td>128400</td>\n      <td>362</td>\n      <td>150</td>\n      <td>00603</td>\n      <td>18.455183</td>\n      <td>-67.119887</td>\n      <td>AGUADILLA</td>\n      <td>PR</td>\n      <td>AGUADILLA, PR</td>\n    </tr>\n    <tr>\n      <th>3</th>\n      <td>40.8</td>\n      <td>41.0</td>\n      <td>40.3</td>\n      <td>6331</td>\n      <td>4399</td>\n      <td>151</td>\n      <td>0</td>\n      <td>0</td>\n      <td>6323</td>\n      <td>188</td>\n      <td>...</td>\n      <td>280</td>\n      <td>108500</td>\n      <td>9</td>\n      <td>0</td>\n      <td>00606</td>\n      <td>18.158345</td>\n      <td>-66.932911</td>\n      <td>MARICAO</td>\n      <td>PR</td>\n      <td>MARICAO, PR</td>\n    </tr>\n    <tr>\n      <th>4</th>\n      <td>40.2</td>\n      <td>36.9</td>\n      <td>42.2</td>\n      <td>28328</td>\n      <td>17791</td>\n      <td>950</td>\n      <td>0</td>\n      <td>26</td>\n      <td>27999</td>\n      <td>377</td>\n      <td>...</td>\n      <td>424</td>\n      <td>113200</td>\n      <td>126</td>\n      <td>45</td>\n      <td>00610</td>\n      <td>18.295366</td>\n      <td>-67.125135</td>\n      <td>ANASCO</td>\n      <td>PR</td>\n      <td>ANASCO, PR</td>\n    </tr>\n  </tbody>\n</table>\n<p>5 rows × 32 columns</p>\n</div>"
     },
     "metadata": {},
     "output_type": "execute_result",
     "execution_count": 11
    }
   ],
   "source": [
    "# Query All Records in the Zip Table\n",
    "zip_data = pd.read_sql(\"SELECT * FROM zip_census\", conn_zip)\n",
    "zip_data.head()"
   ]
  },
  {
   "cell_type": "code",
   "execution_count": 12,
   "outputs": [
    {
     "data": {
      "text/plain": "Index(['Median Age', 'Median Male Age', 'Median Female Age', 'Population',\n       'White Population', 'Black Population', 'Native American Population',\n       'Asian Population', 'Hispanic Population', 'Education None',\n       'Education High School', 'Education GED', 'Education Associates',\n       'Education Bachelors', 'Education Masters', 'Education Professional',\n       'Education Doctorate', 'Poverty', 'Household Income',\n       'Income Per Capita', 'Employment Labor Force', 'Employment Unemployed',\n       'Median Gross Rent', 'Median Home Value',\n       'Employment Male Computer Engineering',\n       'Employment Female Computer Engineering', 'zipcode', 'lat', 'lng',\n       'city', 'state', 'CityState'],\n      dtype='object')"
     },
     "metadata": {},
     "output_type": "execute_result",
     "execution_count": 12
    }
   ],
   "source": [
    "zip_data.columns"
   ],
   "metadata": {
    "collapsed": false,
    "pycharm": {
     "name": "#%%\n",
     "is_executing": false
    }
   }
  },
  {
   "cell_type": "code",
   "execution_count": 13,
   "outputs": [
    {
     "data": {
      "text/plain": "Index(['CityState', 'city', 'state', 'Population', 'White Population',\n       'Black Population', 'Native American Population', 'Asian Population',\n       'Hispanic Population', 'Education None', 'Education High School',\n       'Education GED', 'Education Associates', 'Education Bachelors',\n       'Education Masters', 'Education Professional', 'Education Doctorate',\n       'Poverty', 'Employment Labor Force', 'Employment Unemployed',\n       'Employment Male Computer Engineering',\n       'Employment Female Computer Engineering', 'Median Age',\n       'Median Male Age', 'Median Female Age', 'Household Income',\n       'Income Per Capita', 'Median Gross Rent', 'Median Home Value', 'lat',\n       'lng'],\n      dtype='object')"
     },
     "metadata": {},
     "output_type": "execute_result",
     "execution_count": 13
    }
   ],
   "source": [
    "city_data.columns"
   ],
   "metadata": {
    "collapsed": false,
    "pycharm": {
     "name": "#%%\n",
     "is_executing": false
    }
   }
  },
  {
   "cell_type": "code",
   "execution_count": 14,
   "metadata": {
    "collapsed": true,
    "pycharm": {
     "is_executing": false
    }
   },
   "outputs": [],
   "source": [
    "# Merge the columns\n",
    "result = pd.merge(city_data,zip_data,on=\"CityState\")"
   ]
  },
  {
   "cell_type": "code",
   "execution_count": 16,
   "metadata": {
    "pycharm": {
     "is_executing": false
    }
   },
   "outputs": [
    {
     "data": {
      "text/plain": "          CityState       city_x state_x  Population_x  White Population_x  \\\n0   SPRINGFIELD, MA  SPRINGFIELD      MA        144780               79365   \n1   SPRINGFIELD, MA  SPRINGFIELD      MA        144780               79365   \n2   SPRINGFIELD, MA  SPRINGFIELD      MA        144780               79365   \n3   SPRINGFIELD, MA  SPRINGFIELD      MA        144780               79365   \n4   SPRINGFIELD, MA  SPRINGFIELD      MA        144780               79365   \n5   SPRINGFIELD, MA  SPRINGFIELD      MA        144780               79365   \n6   SPRINGFIELD, MA  SPRINGFIELD      MA        144780               79365   \n7   SPRINGFIELD, MA  SPRINGFIELD      MA        144780               79365   \n8   SPRINGFIELD, MA  SPRINGFIELD      MA        144780               79365   \n9   SPRINGFIELD, MA  SPRINGFIELD      MA        144780               79365   \n10  SPRINGFIELD, MA  SPRINGFIELD      MA        144780               79365   \n\n    Black Population_x  Native American Population_x  Asian Population_x  \\\n0                30997                           777                2991   \n1                30997                           777                2991   \n2                30997                           777                2991   \n3                30997                           777                2991   \n4                30997                           777                2991   \n5                30997                           777                2991   \n6                30997                           777                2991   \n7                30997                           777                2991   \n8                30997                           777                2991   \n9                30997                           777                2991   \n10               30997                           777                2991   \n\n    Hispanic Population_x  Education None_x  ...  Employment Unemployed_y  \\\n0                   61579              2325  ...                      192   \n1                   61579              2325  ...                     1495   \n2                   61579              2325  ...                      827   \n3                   61579              2325  ...                      971   \n4                   61579              2325  ...                     1532   \n5                   61579              2325  ...                     1672   \n6                   61579              2325  ...                      544   \n7                   61579              2325  ...                      809   \n8                   61579              2325  ...                      122   \n9                   61579              2325  ...                      415   \n10                  61579              2325  ...                        0   \n\n    Median Gross Rent_y  Median Home Value_y  \\\n0                   793               103100   \n1                   799               131200   \n2                   710               130700   \n3                   652               154000   \n4                   890               148200   \n5                   871               127200   \n6                   901               158300   \n7                   965               145200   \n8                     0               170200   \n9                   980               163100   \n10                    0                    0   \n\n    Employment Male Computer Engineering_y  \\\n0                                       21   \n1                                       87   \n2                                       32   \n3                                       65   \n4                                      134   \n5                                      167   \n6                                      243   \n7                                      124   \n8                                       42   \n9                                       55   \n10                                       0   \n\n    Employment Female Computer Engineering_y  zipcode      lat_y      lng_y  \\\n0                                         17    01103  42.104106 -72.592027   \n1                                         25    01104  42.134009 -72.565378   \n2                                          0    01105  42.099958 -72.580765   \n3                                         13    01107  42.121060 -72.607068   \n4                                         62    01108  42.080692 -72.560791   \n5                                          7    01109  42.119674 -72.549726   \n6                                         72    01118  42.094194 -72.525081   \n7                                         18    01119  42.124978 -72.511210   \n8                                         23    01128  42.092296 -72.489135   \n9                                         36    01129  42.118690 -72.488200   \n10                                         0    01199  42.120563 -72.604468   \n\n         city_y  state_y  \n0   SPRINGFIELD       MA  \n1   SPRINGFIELD       MA  \n2   SPRINGFIELD       MA  \n3   SPRINGFIELD       MA  \n4   SPRINGFIELD       MA  \n5   SPRINGFIELD       MA  \n6   SPRINGFIELD       MA  \n7   SPRINGFIELD       MA  \n8   SPRINGFIELD       MA  \n9   SPRINGFIELD       MA  \n10  SPRINGFIELD       MA  \n\n[11 rows x 62 columns]",
      "text/html": "<div>\n<style scoped>\n    .dataframe tbody tr th:only-of-type {\n        vertical-align: middle;\n    }\n\n    .dataframe tbody tr th {\n        vertical-align: top;\n    }\n\n    .dataframe thead th {\n        text-align: right;\n    }\n</style>\n<table border=\"1\" class=\"dataframe\">\n  <thead>\n    <tr style=\"text-align: right;\">\n      <th></th>\n      <th>CityState</th>\n      <th>city_x</th>\n      <th>state_x</th>\n      <th>Population_x</th>\n      <th>White Population_x</th>\n      <th>Black Population_x</th>\n      <th>Native American Population_x</th>\n      <th>Asian Population_x</th>\n      <th>Hispanic Population_x</th>\n      <th>Education None_x</th>\n      <th>...</th>\n      <th>Employment Unemployed_y</th>\n      <th>Median Gross Rent_y</th>\n      <th>Median Home Value_y</th>\n      <th>Employment Male Computer Engineering_y</th>\n      <th>Employment Female Computer Engineering_y</th>\n      <th>zipcode</th>\n      <th>lat_y</th>\n      <th>lng_y</th>\n      <th>city_y</th>\n      <th>state_y</th>\n    </tr>\n  </thead>\n  <tbody>\n    <tr>\n      <th>0</th>\n      <td>SPRINGFIELD, MA</td>\n      <td>SPRINGFIELD</td>\n      <td>MA</td>\n      <td>144780</td>\n      <td>79365</td>\n      <td>30997</td>\n      <td>777</td>\n      <td>2991</td>\n      <td>61579</td>\n      <td>2325</td>\n      <td>...</td>\n      <td>192</td>\n      <td>793</td>\n      <td>103100</td>\n      <td>21</td>\n      <td>17</td>\n      <td>01103</td>\n      <td>42.104106</td>\n      <td>-72.592027</td>\n      <td>SPRINGFIELD</td>\n      <td>MA</td>\n    </tr>\n    <tr>\n      <th>1</th>\n      <td>SPRINGFIELD, MA</td>\n      <td>SPRINGFIELD</td>\n      <td>MA</td>\n      <td>144780</td>\n      <td>79365</td>\n      <td>30997</td>\n      <td>777</td>\n      <td>2991</td>\n      <td>61579</td>\n      <td>2325</td>\n      <td>...</td>\n      <td>1495</td>\n      <td>799</td>\n      <td>131200</td>\n      <td>87</td>\n      <td>25</td>\n      <td>01104</td>\n      <td>42.134009</td>\n      <td>-72.565378</td>\n      <td>SPRINGFIELD</td>\n      <td>MA</td>\n    </tr>\n    <tr>\n      <th>2</th>\n      <td>SPRINGFIELD, MA</td>\n      <td>SPRINGFIELD</td>\n      <td>MA</td>\n      <td>144780</td>\n      <td>79365</td>\n      <td>30997</td>\n      <td>777</td>\n      <td>2991</td>\n      <td>61579</td>\n      <td>2325</td>\n      <td>...</td>\n      <td>827</td>\n      <td>710</td>\n      <td>130700</td>\n      <td>32</td>\n      <td>0</td>\n      <td>01105</td>\n      <td>42.099958</td>\n      <td>-72.580765</td>\n      <td>SPRINGFIELD</td>\n      <td>MA</td>\n    </tr>\n    <tr>\n      <th>3</th>\n      <td>SPRINGFIELD, MA</td>\n      <td>SPRINGFIELD</td>\n      <td>MA</td>\n      <td>144780</td>\n      <td>79365</td>\n      <td>30997</td>\n      <td>777</td>\n      <td>2991</td>\n      <td>61579</td>\n      <td>2325</td>\n      <td>...</td>\n      <td>971</td>\n      <td>652</td>\n      <td>154000</td>\n      <td>65</td>\n      <td>13</td>\n      <td>01107</td>\n      <td>42.121060</td>\n      <td>-72.607068</td>\n      <td>SPRINGFIELD</td>\n      <td>MA</td>\n    </tr>\n    <tr>\n      <th>4</th>\n      <td>SPRINGFIELD, MA</td>\n      <td>SPRINGFIELD</td>\n      <td>MA</td>\n      <td>144780</td>\n      <td>79365</td>\n      <td>30997</td>\n      <td>777</td>\n      <td>2991</td>\n      <td>61579</td>\n      <td>2325</td>\n      <td>...</td>\n      <td>1532</td>\n      <td>890</td>\n      <td>148200</td>\n      <td>134</td>\n      <td>62</td>\n      <td>01108</td>\n      <td>42.080692</td>\n      <td>-72.560791</td>\n      <td>SPRINGFIELD</td>\n      <td>MA</td>\n    </tr>\n    <tr>\n      <th>5</th>\n      <td>SPRINGFIELD, MA</td>\n      <td>SPRINGFIELD</td>\n      <td>MA</td>\n      <td>144780</td>\n      <td>79365</td>\n      <td>30997</td>\n      <td>777</td>\n      <td>2991</td>\n      <td>61579</td>\n      <td>2325</td>\n      <td>...</td>\n      <td>1672</td>\n      <td>871</td>\n      <td>127200</td>\n      <td>167</td>\n      <td>7</td>\n      <td>01109</td>\n      <td>42.119674</td>\n      <td>-72.549726</td>\n      <td>SPRINGFIELD</td>\n      <td>MA</td>\n    </tr>\n    <tr>\n      <th>6</th>\n      <td>SPRINGFIELD, MA</td>\n      <td>SPRINGFIELD</td>\n      <td>MA</td>\n      <td>144780</td>\n      <td>79365</td>\n      <td>30997</td>\n      <td>777</td>\n      <td>2991</td>\n      <td>61579</td>\n      <td>2325</td>\n      <td>...</td>\n      <td>544</td>\n      <td>901</td>\n      <td>158300</td>\n      <td>243</td>\n      <td>72</td>\n      <td>01118</td>\n      <td>42.094194</td>\n      <td>-72.525081</td>\n      <td>SPRINGFIELD</td>\n      <td>MA</td>\n    </tr>\n    <tr>\n      <th>7</th>\n      <td>SPRINGFIELD, MA</td>\n      <td>SPRINGFIELD</td>\n      <td>MA</td>\n      <td>144780</td>\n      <td>79365</td>\n      <td>30997</td>\n      <td>777</td>\n      <td>2991</td>\n      <td>61579</td>\n      <td>2325</td>\n      <td>...</td>\n      <td>809</td>\n      <td>965</td>\n      <td>145200</td>\n      <td>124</td>\n      <td>18</td>\n      <td>01119</td>\n      <td>42.124978</td>\n      <td>-72.511210</td>\n      <td>SPRINGFIELD</td>\n      <td>MA</td>\n    </tr>\n    <tr>\n      <th>8</th>\n      <td>SPRINGFIELD, MA</td>\n      <td>SPRINGFIELD</td>\n      <td>MA</td>\n      <td>144780</td>\n      <td>79365</td>\n      <td>30997</td>\n      <td>777</td>\n      <td>2991</td>\n      <td>61579</td>\n      <td>2325</td>\n      <td>...</td>\n      <td>122</td>\n      <td>0</td>\n      <td>170200</td>\n      <td>42</td>\n      <td>23</td>\n      <td>01128</td>\n      <td>42.092296</td>\n      <td>-72.489135</td>\n      <td>SPRINGFIELD</td>\n      <td>MA</td>\n    </tr>\n    <tr>\n      <th>9</th>\n      <td>SPRINGFIELD, MA</td>\n      <td>SPRINGFIELD</td>\n      <td>MA</td>\n      <td>144780</td>\n      <td>79365</td>\n      <td>30997</td>\n      <td>777</td>\n      <td>2991</td>\n      <td>61579</td>\n      <td>2325</td>\n      <td>...</td>\n      <td>415</td>\n      <td>980</td>\n      <td>163100</td>\n      <td>55</td>\n      <td>36</td>\n      <td>01129</td>\n      <td>42.118690</td>\n      <td>-72.488200</td>\n      <td>SPRINGFIELD</td>\n      <td>MA</td>\n    </tr>\n    <tr>\n      <th>10</th>\n      <td>SPRINGFIELD, MA</td>\n      <td>SPRINGFIELD</td>\n      <td>MA</td>\n      <td>144780</td>\n      <td>79365</td>\n      <td>30997</td>\n      <td>777</td>\n      <td>2991</td>\n      <td>61579</td>\n      <td>2325</td>\n      <td>...</td>\n      <td>0</td>\n      <td>0</td>\n      <td>0</td>\n      <td>0</td>\n      <td>0</td>\n      <td>01199</td>\n      <td>42.120563</td>\n      <td>-72.604468</td>\n      <td>SPRINGFIELD</td>\n      <td>MA</td>\n    </tr>\n  </tbody>\n</table>\n<p>11 rows × 62 columns</p>\n</div>"
     },
     "metadata": {},
     "output_type": "execute_result",
     "execution_count": 16
    }
   ],
   "source": [
    "# Combined Data\n",
    "result"
   ]
  },
  {
   "cell_type": "code",
   "execution_count": null,
   "outputs": [],
   "source": [
    "\n"
   ],
   "metadata": {
    "collapsed": false,
    "pycharm": {
     "name": "#%%\n"
    }
   }
  }
 ],
 "metadata": {
  "anaconda-cloud": {},
  "kernelspec": {
   "display_name": "Python 3",
   "language": "python",
   "name": "python3"
  },
  "language_info": {
   "codemirror_mode": {
    "name": "ipython",
    "version": 3
   },
   "file_extension": ".py",
   "mimetype": "text/x-python",
   "name": "python",
   "nbconvert_exporter": "python",
   "pygments_lexer": "ipython3",
   "version": "3.6.5"
  },
  "varInspector": {
   "cols": {
    "lenName": 16,
    "lenType": 16,
    "lenVar": 40
   },
   "kernels_config": {
    "python": {
     "delete_cmd_postfix": "",
     "delete_cmd_prefix": "del ",
     "library": "var_list.py",
     "varRefreshCmd": "print(var_dic_list())"
    },
    "r": {
     "delete_cmd_postfix": ") ",
     "delete_cmd_prefix": "rm(",
     "library": "var_list.r",
     "varRefreshCmd": "cat(var_dic_list()) "
    }
   },
   "types_to_exclude": [
    "module",
    "function",
    "builtin_function_or_method",
    "instance",
    "_Feature"
   ],
   "window_display": false
  },
  "pycharm": {
   "stem_cell": {
    "cell_type": "raw",
    "source": [],
    "metadata": {
     "collapsed": false
    }
   }
  }
 },
 "nbformat": 4,
 "nbformat_minor": 1
}