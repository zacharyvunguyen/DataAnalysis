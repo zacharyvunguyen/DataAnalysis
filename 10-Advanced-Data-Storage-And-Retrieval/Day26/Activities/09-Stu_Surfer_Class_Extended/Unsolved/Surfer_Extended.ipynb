{
 "cells": [
  {
   "cell_type": "code",
   "execution_count": 7,
   "metadata": {
    "collapsed": true,
    "pycharm": {
     "is_executing": false
    }
   },
   "outputs": [],
   "source": [
    "# Define the Surfer Class\n",
    "\n",
    "class Surfer():\n",
    "    \n",
    "    count=0 \n",
    "    \n",
    "    # A required function to initialize the class object\n",
    "    def __init__(self, name, hometown, rank, wipesout):\n",
    "        self.name = name\n",
    "        self.hometown = hometown\n",
    "        self.rank = rank\n",
    "        self.wipesout = wipesout\n",
    "        Surfer.count +=1\n",
    "        \n",
    "    def speak(self):\n",
    "        print(\"Hang loose, bruh!\")\n",
    "        \n",
    "    def biography(self):\n",
    "        print(f\"My name is {self.name} and I live in {self.hometown}\")\n",
    "    \n",
    "    def cheer(self):\n",
    "        if self.wipesout==0:\n",
    "            print(\"I totally rock man, no wipeouts!\")\n",
    "        else:\n",
    "            print(\"Bummer bruh, keep on keeping on!\")\n",
    "\n",
    "    def shredder(self):\n",
    "        print(f\"Dure, there's like, {Surfer.count} shredding those waves man\")"
   ]
  },
  {
   "cell_type": "code",
   "execution_count": 8,
   "metadata": {
    "pycharm": {
     "is_executing": false
    }
   },
   "outputs": [],
   "source": [
    "# Create Surfers\n",
    "# --------------------------------------------------------------------------------\n",
    "sur1=Surfer(\"Zach\",\"Nashville\",1,0)\n",
    "sur2=Surfer(\"Dani\",\"Phanthiet\",3,1)\n"
   ]
  },
  {
   "cell_type": "code",
   "execution_count": 9,
   "outputs": [
    {
     "name": "stdout",
     "text": [
      "My name is Zach and I live in Nashville\nI totally rock man, no wipeouts!\n"
     ],
     "output_type": "stream"
    }
   ],
   "source": [
    "sur1.biography()\n",
    "sur1.cheer()"
   ],
   "metadata": {
    "collapsed": false,
    "pycharm": {
     "name": "#%%\n",
     "is_executing": false
    }
   }
  },
  {
   "cell_type": "code",
   "execution_count": 10,
   "outputs": [
    {
     "name": "stdout",
     "text": [
      "My name is Dani and I live in Phanthiet\nBummer bruh, keep on keeping on!\n"
     ],
     "output_type": "stream"
    }
   ],
   "source": [
    "sur2.biography()\n",
    "sur2.cheer()"
   ],
   "metadata": {
    "collapsed": false,
    "pycharm": {
     "name": "#%%\n",
     "is_executing": false
    }
   }
  },
  {
   "cell_type": "code",
   "execution_count": 11,
   "outputs": [
    {
     "name": "stdout",
     "text": [
      "Dure, there's like, 2 shredding those waves man\n"
     ],
     "output_type": "stream"
    }
   ],
   "source": [
    "sur2.shredder()"
   ],
   "metadata": {
    "collapsed": false,
    "pycharm": {
     "name": "#%%\n",
     "is_executing": false
    }
   }
  },
  {
   "cell_type": "code",
   "execution_count": null,
   "outputs": [],
   "source": [
    "\n"
   ],
   "metadata": {
    "collapsed": false,
    "pycharm": {
     "name": "#%%\n"
    }
   }
  }
 ],
 "metadata": {
  "kernelspec": {
   "display_name": "Python 3",
   "language": "python",
   "name": "python3"
  },
  "language_info": {
   "codemirror_mode": {
    "name": "ipython",
    "version": 3
   },
   "file_extension": ".py",
   "mimetype": "text/x-python",
   "name": "python",
   "nbconvert_exporter": "python",
   "pygments_lexer": "ipython3",
   "version": "3.6.3"
  },
  "varInspector": {
   "cols": {
    "lenName": 16,
    "lenType": 16,
    "lenVar": 40
   },
   "kernels_config": {
    "python": {
     "delete_cmd_postfix": "",
     "delete_cmd_prefix": "del ",
     "library": "var_list.py",
     "varRefreshCmd": "print(var_dic_list())"
    },
    "r": {
     "delete_cmd_postfix": ") ",
     "delete_cmd_prefix": "rm(",
     "library": "var_list.r",
     "varRefreshCmd": "cat(var_dic_list()) "
    }
   },
   "types_to_exclude": [
    "module",
    "function",
    "builtin_function_or_method",
    "instance",
    "_Feature"
   ],
   "window_display": false
  },
  "pycharm": {
   "stem_cell": {
    "cell_type": "raw",
    "source": [],
    "metadata": {
     "collapsed": false
    }
   }
  }
 },
 "nbformat": 4,
 "nbformat_minor": 2
}