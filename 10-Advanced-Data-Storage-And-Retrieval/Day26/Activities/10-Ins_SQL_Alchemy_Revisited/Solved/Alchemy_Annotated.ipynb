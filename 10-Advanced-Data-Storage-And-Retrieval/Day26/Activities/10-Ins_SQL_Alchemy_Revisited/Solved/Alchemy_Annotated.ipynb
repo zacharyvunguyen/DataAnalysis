{
 "cells": [
  {
   "cell_type": "code",
   "execution_count": 1,
   "metadata": {
    "pycharm": {
     "is_executing": false
    }
   },
   "outputs": [],
   "source": [
    "# Dependencies\n",
    "# ----------------------------------\n",
    "# Imports the method used for connecting to DBs\n",
    "from sqlalchemy import create_engine\n",
    "\n",
    "# Imports the methods needed to abstract classes into tables\n",
    "from sqlalchemy.ext.declarative import declarative_base\n",
    "\n",
    "# Allow us to declare column types\n",
    "from sqlalchemy import Column, Integer, String, Float "
   ]
  },
  {
   "cell_type": "code",
   "execution_count": 2,
   "metadata": {
    "pycharm": {
     "is_executing": false
    }
   },
   "outputs": [],
   "source": [
    "# Create Dog and Cat Classes\n",
    "# ----------------------------------\n",
    "\n",
    "# Sets an object to utilize the default declarative base in SQL Alchemy\n",
    "Base = declarative_base()\n",
    "\n",
    "\n",
    "# Creates Classes which will serve as the anchor points for our Tables\n",
    "class Dog(Base):\n",
    "    __tablename__ = 'dog'\n",
    "    id = Column(Integer, primary_key=True)\n",
    "    name = Column(String(255))\n",
    "    color = Column(String(255))\n",
    "    age = Column(Integer)\n",
    "\n",
    "\n",
    "class Cat(Base):\n",
    "    __tablename__ = 'cat'\n",
    "    id = Column(Integer, primary_key=True)\n",
    "    name = Column(String(255))\n",
    "    color = Column(String(255))\n",
    "    age = Column(Integer)"
   ]
  },
  {
   "cell_type": "code",
   "execution_count": 3,
   "metadata": {
    "pycharm": {
     "is_executing": false
    }
   },
   "outputs": [],
   "source": [
    "# Create a Specific Instance of the Dog and Cat classes\n",
    "# ----------------------------------\n",
    "\n",
    "# Calls the Pet Constructors to create \"Dog\" and \"Cat\" objets\n",
    "dog = Dog(name='Rex', color='Brown', age=4)\n",
    "cat = Cat(name=\"Felix\", color=\"Gray\", age=7)"
   ]
  },
  {
   "cell_type": "code",
   "execution_count": 4,
   "metadata": {
    "pycharm": {
     "is_executing": false
    }
   },
   "outputs": [],
   "source": [
    "# Create Database Connection\n",
    "# ----------------------------------\n",
    "# Creates a connection to our DB\n",
    "engine = create_engine(\"sqlite:///pets.sqlite\")\n",
    "conn = engine.connect()"
   ]
  },
  {
   "cell_type": "code",
   "execution_count": 5,
   "metadata": {
    "pycharm": {
     "is_executing": false
    }
   },
   "outputs": [],
   "source": [
    "# Create a \"Metadata\" Layer That Abstracts our SQL Database\n",
    "# ----------------------------------\n",
    "# Create (if not already in existence) the tables associated with our classes.\n",
    "Base.metadata.create_all(engine)\n",
    "\n",
    "# Use this to clear out the db\n",
    "# ----------------------------------\n",
    "# Base.metadata.drop_all(engine)"
   ]
  },
  {
   "cell_type": "code",
   "execution_count": 6,
   "metadata": {
    "pycharm": {
     "is_executing": false
    }
   },
   "outputs": [],
   "source": [
    "# Create a Session Object to Connect to DB\n",
    "# ----------------------------------\n",
    "# Session is a temporary binding to our DB\n",
    "from sqlalchemy.orm import Session\n",
    "session = Session(bind=engine)"
   ]
  },
  {
   "cell_type": "code",
   "execution_count": 10,
   "metadata": {
    "pycharm": {
     "is_executing": false
    }
   },
   "outputs": [],
   "source": [
    "# Add Records to the Appropriate DB\n",
    "# ----------------------------------\n",
    "# Use the SQL ALchemy methods to run simple \"INSERT\" statements using the classes and objects  \n",
    "dog = Dog(name='concho', color='Brown', age=4)\n",
    "cat = Cat(name=\"conmeo\", color=\"Gray\", age=7)\n",
    "session.add(dog)\n",
    "session.add(cat)\n",
    "session.commit()"
   ]
  },
  {
   "cell_type": "code",
   "execution_count": 11,
   "metadata": {
    "pycharm": {
     "is_executing": false
    }
   },
   "outputs": [
    {
     "name": "stdout",
     "text": [
      "Fido\nRex\nRex\nRex\nconcho\n"
     ],
     "output_type": "stream"
    }
   ],
   "source": [
    "# Query the Tables\n",
    "# ----------------------------------\n",
    "# Perform a simple query of the database\n",
    "dog_list = session.query(Dog)\n",
    "for doggy in dog_list:\n",
    "    print(doggy.name)"
   ]
  },
  {
   "cell_type": "code",
   "execution_count": 12,
   "metadata": {
    "pycharm": {
     "is_executing": false
    }
   },
   "outputs": [
    {
     "name": "stdout",
     "text": [
      "Whiskers\nFelix\nFelix\nFelix\nconmeo\n"
     ],
     "output_type": "stream"
    }
   ],
   "source": [
    "cat_list = session.query(Cat)\n",
    "for kitty in cat_list:\n",
    "    print(kitty.name)"
   ]
  },
  {
   "cell_type": "code",
   "execution_count": null,
   "outputs": [],
   "source": [
    "\n"
   ],
   "metadata": {
    "collapsed": false,
    "pycharm": {
     "name": "#%%\n"
    }
   }
  }
 ],
 "metadata": {
  "kernelspec": {
   "display_name": "Python 3",
   "language": "python",
   "name": "python3"
  },
  "language_info": {
   "codemirror_mode": {
    "name": "ipython",
    "version": 3
   },
   "file_extension": ".py",
   "mimetype": "text/x-python",
   "name": "python",
   "nbconvert_exporter": "python",
   "pygments_lexer": "ipython3",
   "version": "3.6.5"
  },
  "varInspector": {
   "cols": {
    "lenName": 16,
    "lenType": 16,
    "lenVar": 40
   },
   "kernels_config": {
    "python": {
     "delete_cmd_postfix": "",
     "delete_cmd_prefix": "del ",
     "library": "var_list.py",
     "varRefreshCmd": "print(var_dic_list())"
    },
    "r": {
     "delete_cmd_postfix": ") ",
     "delete_cmd_prefix": "rm(",
     "library": "var_list.r",
     "varRefreshCmd": "cat(var_dic_list()) "
    }
   },
   "types_to_exclude": [
    "module",
    "function",
    "builtin_function_or_method",
    "instance",
    "_Feature"
   ],
   "window_display": false
  },
  "pycharm": {
   "stem_cell": {
    "cell_type": "raw",
    "source": [],
    "metadata": {
     "collapsed": false
    }
   }
  }
 },
 "nbformat": 4,
 "nbformat_minor": 2
}