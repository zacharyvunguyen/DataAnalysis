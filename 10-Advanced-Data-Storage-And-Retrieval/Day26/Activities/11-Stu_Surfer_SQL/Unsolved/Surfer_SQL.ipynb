{
 "cells": [
  {
   "cell_type": "code",
   "execution_count": 1,
   "metadata": {
    "collapsed": true,
    "pycharm": {
     "is_executing": false
    }
   },
   "outputs": [],
   "source": [
    "# Import SQL Alchemy\n",
    "from sqlalchemy import create_engine"
   ]
  },
  {
   "cell_type": "code",
   "execution_count": 2,
   "metadata": {
    "collapsed": true,
    "pycharm": {
     "is_executing": false
    }
   },
   "outputs": [],
   "source": [
    "# Import and establish Base for which classes will be constructed \n",
    "from sqlalchemy.ext.declarative import declarative_base\n",
    "Base = declarative_base()"
   ]
  },
  {
   "cell_type": "code",
   "execution_count": 3,
   "metadata": {
    "collapsed": true,
    "pycharm": {
     "is_executing": false
    }
   },
   "outputs": [],
   "source": [
    "# Import modules to declare columns and column data types\n",
    "from sqlalchemy import Column, Integer, String, Float"
   ]
  },
  {
   "cell_type": "code",
   "execution_count": 4,
   "metadata": {
    "collapsed": true,
    "pycharm": {
     "is_executing": false
    }
   },
   "outputs": [],
   "source": [
    "# Create Surfer and Board classes\n",
    "# ----------------------------------\n",
    "class Surfer(Base):\n",
    "    __tablename__ = 'surfers'\n",
    "    id = Column(Integer, primary_key=True)\n",
    "    name = Column(String(255))\n",
    "    hometown = Column(String(255))\n",
    "    wipeouts = Column(Integer)\n",
    "    rank = Column(Integer)\n",
    "\n",
    "class Board(Base):\n",
    "    __tablename__ = 'surfboards'\n",
    "    id = Column(Integer, primary_key=True)\n",
    "    surfer_id = Column(Integer)\n",
    "    board_name = Column(String(255))\n",
    "    color = Column(String(255))\n",
    "    length = Column(Integer)"
   ]
  },
  {
   "cell_type": "code",
   "execution_count": 11,
   "metadata": {
    "collapsed": true,
    "pycharm": {
     "is_executing": false
    }
   },
   "outputs": [],
   "source": [
    "# Create specific instances of the Surfer and Board classes\n",
    "# ----------------------------------\n",
    "# Create a new surfer named \"Bruno\"\n",
    "# Create a new board and associate it with a surfer's ID\n",
    "surfer1 = Surfer(name='Bruno', hometown='Nashville', wipeouts=4,rank=1)\n",
    "board1 = Board(surfer_id=1, board_name=\"Super Board\", color=\"Rainbow\", length=3)"
   ]
  },
  {
   "cell_type": "code",
   "execution_count": 16,
   "metadata": {
    "collapsed": true,
    "pycharm": {
     "is_executing": false
    }
   },
   "outputs": [],
   "source": [
    "# Create Database Connection\n",
    "# ----------------------------------\n",
    "# Establish Connection to a sqlite database\n",
    "engine = create_engine(\"sqlite:///Surfer.sqlite\")\n",
    "conn = engine.connect()\n",
    "Base.metadata.create_all(engine)\n",
    "\n",
    "from sqlalchemy.orm import Session\n",
    "session = Session(bind=engine)"
   ]
  },
  {
   "cell_type": "code",
   "execution_count": 17,
   "metadata": {
    "collapsed": true,
    "pycharm": {
     "is_executing": false
    }
   },
   "outputs": [],
   "source": [
    "# Create both the Surfer and Board tables within the database\n",
    "\n",
    "sur = Surfer(name='Zach', hometown='Nashville', wipeouts=4,rank=2)\n",
    "board = Board(surfer_id=2, board_name=\"Super Board\", color=\"Rainbow\", length=3)\n",
    "session.add(sur)\n",
    "session.add(board)\n",
    "session.commit()"
   ]
  },
  {
   "cell_type": "code",
   "execution_count": 18,
   "metadata": {
    "collapsed": true,
    "pycharm": {
     "is_executing": false
    }
   },
   "outputs": [
    {
     "name": "stdout",
     "text": [
      "Zach\nZach\n"
     ],
     "output_type": "stream"
    }
   ],
   "source": [
    "# To push the objects made and query the server we use a Session object\n",
    "sur_list = session.query(Surfer)\n",
    "for surfer in sur_list:\n",
    "    print(surfer.name)"
   ]
  },
  {
   "cell_type": "code",
   "execution_count": 19,
   "metadata": {
    "collapsed": true,
    "pycharm": {
     "is_executing": false
    }
   },
   "outputs": [],
   "source": [
    "# Add \"Bruno\" to the current session\n",
    "# Add \"Awwwyeah\" to the current session\n",
    "# Commit both objects to the database\n",
    "sur = Surfer(name='Bruno', hometown='Barcelona', wipeouts=3,rank=3)\n",
    "board = Board(surfer_id=3, board_name=\"Awwwyeah\", color=\"White\", length=6)\n",
    "session.add(sur)\n",
    "session.add(board)\n",
    "session.commit()"
   ]
  },
  {
   "cell_type": "code",
   "execution_count": 20,
   "metadata": {
    "pycharm": {
     "is_executing": false
    }
   },
   "outputs": [
    {
     "name": "stdout",
     "text": [
      "Zach\nZach\nBruno\n"
     ],
     "output_type": "stream"
    }
   ],
   "source": [
    "# Query the database and collect all of the surfers in the Surfer table\n",
    "\n",
    "sur_list = session.query(Surfer)\n",
    "for sur in sur_list:\n",
    "    print(sur.name)"
   ]
  },
  {
   "cell_type": "code",
   "execution_count": 22,
   "outputs": [
    {
     "name": "stdout",
     "text": [
      "Super Board\nSuper Board\nAwwwyeah\n"
     ],
     "output_type": "stream"
    }
   ],
   "source": [
    "board_list = session.query(Board)\n",
    "for board in board_list:\n",
    "    print(board.board_name)"
   ],
   "metadata": {
    "collapsed": false,
    "pycharm": {
     "name": "#%%\n",
     "is_executing": false
    }
   }
  },
  {
   "cell_type": "code",
   "execution_count": null,
   "outputs": [],
   "source": [
    "\n"
   ],
   "metadata": {
    "collapsed": false,
    "pycharm": {
     "name": "#%%\n"
    }
   }
  }
 ],
 "metadata": {
  "kernelspec": {
   "display_name": "Python 3",
   "language": "python",
   "name": "python3"
  },
  "language_info": {
   "codemirror_mode": {
    "name": "ipython",
    "version": 3
   },
   "file_extension": ".py",
   "mimetype": "text/x-python",
   "name": "python",
   "nbconvert_exporter": "python",
   "pygments_lexer": "ipython3",
   "version": "3.6.5"
  },
  "varInspector": {
   "cols": {
    "lenName": 16,
    "lenType": 16,
    "lenVar": 40
   },
   "kernels_config": {
    "python": {
     "delete_cmd_postfix": "",
     "delete_cmd_prefix": "del ",
     "library": "var_list.py",
     "varRefreshCmd": "print(var_dic_list())"
    },
    "r": {
     "delete_cmd_postfix": ") ",
     "delete_cmd_prefix": "rm(",
     "library": "var_list.r",
     "varRefreshCmd": "cat(var_dic_list()) "
    }
   },
   "types_to_exclude": [
    "module",
    "function",
    "builtin_function_or_method",
    "instance",
    "_Feature"
   ],
   "window_display": false
  },
  "pycharm": {
   "stem_cell": {
    "cell_type": "raw",
    "source": [],
    "metadata": {
     "collapsed": false
    }
   }
  }
 },
 "nbformat": 4,
 "nbformat_minor": 2
}