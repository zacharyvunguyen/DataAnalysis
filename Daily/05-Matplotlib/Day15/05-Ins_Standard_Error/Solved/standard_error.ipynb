{
 "cells": [
  {
   "cell_type": "code",
   "execution_count": 6,
   "metadata": {},
   "outputs": [],
   "source": [
    "# Dependencies\n",
    "from random import random\n",
    "import matplotlib.pyplot as plt\n",
    "import numpy as np\n",
    "from scipy.stats import sem"
   ]
  },
  {
   "cell_type": "code",
   "execution_count": 7,
   "metadata": {},
   "outputs": [],
   "source": [
    "# \"Will you vote for a republican in this election?\"\n",
    "sample_size = 100\n",
    "samples = [[True if random() < 0.5 else False for x in range(0, sample_size)]\n",
    "           for y in range(0, 10)]\n",
    "x_axis = np.arange(0, len(samples), 1)"
   ]
  },
  {
   "cell_type": "code",
   "execution_count": 12,
   "metadata": {},
   "outputs": [
    {
     "name": "stdout",
     "output_type": "stream",
     "text": [
      "[0.05009082659620331, 0.05016135580465918, 0.05009082659620331, 0.0492365963917331, 0.05009082659620331, 0.050251890762960605, 0.05009082659620331, 0.04960449637488583, 0.05016135580465918, 0.05]\n"
     ]
    }
   ],
   "source": [
    "means = [np.mean(s) for s in samples]\n",
    "standard_errors = [sem(s) for s in samples]"
   ]
  },
  {
   "cell_type": "code",
   "execution_count": 4,
   "metadata": {},
   "outputs": [
    {
     "data": {
      "text/plain": [
       "Text(0, 0.5, 'Proportion of People Voting Republican')"
      ]
     },
     "execution_count": 4,
     "metadata": {},
     "output_type": "execute_result"
    },
    {
     "data": {
      "image/png": "[encoded data removed]",
      "text/plain": [
       "<Figure size 432x288 with 1 Axes>"
      ]
     },
     "metadata": {
      "needs_background": "light"
     },
     "output_type": "display_data"
    }
   ],
   "source": [
    "# Setting up the plot\n",
    "fig, ax = plt.subplots()\n",
    "\n",
    "ax.errorbar(x_axis, means, standard_errors, fmt=\"o\")\n",
    "\n",
    "ax.set_xlim(-1, len(samples) + 1)\n",
    "\n",
    "ax.set_xlabel(\"Sample Number\")\n",
    "ax.set_ylabel(\"Proportion of People Voting Republican\")"
   ]
  },
  {
   "cell_type": "code",
   "execution_count": 5,
   "metadata": {},
   "outputs": [],
   "source": [
    "plt.show()"
   ]
  },
  {
   "cell_type": "code",
   "execution_count": null,
   "metadata": {},
   "outputs": [],
   "source": []
  }
 ],
 "metadata": {
  "kernelspec": {
   "display_name": "Python 3",
   "language": "python",
   "name": "python3"
  },
  "language_info": {
   "codemirror_mode": {
    "name": "ipython",
    "version": 3
   },
   "file_extension": ".py",
   "mimetype": "text/x-python",
   "name": "python",
   "nbconvert_exporter": "python",
   "pygments_lexer": "ipython3",
   "version": "3.7.3"
  }
 },
 "nbformat": 4,
 "nbformat_minor": 2
}
