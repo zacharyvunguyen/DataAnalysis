{
 "cells": [
  {
   "cell_type": "markdown",
   "source": [
    "---\n",
    "## Load data into dataframes and combine them into one: "
   ],
   "metadata": {
    "collapsed": false
   }
  },
  {
   "cell_type": "code",
   "execution_count": null,
   "outputs": [],
   "source": [
    "%matplotlib inline\n",
    "# Dependencies and Setup\n",
    "import matplotlib.pyplot as plt\n",
    "import pandas as pd\n",
    "import numpy as np\n",
    "\n",
    "# File to Load\n",
    "city_data_to_load = pd.read_csv(\"city_data.csv\")\n",
    "ride_data_to_load = pd.read_csv(\"ride_data.csv\")\n",
    "\n",
    "# Join 2 dataframes\n",
    "combined_data = pd.merge(city_data_to_load,ride_data_to_load,on='city',how='right')\n"
   ],
   "metadata": {
    "collapsed": false,
    "pycharm": {
     "name": "#%%\n",
     "is_executing": true
    }
   }
  },
  {
   "cell_type": "markdown",
   "source": [
    "---\n",
    "## Dataframe 1: \n",
    "- Average Fare ($) Per City\n",
    "- Total Number of Rides Per City\n",
    "- Total Number of Drivers Per City\n",
    "- City Type (Urban, Suburban, Rural)"
   ],
   "metadata": {
    "collapsed": false,
    "pycharm": {
     "name": "#%% md\n",
     "is_executing": false
    }
   }
  },
  {
   "cell_type": "code",
   "execution_count": 1,
   "outputs": [
    {
     "traceback": [
      "\u001b[0;31m---------------------------------------------------------------------------\u001b[0m",
      "\u001b[0;31mNameError\u001b[0m                                 Traceback (most recent call last)",
      "\u001b[0;32m<ipython-input-1-e56fed9a5b7e>\u001b[0m in \u001b[0;36m<module>\u001b[0;34m\u001b[0m\n\u001b[1;32m      1\u001b[0m \u001b[0;31m#dataframe: Total Fares, Total Rides, Total Drivers by City Type\u001b[0m\u001b[0;34m\u001b[0m\u001b[0;34m\u001b[0m\u001b[0;34m\u001b[0m\u001b[0m\n\u001b[0;32m----> 2\u001b[0;31m df1 = combined_data.groupby([\"city\"]).agg({\"fare\":'mean',\n\u001b[0m\u001b[1;32m      3\u001b[0m                                            \u001b[0;34m\"ride_id\"\u001b[0m\u001b[0;34m:\u001b[0m \u001b[0;34m'count'\u001b[0m\u001b[0;34m,\u001b[0m\u001b[0;34m\u001b[0m\u001b[0;34m\u001b[0m\u001b[0m\n\u001b[1;32m      4\u001b[0m                                            \u001b[0;34m\"driver_count\"\u001b[0m\u001b[0;34m:\u001b[0m \u001b[0;34m'first'\u001b[0m\u001b[0;34m,\u001b[0m\u001b[0;34m\u001b[0m\u001b[0;34m\u001b[0m\u001b[0m\n\u001b[1;32m      5\u001b[0m                                            \"type\": 'first'})\n",
      "\u001b[0;31mNameError\u001b[0m: name 'combined_data' is not defined"
     ],
     "ename": "NameError",
     "evalue": "name 'combined_data' is not defined",
     "output_type": "error"
    }
   ],
   "source": [
    "#dataframe: Total Fares, Total Rides, Total Drivers by City Type\n",
    "df1 = combined_data.groupby([\"city\"]).agg({\"fare\":'mean',\n",
    "                                           \"ride_id\": 'count',\n",
    "                                           \"driver_count\": 'first',\n",
    "                                           \"type\": 'first'})\n",
    "df1.head()\n"
   ],
   "metadata": {
    "collapsed": false,
    "pycharm": {
     "name": "#%%\n",
     "is_executing": false
    }
   }
  },
  {
   "cell_type": "markdown",
   "source": [
    "---\n",
    "## Bubble Plot : \n",
    "- Average Fare ($) Per City\n",
    "- Total Number of Rides Per City\n",
    "- Total Number of Drivers Per City\n",
    "- City Type (Urban, Suburban, Rural)"
   ],
   "metadata": {
    "collapsed": false
   }
  },
  {
   "cell_type": "code",
   "execution_count": null,
   "outputs": [],
   "source": [
    "import matplotlib.patches as mpatches\n",
    "import numpy as np\n",
    "\n",
    "# get labels and colors for City types\n",
    "labels=list(set(df1.type))\n",
    "nLabels = len(labels)\n",
    "\n",
    "colors =list()\n",
    "for i in range(nLabels):\n",
    "    np.random.seed(i*3+5)\n",
    "    colors.append(np.random.rand(3))  \n",
    "    \n",
    "dictionary = dict(zip(labels, colors))\n",
    "\n",
    "\n",
    "# make Bubble Plot\n",
    "plt.scatter( df1.ride_id, \n",
    "            df1.fare, \n",
    "                s=df1.driver_count*10,\n",
    "                alpha=0.5, linewidth=2,\n",
    "                c=df1.type.map(dictionary),\n",
    "                edgecolors='black')\n",
    "\n",
    "# make legend       \n",
    "patches = [ plt.plot([],[], \n",
    "                     marker=\"o\",\n",
    "                     markeredgecolor='black',\n",
    "                     ms=10, ls=\"\",\n",
    "                     c=colors[i], \n",
    "                     label=labels[i]) [0]   for i in range(len(labels)) ]\n",
    "plt.legend(handles=patches,loc='upper right',title= 'City Type:' )\n",
    "\n",
    " # Set x and y limits\n",
    "plt.xlabel(\"Total Number of Rides (Per City)\")\n",
    "plt.ylabel(\"Average Fare ($)\")\n",
    "plt.title(\"Pyber Ride Sharing Data(2016)\")\n",
    "\n",
    "plt.show()\n",
    "\n"
   ],
   "metadata": {
    "collapsed": false,
    "pycharm": {
     "name": "#%%\n",
     "is_executing": true
    }
   }
  },
  {
   "cell_type": "markdown",
   "source": [
    "---\n",
    "## Dataframe2: % of Total Fares, Total Rides, Total Drivers by City Type"
   ],
   "metadata": {
    "collapsed": false
   }
  },
  {
   "cell_type": "code",
   "execution_count": 4,
   "outputs": [
    {
     "data": {
      "text/plain": "              fare  ride_id  driver_count\ntype                                     \nRural      4327.93      125             7\nSuburban  19356.33      625             7\nUrban     39854.38     1625            38",
      "text/html": "<div>\n<style scoped>\n    .dataframe tbody tr th:only-of-type {\n        vertical-align: middle;\n    }\n\n    .dataframe tbody tr th {\n        vertical-align: top;\n    }\n\n    .dataframe thead th {\n        text-align: right;\n    }\n</style>\n<table border=\"1\" class=\"dataframe\">\n  <thead>\n    <tr style=\"text-align: right;\">\n      <th></th>\n      <th>fare</th>\n      <th>ride_id</th>\n      <th>driver_count</th>\n    </tr>\n    <tr>\n      <th>type</th>\n      <th></th>\n      <th></th>\n      <th></th>\n    </tr>\n  </thead>\n  <tbody>\n    <tr>\n      <th>Rural</th>\n      <td>4327.93</td>\n      <td>125</td>\n      <td>7</td>\n    </tr>\n    <tr>\n      <th>Suburban</th>\n      <td>19356.33</td>\n      <td>625</td>\n      <td>7</td>\n    </tr>\n    <tr>\n      <th>Urban</th>\n      <td>39854.38</td>\n      <td>1625</td>\n      <td>38</td>\n    </tr>\n  </tbody>\n</table>\n</div>"
     },
     "metadata": {},
     "output_type": "execute_result",
     "execution_count": 4
    }
   ],
   "source": [
    "#dataframe: Total Fares, Total Rides, Total Drivers by City Type\n",
    "df2 = combined_data.groupby([\"type\"]).agg({\"fare\":'sum',\n",
    "                                           \"ride_id\": 'count',\n",
    "                                           \"driver_count\": 'first'})\n",
    "df2\n",
    "# convert to %\n",
    "#df2 = df2/df2.sum() * 100.0\n",
    "#df2"
   ],
   "metadata": {
    "collapsed": false,
    "pycharm": {
     "name": "#%%\n",
     "is_executing": false
    }
   }
  },
  {
   "cell_type": "markdown",
   "source": [
    "---\n",
    "## Pie Chart 1: % of Total Fares by City Type"
   ],
   "metadata": {
    "collapsed": false
   }
  },
  {
   "cell_type": "code",
   "execution_count": 5,
   "outputs": [
    {
     "data": {
      "text/plain": "<Figure size 432x288 with 1 Axes>",
      "image/png": "[encoded data removed]"
     },
     "metadata": {},
     "output_type": "display_data"
    }
   ],
   "source": [
    "plt.pie(df2.fare,labels=list(set(df1.type)), autopct='%1.1f%%')\n",
    "plt.title(\"% of Total Fares by City Type\")\n",
    "plt.show()\n"
   ],
   "metadata": {
    "collapsed": false,
    "pycharm": {
     "name": "#%%\n",
     "is_executing": false
    }
   }
  },
  {
   "cell_type": "markdown",
   "source": [
    "---\n",
    "## Pie Chart 2: % of Total Rides by City Type"
   ],
   "metadata": {
    "collapsed": false
   }
  },
  {
   "cell_type": "code",
   "execution_count": 6,
   "outputs": [
    {
     "data": {
      "text/plain": "<Figure size 432x288 with 1 Axes>",
      "image/png": "[encoded data removed]"
     },
     "metadata": {},
     "output_type": "display_data"
    }
   ],
   "source": [
    "plt.pie(df2.ride_id,labels=list(set(df1.type)), autopct='%1.1f%%')\n",
    "plt.title(\"% of Total Rides by City Type\")\n",
    "plt.show()\n"
   ],
   "metadata": {
    "collapsed": false,
    "pycharm": {
     "name": "#%%\n",
     "is_executing": false
    }
   }
  },
  {
   "cell_type": "markdown",
   "source": [
    "---\n",
    "## Pie Chart 3: % of Total Drivers by City Type"
   ],
   "metadata": {
    "collapsed": false
   }
  },
  {
   "cell_type": "code",
   "execution_count": 7,
   "outputs": [
    {
     "data": {
      "text/plain": "<Figure size 432x288 with 1 Axes>",
      "image/png": "[encoded data removed]"
     },
     "metadata": {},
     "output_type": "display_data"
    }
   ],
   "source": [
    "plt.pie(df2.driver_count,labels=list(set(df1.type)), autopct='%1.1f%%')\n",
    "plt.title(\"% of Total Drivers by City Type\")\n",
    "plt.show()\n",
    "\n"
   ],
   "metadata": {
    "collapsed": false,
    "pycharm": {
     "name": "#%%\n",
     "is_executing": false
    }
   }
  },
  {
   "cell_type": "code",
   "execution_count": 7,
   "outputs": [],
   "source": [],
   "metadata": {
    "collapsed": false,
    "pycharm": {
     "name": "#%%\n",
     "is_executing": false
    }
   }
  },
  {
   "cell_type": "code",
   "execution_count": null,
   "outputs": [],
   "source": [
    "\n"
   ],
   "metadata": {
    "collapsed": false,
    "pycharm": {
     "name": "#%%\n"
    }
   }
  }
 ],
 "metadata": {
  "language_info": {
   "codemirror_mode": {
    "name": "ipython",
    "version": 2
   },
   "file_extension": ".py",
   "mimetype": "text/x-python",
   "name": "python",
   "nbconvert_exporter": "python",
   "pygments_lexer": "ipython2",
   "version": "2.7.6"
  },
  "kernelspec": {
   "name": "python3",
   "language": "python",
   "display_name": "Python 3"
  },
  "pycharm": {
   "stem_cell": {
    "cell_type": "raw",
    "source": [],
    "metadata": {
     "collapsed": false
    }
   }
  }
 },
 "nbformat": 4,
 "nbformat_minor": 0
}