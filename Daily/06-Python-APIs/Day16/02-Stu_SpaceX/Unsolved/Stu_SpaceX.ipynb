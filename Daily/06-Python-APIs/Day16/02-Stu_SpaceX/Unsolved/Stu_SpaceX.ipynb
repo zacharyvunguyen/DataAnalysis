{
 "cells": [
  {
   "cell_type": "code",
   "execution_count": 11,
   "metadata": {
    "collapsed": true,
    "pycharm": {
     "is_executing": false
    }
   },
   "outputs": [],
   "source": [
    "# Dependencies\n",
    "import requests\n",
    "import json"
   ]
  },
  {
   "cell_type": "code",
   "execution_count": 19,
   "metadata": {
    "collapsed": true,
    "pycharm": {
     "is_executing": false
    }
   },
   "outputs": [],
   "source": [
    "# URL for GET requests to retrieve vehicle data\n",
    "url = \"https://api.spacexdata.com/v3/rockets\""
   ]
  },
  {
   "cell_type": "code",
   "execution_count": 20,
   "metadata": {
    "pycharm": {
     "is_executing": false
    }
   },
   "outputs": [
    {
     "name": "stdout",
     "text": [
      "[\n    {\n        \"id\": 1,\n        \"active\": false,\n        \"stages\": 2,\n        \"boosters\": 0,\n        \"cost_per_launch\": 6700000,\n        \"success_rate_pct\": 40,\n        \"first_flight\": \"2006-03-24\",\n        \"country\": \"Republic of the Marshall Islands\",\n        \"company\": \"SpaceX\",\n        \"height\": {\n            \"meters\": 22.25,\n            \"feet\": 73\n        },\n        \"diameter\": {\n            \"meters\": 1.68,\n            \"feet\": 5.5\n        },\n        \"mass\": {\n            \"kg\": 30146,\n            \"lb\": 66460\n        },\n        \"payload_weights\": [\n            {\n                \"id\": \"leo\",\n                \"name\": \"Low Earth Orbit\",\n                \"kg\": 450,\n                \"lb\": 992\n            }\n        ],\n        \"first_stage\": {\n            \"reusable\": false,\n            \"engines\": 1,\n            \"fuel_amount_tons\": 44.3,\n            \"burn_time_sec\": 169,\n            \"thrust_sea_level\": {\n                \"kN\": 420,\n                \"lbf\": 94000\n            },\n            \"thrust_vacuum\": {\n                \"kN\": 480,\n                \"lbf\": 110000\n            }\n        },\n        \"second_stage\": {\n            \"reusable\": false,\n            \"engines\": 1,\n            \"fuel_amount_tons\": 3.38,\n            \"burn_time_sec\": 378,\n            \"thrust\": {\n                \"kN\": 31,\n                \"lbf\": 7000\n            },\n            \"payloads\": {\n                \"option_1\": \"composite fairing\",\n                \"composite_fairing\": {\n                    \"height\": {\n                        \"meters\": 3.5,\n                        \"feet\": 11.5\n                    },\n                    \"diameter\": {\n                        \"meters\": 1.5,\n                        \"feet\": 4.9\n                    }\n                }\n            }\n        },\n        \"engines\": {\n            \"number\": 1,\n            \"type\": \"merlin\",\n            \"version\": \"1C\",\n            \"layout\": \"single\",\n            \"engine_loss_max\": 0,\n            \"propellant_1\": \"liquid oxygen\",\n            \"propellant_2\": \"RP-1 kerosene\",\n            \"thrust_sea_level\": {\n                \"kN\": 420,\n                \"lbf\": 94000\n            },\n            \"thrust_vacuum\": {\n                \"kN\": 480,\n                \"lbf\": 110000\n            },\n            \"thrust_to_weight\": 96\n        },\n        \"landing_legs\": {\n            \"number\": 0,\n            \"material\": null\n        },\n        \"flickr_images\": [\n            \"https://www.spacex.com/sites/spacex/files/styles/media_gallery_large/public/2009_-_01_liftoff_south_full_wide_ro8a1280_edit.jpg?itok=8loiSGt1\",\n            \"https://www.spacex.com/sites/spacex/files/styles/media_gallery_large/public/2009_-_02_default_liftoff_west_full_wide_nn6p2062_xl.jpg?itok=p776nHsM\"\n        ],\n        \"wikipedia\": \"https://en.wikipedia.org/wiki/Falcon_1\",\n        \"description\": \"The Falcon 1 was an expendable launch system privately developed and manufactured by SpaceX during 2006-2009. On 28 September 2008, Falcon 1 became the first privately-developed liquid-fuel launch vehicle to go into orbit around the Earth.\",\n        \"rocket_id\": \"falcon1\",\n        \"rocket_name\": \"Falcon 1\",\n        \"rocket_type\": \"rocket\"\n    },\n    {\n        \"id\": 2,\n        \"active\": true,\n        \"stages\": 2,\n        \"boosters\": 0,\n        \"cost_per_launch\": 50000000,\n        \"success_rate_pct\": 97,\n        \"first_flight\": \"2010-06-04\",\n        \"country\": \"United States\",\n        \"company\": \"SpaceX\",\n        \"height\": {\n            \"meters\": 70,\n            \"feet\": 229.6\n        },\n        \"diameter\": {\n            \"meters\": 3.7,\n            \"feet\": 12\n        },\n        \"mass\": {\n            \"kg\": 549054,\n            \"lb\": 1207920\n        },\n        \"payload_weights\": [\n            {\n                \"id\": \"leo\",\n                \"name\": \"Low Earth Orbit\",\n                \"kg\": 22800,\n                \"lb\": 50265\n            },\n            {\n                \"id\": \"gto\",\n                \"name\": \"Geosynchronous Transfer Orbit\",\n                \"kg\": 8300,\n                \"lb\": 18300\n            },\n            {\n                \"id\": \"mars\",\n                \"name\": \"Mars Orbit\",\n                \"kg\": 4020,\n                \"lb\": 8860\n            }\n        ],\n        \"first_stage\": {\n            \"reusable\": true,\n            \"engines\": 9,\n            \"fuel_amount_tons\": 385,\n            \"burn_time_sec\": 162,\n            \"thrust_sea_level\": {\n                \"kN\": 7607,\n                \"lbf\": 1710000\n            },\n            \"thrust_vacuum\": {\n                \"kN\": 8227,\n                \"lbf\": 1849500\n            }\n        },\n        \"second_stage\": {\n            \"reusable\": false,\n            \"engines\": 1,\n            \"fuel_amount_tons\": 90,\n            \"burn_time_sec\": 397,\n            \"thrust\": {\n                \"kN\": 934,\n                \"lbf\": 210000\n            },\n            \"payloads\": {\n                \"option_1\": \"dragon\",\n                \"option_2\": \"composite fairing\",\n                \"composite_fairing\": {\n                    \"height\": {\n                        \"meters\": 13.1,\n                        \"feet\": 43\n                    },\n                    \"diameter\": {\n                        \"meters\": 5.2,\n                        \"feet\": 17.1\n                    }\n                }\n            }\n        },\n        \"engines\": {\n            \"number\": 9,\n            \"type\": \"merlin\",\n            \"version\": \"1D+\",\n            \"layout\": \"octaweb\",\n            \"engine_loss_max\": 2,\n            \"propellant_1\": \"liquid oxygen\",\n            \"propellant_2\": \"RP-1 kerosene\",\n            \"thrust_sea_level\": {\n                \"kN\": 845,\n                \"lbf\": 190000\n            },\n            \"thrust_vacuum\": {\n                \"kN\": 914,\n                \"lbf\": 205500\n            },\n            \"thrust_to_weight\": 180.1\n        },\n        \"landing_legs\": {\n            \"number\": 4,\n            \"material\": \"carbon fiber\"\n        },\n        \"flickr_images\": [\n            \"https://farm1.staticflickr.com/929/28787338307_3453a11a77_b.jpg\",\n            \"https://farm4.staticflickr.com/3955/32915197674_eee74d81bb_b.jpg\",\n            \"https://farm1.staticflickr.com/293/32312415025_6841e30bf1_b.jpg\",\n            \"https://farm1.staticflickr.com/623/23660653516_5b6cb301d1_b.jpg\",\n            \"https://farm6.staticflickr.com/5518/31579784413_d853331601_b.jpg\",\n            \"https://farm1.staticflickr.com/745/32394687645_a9c54a34ef_b.jpg\"\n        ],\n        \"wikipedia\": \"https://en.wikipedia.org/wiki/Falcon_9\",\n        \"description\": \"Falcon 9 is a two-stage rocket designed and manufactured by SpaceX for the reliable and safe transport of satellites and the Dragon spacecraft into orbit.\",\n        \"rocket_id\": \"falcon9\",\n        \"rocket_name\": \"Falcon 9\",\n        \"rocket_type\": \"rocket\"\n    },\n    {\n        \"id\": 3,\n        \"active\": true,\n        \"stages\": 2,\n        \"boosters\": 2,\n        \"cost_per_launch\": 90000000,\n        \"success_rate_pct\": 100,\n        \"first_flight\": \"2018-02-06\",\n        \"country\": \"United States\",\n        \"company\": \"SpaceX\",\n        \"height\": {\n            \"meters\": 70,\n            \"feet\": 229.6\n        },\n        \"diameter\": {\n            \"meters\": 12.2,\n            \"feet\": 39.9\n        },\n        \"mass\": {\n            \"kg\": 1420788,\n            \"lb\": 3125735\n        },\n        \"payload_weights\": [\n            {\n                \"id\": \"leo\",\n                \"name\": \"Low Earth Orbit\",\n                \"kg\": 63800,\n                \"lb\": 140660\n            },\n            {\n                \"id\": \"gto\",\n                \"name\": \"Geosynchronous Transfer Orbit\",\n                \"kg\": 26700,\n                \"lb\": 58860\n            },\n            {\n                \"id\": \"mars\",\n                \"name\": \"Mars Orbit\",\n                \"kg\": 16800,\n                \"lb\": 37040\n            },\n            {\n                \"id\": \"pluto\",\n                \"name\": \"Pluto Orbit\",\n                \"kg\": 3500,\n                \"lb\": 7720\n            }\n        ],\n        \"first_stage\": {\n            \"reusable\": true,\n            \"engines\": 27,\n            \"fuel_amount_tons\": 1155,\n            \"cores\": 3,\n            \"burn_time_sec\": 162,\n            \"thrust_sea_level\": {\n                \"kN\": 22819,\n                \"lbf\": 5130000\n            },\n            \"thrust_vacuum\": {\n                \"kN\": 24681,\n                \"lbf\": 5548500\n            }\n        },\n        \"second_stage\": {\n            \"reusable\": false,\n            \"engines\": 1,\n            \"fuel_amount_tons\": 90,\n            \"burn_time_sec\": 397,\n            \"thrust\": {\n                \"kN\": 934,\n                \"lbf\": 210000\n            },\n            \"payloads\": {\n                \"option_1\": \"dragon\",\n                \"option_2\": \"composite fairing\",\n                \"composite_fairing\": {\n                    \"height\": {\n                        \"meters\": 13.1,\n                        \"feet\": 43\n                    },\n                    \"diameter\": {\n                        \"meters\": 5.2,\n                        \"feet\": 17.1\n                    }\n                }\n            }\n        },\n        \"engines\": {\n            \"number\": 27,\n            \"type\": \"merlin\",\n            \"version\": \"1D+\",\n            \"layout\": \"octaweb\",\n            \"engine_loss_max\": 6,\n            \"propellant_1\": \"liquid oxygen\",\n            \"propellant_2\": \"RP-1 kerosene\",\n            \"thrust_sea_level\": {\n                \"kN\": 845,\n                \"lbf\": 190000\n            },\n            \"thrust_vacuum\": {\n                \"kN\": 914,\n                \"lbf\": 205500\n            },\n            \"thrust_to_weight\": 180.1\n        },\n        \"landing_legs\": {\n            \"number\": 12,\n            \"material\": \"carbon fiber\"\n        },\n        \"flickr_images\": [\n            \"https://farm5.staticflickr.com/4599/38583829295_581f34dd84_b.jpg\",\n            \"https://farm5.staticflickr.com/4645/38583830575_3f0f7215e6_b.jpg\",\n            \"https://farm5.staticflickr.com/4696/40126460511_b15bf84c85_b.jpg\",\n            \"https://farm5.staticflickr.com/4711/40126461411_aabc643fd8_b.jpg\"\n        ],\n        \"wikipedia\": \"https://en.wikipedia.org/wiki/Falcon_Heavy\",\n        \"description\": \"With the ability to lift into orbit over 54 metric tons (119,000 lb)--a mass equivalent to a 737 jetliner loaded with passengers, crew, luggage and fuel--Falcon Heavy can lift more than twice the payload of the next closest operational vehicle, the Delta IV Heavy, at one-third the cost.\",\n        \"rocket_id\": \"falconheavy\",\n        \"rocket_name\": \"Falcon Heavy\",\n        \"rocket_type\": \"rocket\"\n    },\n    {\n        \"id\": 4,\n        \"active\": false,\n        \"stages\": 2,\n        \"boosters\": 0,\n        \"cost_per_launch\": 7000000,\n        \"success_rate_pct\": 0,\n        \"first_flight\": \"2019-12-01\",\n        \"country\": \"United States\",\n        \"company\": \"SpaceX\",\n        \"height\": {\n            \"meters\": 118,\n            \"feet\": 387\n        },\n        \"diameter\": {\n            \"meters\": 9,\n            \"feet\": 30\n        },\n        \"mass\": {\n            \"kg\": 4400000,\n            \"lb\": 9700000\n        },\n        \"payload_weights\": [\n            {\n                \"id\": \"leo\",\n                \"name\": \"Low Earth Orbit\",\n                \"kg\": 150000,\n                \"lb\": 330000\n            },\n            {\n                \"id\": \"mars\",\n                \"name\": \"Mars Orbit\",\n                \"kg\": 100000,\n                \"lb\": 220000\n            }\n        ],\n        \"first_stage\": {\n            \"reusable\": true,\n            \"engines\": 31,\n            \"fuel_amount_tons\": 6700,\n            \"burn_time_sec\": null,\n            \"thrust_sea_level\": {\n                \"kN\": 128000,\n                \"lbf\": 28775544\n            },\n            \"thrust_vacuum\": {\n                \"kN\": 138000,\n                \"lbf\": 31023634\n            }\n        },\n        \"second_stage\": {\n            \"reusable\": true,\n            \"engines\": 6,\n            \"fuel_amount_tons\": 1100,\n            \"burn_time_sec\": null,\n            \"thrust\": {\n                \"kN\": 1900,\n                \"lbf\": 427136\n            },\n            \"payloads\": {\n                \"option_1\": \"Spaceship\",\n                \"option_2\": \"composite fairing\",\n                \"composite_fairing\": {\n                    \"height\": {\n                        \"meters\": null,\n                        \"feet\": null\n                    },\n                    \"diameter\": {\n                        \"meters\": null,\n                        \"feet\": null\n                    }\n                }\n            }\n        },\n        \"engines\": {\n            \"number\": 31,\n            \"type\": \"raptor\",\n            \"version\": \"\",\n            \"layout\": null,\n            \"engine_loss_max\": null,\n            \"propellant_1\": \"liquid oxygen\",\n            \"propellant_2\": \"liquid methane\",\n            \"thrust_sea_level\": {\n                \"kN\": 1700,\n                \"lbf\": 382175\n            },\n            \"thrust_vacuum\": {\n                \"kN\": 1900,\n                \"lbf\": 427136\n            },\n            \"thrust_to_weight\": null\n        },\n        \"landing_legs\": {\n            \"number\": 4,\n            \"material\": \"carbon fiber\"\n        },\n        \"flickr_images\": [\n            \"https://farm2.staticflickr.com/1861/30934146988_f3de261bb4_b.jpg\",\n            \"https://farm2.staticflickr.com/1854/30934146778_765ea9f486_b.jpg\",\n            \"https://farm2.staticflickr.com/1898/30934147078_31b54027b0_b.jpg\",\n            \"https://farm2.staticflickr.com/1845/43895099105_7329ee6bba_b.jpg\"\n        ],\n        \"wikipedia\": \"https://en.wikipedia.org/wiki/BFR_(rocket)\",\n        \"description\": \"BFR is a privately funded next-generation reusable launch vehicle and spacecraft system developed by SpaceX. It was announced by Elon Musk in September 2017; the first spacecraft prototype was being manufactured as of March 2018 and will begin testing in early 2019. The overall space vehicle architecture includes both launch vehicles and spacecraft that are intended to completely replace all of SpaceX's existing space hardware by the early 2020s as well as ground infrastructure for rapid launch and relaunch, and zero-gravity propellant transfer technology to be deployed in low Earth orbit (LEO). The large payload to Earth orbit of up to 150,000 kg (330,000 lb) makes BFR a super heavy-lift launch vehicle.\",\n        \"rocket_id\": \"bfr\",\n        \"rocket_name\": \"Big Falcon Rocket\",\n        \"rocket_type\": \"rocket\"\n    }\n]\n"
     ],
     "output_type": "stream"
    }
   ],
   "source": [
    "# Pretty print JSON for all launchpads\n",
    "response=requests.get(url).json()\n",
    "js=json.dumps(response,indent=4)\n",
    "print(js)"
   ]
  },
  {
   "cell_type": "code",
   "execution_count": 23,
   "metadata": {
    "pycharm": {
     "is_executing": false
    }
   },
   "outputs": [
    {
     "name": "stdout",
     "text": [
      "{\n    \"id\": 3,\n    \"active\": true,\n    \"stages\": 2,\n    \"boosters\": 2,\n    \"cost_per_launch\": 90000000,\n    \"success_rate_pct\": 100,\n    \"first_flight\": \"2018-02-06\",\n    \"country\": \"United States\",\n    \"company\": \"SpaceX\",\n    \"height\": {\n        \"meters\": 70,\n        \"feet\": 229.6\n    },\n    \"diameter\": {\n        \"meters\": 12.2,\n        \"feet\": 39.9\n    },\n    \"mass\": {\n        \"kg\": 1420788,\n        \"lb\": 3125735\n    },\n    \"payload_weights\": [\n        {\n            \"id\": \"leo\",\n            \"name\": \"Low Earth Orbit\",\n            \"kg\": 63800,\n            \"lb\": 140660\n        },\n        {\n            \"id\": \"gto\",\n            \"name\": \"Geosynchronous Transfer Orbit\",\n            \"kg\": 26700,\n            \"lb\": 58860\n        },\n        {\n            \"id\": \"mars\",\n            \"name\": \"Mars Orbit\",\n            \"kg\": 16800,\n            \"lb\": 37040\n        },\n        {\n            \"id\": \"pluto\",\n            \"name\": \"Pluto Orbit\",\n            \"kg\": 3500,\n            \"lb\": 7720\n        }\n    ],\n    \"first_stage\": {\n        \"reusable\": true,\n        \"engines\": 27,\n        \"fuel_amount_tons\": 1155,\n        \"cores\": 3,\n        \"burn_time_sec\": 162,\n        \"thrust_sea_level\": {\n            \"kN\": 22819,\n            \"lbf\": 5130000\n        },\n        \"thrust_vacuum\": {\n            \"kN\": 24681,\n            \"lbf\": 5548500\n        }\n    },\n    \"second_stage\": {\n        \"reusable\": false,\n        \"engines\": 1,\n        \"fuel_amount_tons\": 90,\n        \"burn_time_sec\": 397,\n        \"thrust\": {\n            \"kN\": 934,\n            \"lbf\": 210000\n        },\n        \"payloads\": {\n            \"option_1\": \"dragon\",\n            \"option_2\": \"composite fairing\",\n            \"composite_fairing\": {\n                \"height\": {\n                    \"meters\": 13.1,\n                    \"feet\": 43\n                },\n                \"diameter\": {\n                    \"meters\": 5.2,\n                    \"feet\": 17.1\n                }\n            }\n        }\n    },\n    \"engines\": {\n        \"number\": 27,\n        \"type\": \"merlin\",\n        \"version\": \"1D+\",\n        \"layout\": \"octaweb\",\n        \"engine_loss_max\": 6,\n        \"propellant_1\": \"liquid oxygen\",\n        \"propellant_2\": \"RP-1 kerosene\",\n        \"thrust_sea_level\": {\n            \"kN\": 845,\n            \"lbf\": 190000\n        },\n        \"thrust_vacuum\": {\n            \"kN\": 914,\n            \"lbf\": 205500\n        },\n        \"thrust_to_weight\": 180.1\n    },\n    \"landing_legs\": {\n        \"number\": 12,\n        \"material\": \"carbon fiber\"\n    },\n    \"flickr_images\": [\n        \"https://farm5.staticflickr.com/4599/38583829295_581f34dd84_b.jpg\",\n        \"https://farm5.staticflickr.com/4645/38583830575_3f0f7215e6_b.jpg\",\n        \"https://farm5.staticflickr.com/4696/40126460511_b15bf84c85_b.jpg\",\n        \"https://farm5.staticflickr.com/4711/40126461411_aabc643fd8_b.jpg\"\n    ],\n    \"wikipedia\": \"https://en.wikipedia.org/wiki/Falcon_Heavy\",\n    \"description\": \"With the ability to lift into orbit over 54 metric tons (119,000 lb)--a mass equivalent to a 737 jetliner loaded with passengers, crew, luggage and fuel--Falcon Heavy can lift more than twice the payload of the next closest operational vehicle, the Delta IV Heavy, at one-third the cost.\",\n    \"rocket_id\": \"falconheavy\",\n    \"rocket_name\": \"Falcon Heavy\",\n    \"rocket_type\": \"rocket\"\n}\n22.25\n70\n70\n118\n"
     ],
     "output_type": "stream"
    }
   ],
   "source": [
    "# Pretty print JSON for a specific launchpad\n",
    "print(json.dumps(response[2],indent=4))\n",
    "\n",
    "for rocket in response:\n",
    "    print(rocket[\"height\"][\"meters\"])\n"
   ]
  },
  {
   "cell_type": "code",
   "execution_count": null,
   "outputs": [],
   "source": [
    "\n"
   ],
   "metadata": {
    "collapsed": false,
    "pycharm": {
     "name": "#%%\n"
    }
   }
  }
 ],
 "metadata": {
  "kernelspec": {
   "display_name": "Python [default]",
   "language": "python",
   "name": "python3"
  },
  "language_info": {
   "codemirror_mode": {
    "name": "ipython",
    "version": 3
   },
   "file_extension": ".py",
   "mimetype": "text/x-python",
   "name": "python",
   "nbconvert_exporter": "python",
   "pygments_lexer": "ipython3",
   "version": "3.6.1"
  },
  "varInspector": {
   "cols": {
    "lenName": 16,
    "lenType": 16,
    "lenVar": 40
   },
   "kernels_config": {
    "python": {
     "delete_cmd_postfix": "",
     "delete_cmd_prefix": "del ",
     "library": "var_list.py",
     "varRefreshCmd": "print(var_dic_list())"
    },
    "r": {
     "delete_cmd_postfix": ") ",
     "delete_cmd_prefix": "rm(",
     "library": "var_list.r",
     "varRefreshCmd": "cat(var_dic_list()) "
    }
   },
   "types_to_exclude": [
    "module",
    "function",
    "builtin_function_or_method",
    "instance",
    "_Feature"
   ],
   "window_display": false
  },
  "pycharm": {
   "stem_cell": {
    "cell_type": "raw",
    "source": [],
    "metadata": {
     "collapsed": false
    }
   }
  }
 },
 "nbformat": 4,
 "nbformat_minor": 2
}