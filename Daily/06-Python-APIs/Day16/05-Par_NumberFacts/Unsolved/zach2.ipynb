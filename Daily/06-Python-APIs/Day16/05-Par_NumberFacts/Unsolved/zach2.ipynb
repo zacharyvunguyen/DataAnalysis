{
 "cells": [
  {
   "cell_type": "code",
   "execution_count": 23,
   "metadata": {
    "collapsed": true,
    "pycharm": {
     "is_executing": false
    }
   },
   "outputs": [],
   "source": [
    "import requests\n",
    "import json"
   ]
  },
  {
   "cell_type": "code",
   "execution_count": 28,
   "outputs": [],
   "source": [
    "#number=input(\"what is your number\")\n",
    "#number"
   ],
   "metadata": {
    "collapsed": false,
    "pycharm": {
     "name": "#%%\n",
     "is_executing": false
    }
   }
  },
  {
   "cell_type": "code",
   "execution_count": 29,
   "outputs": [
    {
     "data": {
      "text/plain": "'date'"
     },
     "metadata": {},
     "output_type": "execute_result",
     "execution_count": 29
    }
   ],
   "source": [
    "category=input(\"what is your category, math, trivia, date\")\n",
    "category"
   ],
   "metadata": {
    "collapsed": false,
    "pycharm": {
     "name": "#%%\n",
     "is_executing": false
    }
   }
  },
  {
   "cell_type": "code",
   "execution_count": 30,
   "outputs": [
    {
     "name": "stdout",
     "text": [
      "http://numbersapi.com/8/28?json\n"
     ],
     "output_type": "stream"
    }
   ],
   "source": [
    "base_url = base_url=\"http://numbersapi.com/\"\n",
    "\n",
    "if category == \"trivia\":\n",
    "    number=input(\"what is your number\")\n",
    "    url=base_url+number+'?json'\n",
    "    print(url)\n",
    "elif category == 'math':\n",
    "    number=input(\"what is your number\")\n",
    "    url=base_url+number+'/math'+'?json'\n",
    "    print(url)\n",
    "else:\n",
    "    month=input(\"what is your month in number?\")\n",
    "    day=input(\"what is your day\")\n",
    "    url=base_url+month+'/'+day+'?json'\n",
    "    print(url)"
   ],
   "metadata": {
    "collapsed": false,
    "pycharm": {
     "name": "#%%\n",
     "is_executing": false
    }
   }
  },
  {
   "cell_type": "code",
   "execution_count": 31,
   "outputs": [
    {
     "name": "stdout",
     "text": [
      "http://numbersapi.com/8/28?json\n"
     ],
     "output_type": "stream"
    },
    {
     "data": {
      "text/plain": "'August 28th is the day in 1789 that William Herschel discovers a new moon of Saturn.'"
     },
     "metadata": {},
     "output_type": "execute_result",
     "execution_count": 31
    }
   ],
   "source": [
    "response = requests.get(url)\n",
    "print(response.url)\n",
    "\n",
    "data = response.json()\n",
    "text=data['text']\n",
    "text\n",
    "\n"
   ],
   "metadata": {
    "collapsed": false,
    "pycharm": {
     "name": "#%%\n",
     "is_executing": false
    }
   }
  },
  {
   "cell_type": "code",
   "execution_count": null,
   "outputs": [],
   "source": [
    "\n"
   ],
   "metadata": {
    "collapsed": false,
    "pycharm": {
     "name": "#%%\n"
    }
   }
  }
 ],
 "metadata": {
  "language_info": {
   "codemirror_mode": {
    "name": "ipython",
    "version": 2
   },
   "file_extension": ".py",
   "mimetype": "text/x-python",
   "name": "python",
   "nbconvert_exporter": "python",
   "pygments_lexer": "ipython2",
   "version": "2.7.6"
  },
  "kernelspec": {
   "name": "python3",
   "language": "python",
   "display_name": "Python 3"
  },
  "pycharm": {
   "stem_cell": {
    "cell_type": "raw",
    "source": [],
    "metadata": {
     "collapsed": false
    }
   }
  }
 },
 "nbformat": 4,
 "nbformat_minor": 0
}