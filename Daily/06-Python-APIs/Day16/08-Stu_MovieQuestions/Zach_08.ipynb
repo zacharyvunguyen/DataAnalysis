{
 "cells": [
  {
   "cell_type": "code",
   "execution_count": 11,
   "outputs": [],
   "source": [
    "import requests\n",
    "import json"
   ],
   "metadata": {
    "collapsed": false,
    "pycharm": {
     "name": "#%%\n",
     "is_executing": false
    }
   }
  },
  {
   "cell_type": "code",
   "execution_count": 12,
   "outputs": [],
   "source": [
    "# New Dependency! Use this to pretty print the JSON\n",
    "# https://docs.python.org/3/library/pprint.html\n",
    "from pprint import pprint"
   ],
   "metadata": {
    "collapsed": false,
    "pycharm": {
     "name": "#%%\n",
     "is_executing": false
    }
   }
  },
  {
   "cell_type": "code",
   "execution_count": 13,
   "outputs": [],
   "source": [
    "# Note that the ?t= is a query param for the t-itle of the\n",
    "# movie we want to search for.\n",
    "url = \"http://www.omdbapi.com/?t=\"\n",
    "api_key = \"&apikey=trilogy\""
   ],
   "metadata": {
    "collapsed": false,
    "pycharm": {
     "name": "#%%\n",
     "is_executing": false
    }
   }
  },
  {
   "cell_type": "code",
   "execution_count": 19,
   "outputs": [
    {
     "name": "stdout",
     "text": [
      "http://www.omdbapi.com/?t=Aliens&apikey=trilogy\n"
     ],
     "output_type": "stream"
    }
   ],
   "source": [
    "# Performing a GET request similar to the one we executed\n",
    "# earlier\n",
    "response = requests.get(url + \"Aliens\" + api_key)\n",
    "print(response.url)"
   ],
   "metadata": {
    "collapsed": false,
    "pycharm": {
     "name": "#%%\n",
     "is_executing": false
    }
   }
  },
  {
   "cell_type": "code",
   "execution_count": 20,
   "outputs": [
    {
     "name": "stdout",
     "text": [
      "{'Actors': 'Sigourney Weaver, Carrie Henn, Michael Biehn, Paul Reiser',\n 'Awards': 'Won 2 Oscars. Another 18 wins & 22 nominations.',\n 'BoxOffice': 'N/A',\n 'Country': 'USA, UK',\n 'DVD': '01 Jun 1999',\n 'Director': 'James Cameron',\n 'Genre': 'Action, Adventure, Sci-Fi, Thriller',\n 'Language': 'English',\n 'Metascore': '84',\n 'Plot': 'Ellen Ripley is rescued by a deep salvage team after being in '\n         'hypersleep for 57 years. The moon that the Nostromo visited has been '\n         'colonized, but contact is lost. This time, colonial marines have '\n         'impressive firepower, but will that be enough?',\n 'Poster': 'https://m.media-amazon.com/images/M/MV5BZGU2OGY5ZTYtMWNhYy00NjZiLWI0NjUtZmNhY2JhNDRmODU3XkEyXkFqcGdeQXVyNzkwMjQ5NzM@._V1_SX300.jpg',\n 'Production': '20th Century Fox',\n 'Rated': 'R',\n 'Ratings': [{'Source': 'Internet Movie Database', 'Value': '8.4/10'},\n             {'Source': 'Rotten Tomatoes', 'Value': '99%'},\n             {'Source': 'Metacritic', 'Value': '84/100'}],\n 'Released': '18 Jul 1986',\n 'Response': 'True',\n 'Runtime': '137 min',\n 'Title': 'Aliens',\n 'Type': 'movie',\n 'Website': 'https://www.foxmovies.com/movies/aliens',\n 'Writer': 'James Cameron (story by), David Giler (story by), Walter Hill '\n           \"(story by), Dan O'Bannon (based on characters created by), Ronald \"\n           'Shusett (based on characters created by), James Cameron '\n           '(screenplay by)',\n 'Year': '1986',\n 'imdbID': 'tt0090605',\n 'imdbRating': '8.4',\n 'imdbVotes': '602,195'}\n"
     ],
     "output_type": "stream"
    }
   ],
   "source": [
    "data=response.json()\n",
    "pprint(data)\n"
   ],
   "metadata": {
    "collapsed": false,
    "pycharm": {
     "name": "#%%\n",
     "is_executing": false
    }
   }
  },
  {
   "cell_type": "code",
   "execution_count": 22,
   "outputs": [
    {
     "data": {
      "text/plain": "'James Cameron'"
     },
     "metadata": {},
     "output_type": "execute_result",
     "execution_count": 22
    }
   ],
   "source": [
    "#Who was the director of the movie **Aliens**?\n",
    "data['Director']"
   ],
   "metadata": {
    "collapsed": false,
    "pycharm": {
     "name": "#%%\n",
     "is_executing": false
    }
   }
  },
  {
   "cell_type": "code",
   "execution_count": 25,
   "outputs": [
    {
     "data": {
      "text/plain": "'R'"
     },
     "metadata": {},
     "output_type": "execute_result",
     "execution_count": 25
    }
   ],
   "source": [
    "#What was the movie **Gladiator** rated?\n",
    "response=requests.get(url + \"Gladiator\" + api_key)\n",
    "data=response.json()\n",
    "data['Rated']"
   ],
   "metadata": {
    "collapsed": false,
    "pycharm": {
     "name": "#%%\n",
     "is_executing": false
    }
   }
  },
  {
   "cell_type": "code",
   "execution_count": 26,
   "outputs": [
    {
     "data": {
      "text/plain": "'2004'"
     },
     "metadata": {},
     "output_type": "execute_result",
     "execution_count": 26
    }
   ],
   "source": [
    "#What year was **50 First Dates** released?\n",
    "response=requests.get(url + \"50 First Dates\" + api_key)\n",
    "data=response.json()\n",
    "data['Year']"
   ],
   "metadata": {
    "collapsed": false,
    "pycharm": {
     "name": "#%%\n",
     "is_executing": false
    }
   }
  },
  {
   "cell_type": "code",
   "execution_count": 28,
   "outputs": [
    {
     "data": {
      "text/plain": "'Jared Bush (screenplay by), Ron Clements (story by), John Musker (story by), Chris Williams (story by), Don Hall (story by), Pamela Ribon (story by), Aaron Kandell (story by), Jordan Kandell (story by)'"
     },
     "metadata": {},
     "output_type": "execute_result",
     "execution_count": 28
    }
   ],
   "source": [
    "#Who wrote **Moana**?\n",
    "response=requests.get(url + \"Moana\" + api_key)\n",
    "data=response.json()\n",
    "data['Writer']"
   ],
   "metadata": {
    "collapsed": false,
    "pycharm": {
     "name": "#%%\n",
     "is_executing": false
    }
   }
  },
  {
   "cell_type": "code",
   "execution_count": 29,
   "outputs": [
    {
     "data": {
      "text/plain": "\"In a city of humanoid animals, a hustling theater impresario's attempt to save his theater with a singing competition becomes grander than he anticipates even as its finalists find that their lives will never be the same.\""
     },
     "metadata": {},
     "output_type": "execute_result",
     "execution_count": 29
    }
   ],
   "source": [
    "#What was the plot of the movie **Sing**?\n",
    "response=requests.get(url + \"Sing\" + api_key)\n",
    "data=response.json()\n",
    "data['Plot']"
   ],
   "metadata": {
    "collapsed": false,
    "pycharm": {
     "name": "#%%\n",
     "is_executing": false
    }
   }
  },
  {
   "cell_type": "code",
   "execution_count": null,
   "outputs": [],
   "source": [
    "\n"
   ],
   "metadata": {
    "collapsed": false,
    "pycharm": {
     "name": "#%%\n"
    }
   }
  }
 ],
 "metadata": {
  "language_info": {
   "codemirror_mode": {
    "name": "ipython",
    "version": 2
   },
   "file_extension": ".py",
   "mimetype": "text/x-python",
   "name": "python",
   "nbconvert_exporter": "python",
   "pygments_lexer": "ipython2",
   "version": "2.7.6"
  },
  "kernelspec": {
   "name": "python3",
   "language": "python",
   "display_name": "Python 3"
  },
  "pycharm": {
   "stem_cell": {
    "cell_type": "raw",
    "source": [
     "\n",
     "# Instructions\n",
     "\n",
     "####Use the OMDb API to retrieve and print the following information.\n",
     "####\n",
     "####* Who was the director of the movie **Aliens**?\n",
     "####\n",
     "####* What was the movie **Gladiator** rated?\n",
     "####\n",
     "####* What year was **50 First Dates** released?\n",
     "####\n",
     "####* Who wrote **Moana**?\n",
     "####\n",
     "####* What was the plot of the movie **Sing**?\n"
    ],
    "metadata": {
     "collapsed": false
    }
   }
  }
 },
 "nbformat": 4,
 "nbformat_minor": 0
}