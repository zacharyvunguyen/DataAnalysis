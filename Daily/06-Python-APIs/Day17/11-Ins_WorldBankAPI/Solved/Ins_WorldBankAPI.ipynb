{
 "cells": [
  {
   "cell_type": "code",
   "execution_count": 1,
   "metadata": {
    "collapsed": true,
    "pycharm": {
     "is_executing": false
    }
   },
   "outputs": [],
   "source": [
    "# Dependencies\n",
    "import requests\n",
    "\n",
    "url = \"http://api.worldbank.org/v2/\"\n",
    "format = \"json\"\n",
    "\n",
    "# Get country information in JSON format\n",
    "countries_response = requests.get(f\"{url}countries?format={format}\").json()\n",
    "\n",
    "# First element is general information, second is countries themselves\n",
    "countries = countries_response[1]"
   ]
  },
  {
   "cell_type": "code",
   "execution_count": 2,
   "metadata": {
    "pycharm": {
     "is_executing": false
    }
   },
   "outputs": [
    {
     "name": "stdout",
     "text": [
      "Aruba\nAfghanistan\nAfrica\nAngola\nAlbania\nAndorra\nAndean Region\nArab World\nUnited Arab Emirates\nArgentina\nArmenia\nAmerican Samoa\nAntigua and Barbuda\nAustralia\nAustria\nAzerbaijan\nBurundi\nEast Asia & Pacific (IBRD-only countries)\nEurope & Central Asia (IBRD-only countries)\nBelgium\nBenin\nBurkina Faso\nBangladesh\nBulgaria\nIBRD countries classified as high income\nBahrain\nBahamas, The\nBosnia and Herzegovina\nLatin America & the Caribbean (IBRD-only countries)\nBelarus\nBelize\nMiddle East & North Africa (IBRD-only countries)\nBermuda\nBolivia\nBrazil\nBarbados\nBrunei Darussalam\nSub-Saharan Africa (IBRD-only countries)\nBhutan\nBotswana\nSub-Saharan Africa (IFC classification)\nCentral African Republic\nCanada\nEast Asia and the Pacific (IFC classification)\nCentral Europe and the Baltics\nEurope and Central Asia (IFC classification)\nSwitzerland\nChannel Islands\nChile\nChina\n"
     ],
     "output_type": "stream"
    }
   ],
   "source": [
    "# Report the names\n",
    "for country in countries:\n",
    "    print(country[\"name\"])"
   ]
  },
  {
   "cell_type": "code",
   "execution_count": null,
   "outputs": [],
   "source": [
    "\n"
   ],
   "metadata": {
    "collapsed": false,
    "pycharm": {
     "name": "#%%\n"
    }
   }
  }
 ],
 "metadata": {
  "kernelspec": {
   "name": "python3",
   "language": "python",
   "display_name": "Python 3"
  },
  "language_info": {
   "codemirror_mode": {
    "name": "ipython",
    "version": 3
   },
   "file_extension": ".py",
   "mimetype": "text/x-python",
   "name": "python",
   "nbconvert_exporter": "python",
   "pygments_lexer": "ipython3",
   "version": "3.6.1"
  },
  "pycharm": {
   "stem_cell": {
    "cell_type": "raw",
    "source": [],
    "metadata": {
     "collapsed": false
    }
   }
  }
 },
 "nbformat": 4,
 "nbformat_minor": 2
}