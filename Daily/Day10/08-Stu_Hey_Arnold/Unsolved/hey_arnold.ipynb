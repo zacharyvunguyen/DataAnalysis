{
 "cells": [
  {
   "cell_type": "code",
   "execution_count": 1,
   "metadata": {
    "collapsed": true,
    "pycharm": {
     "is_executing": false
    }
   },
   "outputs": [],
   "source": [
    "# import dependencies\n",
    "import pandas as pd\n"
   ]
  },
  {
   "cell_type": "code",
   "execution_count": 12,
   "metadata": {
    "pycharm": {
     "is_executing": false
    }
   },
   "outputs": [
    {
     "data": {
      "text/plain": "  Character_in_show color_of_hair   Height  Football_Shaped_Head\n0            Arnold        blonde  average                  True\n1            Gerald         black  tallish                 False\n2             Helga        blonde  tallish                 False\n3            Phoebe         black    short                 False\n4            Harold       unknown     tall                 False\n5            Eugene           red    short                 False",
      "text/html": "<div>\n<style scoped>\n    .dataframe tbody tr th:only-of-type {\n        vertical-align: middle;\n    }\n\n    .dataframe tbody tr th {\n        vertical-align: top;\n    }\n\n    .dataframe thead th {\n        text-align: right;\n    }\n</style>\n<table border=\"1\" class=\"dataframe\">\n  <thead>\n    <tr style=\"text-align: right;\">\n      <th></th>\n      <th>Character_in_show</th>\n      <th>color_of_hair</th>\n      <th>Height</th>\n      <th>Football_Shaped_Head</th>\n    </tr>\n  </thead>\n  <tbody>\n    <tr>\n      <th>0</th>\n      <td>Arnold</td>\n      <td>blonde</td>\n      <td>average</td>\n      <td>True</td>\n    </tr>\n    <tr>\n      <th>1</th>\n      <td>Gerald</td>\n      <td>black</td>\n      <td>tallish</td>\n      <td>False</td>\n    </tr>\n    <tr>\n      <th>2</th>\n      <td>Helga</td>\n      <td>blonde</td>\n      <td>tallish</td>\n      <td>False</td>\n    </tr>\n    <tr>\n      <th>3</th>\n      <td>Phoebe</td>\n      <td>black</td>\n      <td>short</td>\n      <td>False</td>\n    </tr>\n    <tr>\n      <th>4</th>\n      <td>Harold</td>\n      <td>unknown</td>\n      <td>tall</td>\n      <td>False</td>\n    </tr>\n    <tr>\n      <th>5</th>\n      <td>Eugene</td>\n      <td>red</td>\n      <td>short</td>\n      <td>False</td>\n    </tr>\n  </tbody>\n</table>\n</div>"
     },
     "metadata": {},
     "output_type": "execute_result",
     "execution_count": 12
    }
   ],
   "source": [
    "# Create a data frame with given columns and value\n",
    "hey_arnold = pd.DataFrame(\n",
    "    {\"Character_in_show\": [\"Arnold\", \"Gerald\", \"Helga\", \"Phoebe\", \"Harold\", \"Eugene\"],\n",
    "     \"color_of_hair\": [\"blonde\", \"black\", \"blonde\", \"black\", \"unknown\", \"red\"],\n",
    "     \"Height\": [\"average\", \"tallish\", \"tallish\", \"short\", \"tall\", \"short\"],\n",
    "     \"Football_Shaped_Head\": [True, False, False, False, False, False]\n",
    "     })\n",
    "\n",
    "hey_arnold"
   ]
  },
  {
   "cell_type": "code",
   "execution_count": 15,
   "metadata": {
    "collapsed": true,
    "pycharm": {
     "is_executing": false
    }
   },
   "outputs": [
    {
     "data": {
      "text/plain": "     Name Hair Color   Height  Foosball\n0  Arnold     blonde  average      True\n1  Gerald      black  tallish     False\n2   Helga     blonde  tallish     False\n3  Phoebe      black    short     False\n4  Harold    unknown     tall     False\n5  Eugene        red    short     False",
      "text/html": "<div>\n<style scoped>\n    .dataframe tbody tr th:only-of-type {\n        vertical-align: middle;\n    }\n\n    .dataframe tbody tr th {\n        vertical-align: top;\n    }\n\n    .dataframe thead th {\n        text-align: right;\n    }\n</style>\n<table border=\"1\" class=\"dataframe\">\n  <thead>\n    <tr style=\"text-align: right;\">\n      <th></th>\n      <th>Name</th>\n      <th>Hair Color</th>\n      <th>Height</th>\n      <th>Foosball</th>\n    </tr>\n  </thead>\n  <tbody>\n    <tr>\n      <th>0</th>\n      <td>Arnold</td>\n      <td>blonde</td>\n      <td>average</td>\n      <td>True</td>\n    </tr>\n    <tr>\n      <th>1</th>\n      <td>Gerald</td>\n      <td>black</td>\n      <td>tallish</td>\n      <td>False</td>\n    </tr>\n    <tr>\n      <th>2</th>\n      <td>Helga</td>\n      <td>blonde</td>\n      <td>tallish</td>\n      <td>False</td>\n    </tr>\n    <tr>\n      <th>3</th>\n      <td>Phoebe</td>\n      <td>black</td>\n      <td>short</td>\n      <td>False</td>\n    </tr>\n    <tr>\n      <th>4</th>\n      <td>Harold</td>\n      <td>unknown</td>\n      <td>tall</td>\n      <td>False</td>\n    </tr>\n    <tr>\n      <th>5</th>\n      <td>Eugene</td>\n      <td>red</td>\n      <td>short</td>\n      <td>False</td>\n    </tr>\n  </tbody>\n</table>\n</div>"
     },
     "metadata": {},
     "output_type": "execute_result",
     "execution_count": 15
    }
   ],
   "source": [
    "# Rename columns to clean up the look\n",
    "hey_arnold_rename=hey_arnold.rename(columns={\n",
    "    \"Character_in_show\":\"Name\",\n",
    "    \"color_of_hair\" : \"Hair Color\",\n",
    "    \"Football_Shaped_Head\" :\"Foosball\"\n",
    "\n",
    "})\n",
    "hey_arnold_rename"
   ]
  },
  {
   "cell_type": "code",
   "execution_count": 14,
   "metadata": {
    "collapsed": true,
    "pycharm": {
     "is_executing": false
    }
   },
   "outputs": [],
   "source": [
    "# Organize columns into a more logical order\n"
   ]
  },
  {
   "cell_type": "code",
   "execution_count": 14,
   "metadata": {
    "pycharm": {
     "is_executing": false
    }
   },
   "outputs": [
    {
     "name": "stdout",
     "text": [
      "hello\n"
     ],
     "output_type": "stream"
    }
   ],
   "source": [
    "print(\"hello\")"
   ]
  },
  {
   "cell_type": "code",
   "execution_count": null,
   "outputs": [],
   "source": [
    "\n"
   ],
   "metadata": {
    "collapsed": false,
    "pycharm": {
     "name": "#%%\n"
    }
   }
  }
 ],
 "metadata": {
  "kernel_info": {
   "name": "python3"
  },
  "kernelspec": {
   "name": "pycharm-b734bf48",
   "language": "python",
   "display_name": "PyCharm (DataAnalytic)"
  },
  "language_info": {
   "codemirror_mode": {
    "name": "ipython",
    "version": 3
   },
   "file_extension": ".py",
   "mimetype": "text/x-python",
   "name": "python",
   "nbconvert_exporter": "python",
   "pygments_lexer": "ipython3",
   "version": "3.6.4"
  },
  "nteract": {
   "version": "0.2.0"
  },
  "pycharm": {
   "stem_cell": {
    "cell_type": "raw",
    "source": [],
    "metadata": {
     "collapsed": false
    }
   }
  }
 },
 "nbformat": 4,
 "nbformat_minor": 2
}