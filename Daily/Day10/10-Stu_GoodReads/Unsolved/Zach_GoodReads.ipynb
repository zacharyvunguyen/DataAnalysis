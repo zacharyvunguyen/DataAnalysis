{
 "cells": [
  {
   "cell_type": "code",
   "execution_count": 12,
   "metadata": {
    "collapsed": true,
    "pycharm": {
     "is_executing": false
    }
   },
   "outputs": [],
   "source": [
    "import pandas as pd"
   ]
  },
  {
   "cell_type": "code",
   "execution_count": 24,
   "outputs": [
    {
     "data": {
      "text/plain": "   id  book_id  best_book_id  work_id  books_count       isbn        isbn13  \\\n0   1  2767052       2767052  2792775          272  439023483  9.780439e+12   \n1   2        3             3  4640799          491  439554934  9.780440e+12   \n2   3    41865         41865  3212258          226  316015849  9.780316e+12   \n3   4     2657          2657  3275794          487   61120081  9.780061e+12   \n4   5     4671          4671   245494         1356  743273567  9.780743e+12   \n\n                       authors  original_publication_year  \\\n0              Suzanne Collins                     2008.0   \n1  J.K. Rowling, Mary GrandPré                     1997.0   \n2              Stephenie Meyer                     2005.0   \n3                   Harper Lee                     1960.0   \n4          F. Scott Fitzgerald                     1925.0   \n\n                             original_title  ... ratings_count  \\\n0                          The Hunger Games  ...       4780653   \n1  Harry Potter and the Philosopher's Stone  ...       4602479   \n2                                  Twilight  ...       3866839   \n3                     To Kill a Mockingbird  ...       3198671   \n4                          The Great Gatsby  ...       2683664   \n\n  work_ratings_count  work_text_reviews_count  ratings_1  ratings_2  \\\n0            4942365                   155254      66715     127936   \n1            4800065                    75867      75504     101676   \n2            3916824                    95009     456191     436802   \n3            3340896                    72586      60427     117415   \n4            2773745                    51992      86236     197621   \n\n   ratings_3  ratings_4  ratings_5  \\\n0     560092    1481305    2706317   \n1     455024    1156318    3011543   \n2     793319     875073    1355439   \n3     446835    1001952    1714267   \n4     606158     936012     947718   \n\n                                           image_url  \\\n0  https://images.gr-assets.com/books/1447303603m...   \n1  https://images.gr-assets.com/books/1474154022m...   \n2  https://images.gr-assets.com/books/1361039443m...   \n3  https://images.gr-assets.com/books/1361975680m...   \n4  https://images.gr-assets.com/books/1490528560m...   \n\n                                     small_image_url  \n0  https://images.gr-assets.com/books/1447303603s...  \n1  https://images.gr-assets.com/books/1474154022s...  \n2  https://images.gr-assets.com/books/1361039443s...  \n3  https://images.gr-assets.com/books/1361975680s...  \n4  https://images.gr-assets.com/books/1490528560s...  \n\n[5 rows x 23 columns]",
      "text/html": "<div>\n<style scoped>\n    .dataframe tbody tr th:only-of-type {\n        vertical-align: middle;\n    }\n\n    .dataframe tbody tr th {\n        vertical-align: top;\n    }\n\n    .dataframe thead th {\n        text-align: right;\n    }\n</style>\n<table border=\"1\" class=\"dataframe\">\n  <thead>\n    <tr style=\"text-align: right;\">\n      <th></th>\n      <th>id</th>\n      <th>book_id</th>\n      <th>best_book_id</th>\n      <th>work_id</th>\n      <th>books_count</th>\n      <th>isbn</th>\n      <th>isbn13</th>\n      <th>authors</th>\n      <th>original_publication_year</th>\n      <th>original_title</th>\n      <th>...</th>\n      <th>ratings_count</th>\n      <th>work_ratings_count</th>\n      <th>work_text_reviews_count</th>\n      <th>ratings_1</th>\n      <th>ratings_2</th>\n      <th>ratings_3</th>\n      <th>ratings_4</th>\n      <th>ratings_5</th>\n      <th>image_url</th>\n      <th>small_image_url</th>\n    </tr>\n  </thead>\n  <tbody>\n    <tr>\n      <th>0</th>\n      <td>1</td>\n      <td>2767052</td>\n      <td>2767052</td>\n      <td>2792775</td>\n      <td>272</td>\n      <td>439023483</td>\n      <td>9.780439e+12</td>\n      <td>Suzanne Collins</td>\n      <td>2008.0</td>\n      <td>The Hunger Games</td>\n      <td>...</td>\n      <td>4780653</td>\n      <td>4942365</td>\n      <td>155254</td>\n      <td>66715</td>\n      <td>127936</td>\n      <td>560092</td>\n      <td>1481305</td>\n      <td>2706317</td>\n      <td>https://images.gr-assets.com/books/1447303603m...</td>\n      <td>https://images.gr-assets.com/books/1447303603s...</td>\n    </tr>\n    <tr>\n      <th>1</th>\n      <td>2</td>\n      <td>3</td>\n      <td>3</td>\n      <td>4640799</td>\n      <td>491</td>\n      <td>439554934</td>\n      <td>9.780440e+12</td>\n      <td>J.K. Rowling, Mary GrandPré</td>\n      <td>1997.0</td>\n      <td>Harry Potter and the Philosopher's Stone</td>\n      <td>...</td>\n      <td>4602479</td>\n      <td>4800065</td>\n      <td>75867</td>\n      <td>75504</td>\n      <td>101676</td>\n      <td>455024</td>\n      <td>1156318</td>\n      <td>3011543</td>\n      <td>https://images.gr-assets.com/books/1474154022m...</td>\n      <td>https://images.gr-assets.com/books/1474154022s...</td>\n    </tr>\n    <tr>\n      <th>2</th>\n      <td>3</td>\n      <td>41865</td>\n      <td>41865</td>\n      <td>3212258</td>\n      <td>226</td>\n      <td>316015849</td>\n      <td>9.780316e+12</td>\n      <td>Stephenie Meyer</td>\n      <td>2005.0</td>\n      <td>Twilight</td>\n      <td>...</td>\n      <td>3866839</td>\n      <td>3916824</td>\n      <td>95009</td>\n      <td>456191</td>\n      <td>436802</td>\n      <td>793319</td>\n      <td>875073</td>\n      <td>1355439</td>\n      <td>https://images.gr-assets.com/books/1361039443m...</td>\n      <td>https://images.gr-assets.com/books/1361039443s...</td>\n    </tr>\n    <tr>\n      <th>3</th>\n      <td>4</td>\n      <td>2657</td>\n      <td>2657</td>\n      <td>3275794</td>\n      <td>487</td>\n      <td>61120081</td>\n      <td>9.780061e+12</td>\n      <td>Harper Lee</td>\n      <td>1960.0</td>\n      <td>To Kill a Mockingbird</td>\n      <td>...</td>\n      <td>3198671</td>\n      <td>3340896</td>\n      <td>72586</td>\n      <td>60427</td>\n      <td>117415</td>\n      <td>446835</td>\n      <td>1001952</td>\n      <td>1714267</td>\n      <td>https://images.gr-assets.com/books/1361975680m...</td>\n      <td>https://images.gr-assets.com/books/1361975680s...</td>\n    </tr>\n    <tr>\n      <th>4</th>\n      <td>5</td>\n      <td>4671</td>\n      <td>4671</td>\n      <td>245494</td>\n      <td>1356</td>\n      <td>743273567</td>\n      <td>9.780743e+12</td>\n      <td>F. Scott Fitzgerald</td>\n      <td>1925.0</td>\n      <td>The Great Gatsby</td>\n      <td>...</td>\n      <td>2683664</td>\n      <td>2773745</td>\n      <td>51992</td>\n      <td>86236</td>\n      <td>197621</td>\n      <td>606158</td>\n      <td>936012</td>\n      <td>947718</td>\n      <td>https://images.gr-assets.com/books/1490528560m...</td>\n      <td>https://images.gr-assets.com/books/1490528560s...</td>\n    </tr>\n  </tbody>\n</table>\n<p>5 rows × 23 columns</p>\n</div>"
     },
     "metadata": {},
     "output_type": "execute_result",
     "execution_count": 24
    }
   ],
   "source": [
    "# Make a reference to the books.csv file path\n",
    "path=\"/Users/zacharyvunguyen/Documents/GitHub/DataAnalytic/Daily/Day10/10-Stu_GoodReads/Unsolved/Resources/books.csv\"\n",
    "# Import the books.csv file as a DataFrame\n",
    "books_df=pd.read_csv(path)\n",
    "books_df.head()"
   ],
   "metadata": {
    "collapsed": false,
    "pycharm": {
     "name": "#%%\n",
     "is_executing": false
    }
   }
  },
  {
   "cell_type": "code",
   "execution_count": 25,
   "outputs": [
    {
     "data": {
      "text/plain": "        isbn  original_publication_year  \\\n0  439023483                     2008.0   \n1  439554934                     1997.0   \n2  316015849                     2005.0   \n3   61120081                     1960.0   \n4  743273567                     1925.0   \n\n                             original_title                      authors  \\\n0                          The Hunger Games              Suzanne Collins   \n1  Harry Potter and the Philosopher's Stone  J.K. Rowling, Mary GrandPré   \n2                                  Twilight              Stephenie Meyer   \n3                     To Kill a Mockingbird                   Harper Lee   \n4                          The Great Gatsby          F. Scott Fitzgerald   \n\n   ratings_1  ratings_2  ratings_3  ratings_4  ratings_5  \n0      66715     127936     560092    1481305    2706317  \n1      75504     101676     455024    1156318    3011543  \n2     456191     436802     793319     875073    1355439  \n3      60427     117415     446835    1001952    1714267  \n4      86236     197621     606158     936012     947718  ",
      "text/html": "<div>\n<style scoped>\n    .dataframe tbody tr th:only-of-type {\n        vertical-align: middle;\n    }\n\n    .dataframe tbody tr th {\n        vertical-align: top;\n    }\n\n    .dataframe thead th {\n        text-align: right;\n    }\n</style>\n<table border=\"1\" class=\"dataframe\">\n  <thead>\n    <tr style=\"text-align: right;\">\n      <th></th>\n      <th>isbn</th>\n      <th>original_publication_year</th>\n      <th>original_title</th>\n      <th>authors</th>\n      <th>ratings_1</th>\n      <th>ratings_2</th>\n      <th>ratings_3</th>\n      <th>ratings_4</th>\n      <th>ratings_5</th>\n    </tr>\n  </thead>\n  <tbody>\n    <tr>\n      <th>0</th>\n      <td>439023483</td>\n      <td>2008.0</td>\n      <td>The Hunger Games</td>\n      <td>Suzanne Collins</td>\n      <td>66715</td>\n      <td>127936</td>\n      <td>560092</td>\n      <td>1481305</td>\n      <td>2706317</td>\n    </tr>\n    <tr>\n      <th>1</th>\n      <td>439554934</td>\n      <td>1997.0</td>\n      <td>Harry Potter and the Philosopher's Stone</td>\n      <td>J.K. Rowling, Mary GrandPré</td>\n      <td>75504</td>\n      <td>101676</td>\n      <td>455024</td>\n      <td>1156318</td>\n      <td>3011543</td>\n    </tr>\n    <tr>\n      <th>2</th>\n      <td>316015849</td>\n      <td>2005.0</td>\n      <td>Twilight</td>\n      <td>Stephenie Meyer</td>\n      <td>456191</td>\n      <td>436802</td>\n      <td>793319</td>\n      <td>875073</td>\n      <td>1355439</td>\n    </tr>\n    <tr>\n      <th>3</th>\n      <td>61120081</td>\n      <td>1960.0</td>\n      <td>To Kill a Mockingbird</td>\n      <td>Harper Lee</td>\n      <td>60427</td>\n      <td>117415</td>\n      <td>446835</td>\n      <td>1001952</td>\n      <td>1714267</td>\n    </tr>\n    <tr>\n      <th>4</th>\n      <td>743273567</td>\n      <td>1925.0</td>\n      <td>The Great Gatsby</td>\n      <td>F. Scott Fitzgerald</td>\n      <td>86236</td>\n      <td>197621</td>\n      <td>606158</td>\n      <td>936012</td>\n      <td>947718</td>\n    </tr>\n  </tbody>\n</table>\n</div>"
     },
     "metadata": {},
     "output_type": "execute_result",
     "execution_count": 25
    }
   ],
   "source": [
    "# Remove unecessary columns from the DataFrame and save the new DataFrame\n",
    "# Only keep: \"isbn\", \"original_publication_year\", \"original_title\", \"authors\",\n",
    "# \"ratings_1\", \"ratings_2\", \"ratings_3\", \"ratings_4\", \"ratings_5\"\n",
    "less=books_df[[\"isbn\", \"original_publication_year\", \"original_title\", \"authors\",\n",
    "\"ratings_1\", \"ratings_2\", \"ratings_3\", \"ratings_4\", \"ratings_5\"]]\n",
    "less.head()"
   ],
   "metadata": {
    "collapsed": false,
    "pycharm": {
     "name": "#%%\n",
     "is_executing": false
    }
   }
  },
  {
   "cell_type": "code",
   "execution_count": 26,
   "outputs": [
    {
     "data": {
      "text/plain": "        ISBN    Year                                     Title  \\\n0  439023483  2008.0                          The Hunger Games   \n1  439554934  1997.0  Harry Potter and the Philosopher's Stone   \n2  316015849  2005.0                                  Twilight   \n3   61120081  1960.0                     To Kill a Mockingbird   \n4  743273567  1925.0                          The Great Gatsby   \n\n                        Author  One Star  Two Start  Three Start  Four Star  \\\n0              Suzanne Collins     66715     127936       560092    1481305   \n1  J.K. Rowling, Mary GrandPré     75504     101676       455024    1156318   \n2              Stephenie Meyer    456191     436802       793319     875073   \n3                   Harper Lee     60427     117415       446835    1001952   \n4          F. Scott Fitzgerald     86236     197621       606158     936012   \n\n   Five Star  \n0    2706317  \n1    3011543  \n2    1355439  \n3    1714267  \n4     947718  ",
      "text/html": "<div>\n<style scoped>\n    .dataframe tbody tr th:only-of-type {\n        vertical-align: middle;\n    }\n\n    .dataframe tbody tr th {\n        vertical-align: top;\n    }\n\n    .dataframe thead th {\n        text-align: right;\n    }\n</style>\n<table border=\"1\" class=\"dataframe\">\n  <thead>\n    <tr style=\"text-align: right;\">\n      <th></th>\n      <th>ISBN</th>\n      <th>Year</th>\n      <th>Title</th>\n      <th>Author</th>\n      <th>One Star</th>\n      <th>Two Start</th>\n      <th>Three Start</th>\n      <th>Four Star</th>\n      <th>Five Star</th>\n    </tr>\n  </thead>\n  <tbody>\n    <tr>\n      <th>0</th>\n      <td>439023483</td>\n      <td>2008.0</td>\n      <td>The Hunger Games</td>\n      <td>Suzanne Collins</td>\n      <td>66715</td>\n      <td>127936</td>\n      <td>560092</td>\n      <td>1481305</td>\n      <td>2706317</td>\n    </tr>\n    <tr>\n      <th>1</th>\n      <td>439554934</td>\n      <td>1997.0</td>\n      <td>Harry Potter and the Philosopher's Stone</td>\n      <td>J.K. Rowling, Mary GrandPré</td>\n      <td>75504</td>\n      <td>101676</td>\n      <td>455024</td>\n      <td>1156318</td>\n      <td>3011543</td>\n    </tr>\n    <tr>\n      <th>2</th>\n      <td>316015849</td>\n      <td>2005.0</td>\n      <td>Twilight</td>\n      <td>Stephenie Meyer</td>\n      <td>456191</td>\n      <td>436802</td>\n      <td>793319</td>\n      <td>875073</td>\n      <td>1355439</td>\n    </tr>\n    <tr>\n      <th>3</th>\n      <td>61120081</td>\n      <td>1960.0</td>\n      <td>To Kill a Mockingbird</td>\n      <td>Harper Lee</td>\n      <td>60427</td>\n      <td>117415</td>\n      <td>446835</td>\n      <td>1001952</td>\n      <td>1714267</td>\n    </tr>\n    <tr>\n      <th>4</th>\n      <td>743273567</td>\n      <td>1925.0</td>\n      <td>The Great Gatsby</td>\n      <td>F. Scott Fitzgerald</td>\n      <td>86236</td>\n      <td>197621</td>\n      <td>606158</td>\n      <td>936012</td>\n      <td>947718</td>\n    </tr>\n  </tbody>\n</table>\n</div>"
     },
     "metadata": {},
     "output_type": "execute_result",
     "execution_count": 26
    }
   ],
   "source": [
    "# Rename the headers to be more explanatory\n",
    "less.columns=[\"ISBN\",\"Year\",\"Title\",\"Author\",\"One Star\",\"Two Start\",\"Three Start\",\"Four Star\",\"Five Star\"]\n",
    "less.head()"
   ],
   "metadata": {
    "collapsed": false,
    "pycharm": {
     "name": "#%%\n",
     "is_executing": false
    }
   }
  },
  {
   "cell_type": "code",
   "execution_count": 28,
   "outputs": [],
   "source": [
    "# Push the remade DataFrame to a new CSV file\n",
    "less.to_csv(\"/Users/zacharyvunguyen/Documents/GitHub/DataAnalytic/Daily/Day10/10-Stu_GoodReads/Unsolved/Resources/NewBooks.csv\",index=False,header=True)"
   ],
   "metadata": {
    "collapsed": false,
    "pycharm": {
     "name": "#%%\n",
     "is_executing": false
    }
   }
  },
  {
   "cell_type": "code",
   "execution_count": null,
   "outputs": [],
   "source": [
    "\n"
   ],
   "metadata": {
    "collapsed": false,
    "pycharm": {
     "name": "#%%\n"
    }
   }
  }
 ],
 "metadata": {
  "language_info": {
   "codemirror_mode": {
    "name": "ipython",
    "version": 2
   },
   "file_extension": ".py",
   "mimetype": "text/x-python",
   "name": "python",
   "nbconvert_exporter": "python",
   "pygments_lexer": "ipython2",
   "version": "2.7.6"
  },
  "kernelspec": {
   "name": "python3",
   "language": "python",
   "display_name": "Python 3"
  },
  "pycharm": {
   "stem_cell": {
    "cell_type": "raw",
    "source": [],
    "metadata": {
     "collapsed": false
    }
   }
  }
 },
 "nbformat": 4,
 "nbformat_minor": 0
}