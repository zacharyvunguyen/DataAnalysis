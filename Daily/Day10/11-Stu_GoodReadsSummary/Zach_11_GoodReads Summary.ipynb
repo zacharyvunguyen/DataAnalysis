{
 "cells": [
  {
   "cell_type": "code",
   "execution_count": 2,
   "metadata": {
    "collapsed": true,
    "pycharm": {
     "is_executing": false
    }
   },
   "outputs": [],
   "source": [
    "import pandas as pd\n",
    "\n",
    "path=\"/Users/zacharyvunguyen/Documents/GitHub/DataAnalytic/Daily/Day10/11-Stu_GoodReadsSummary/Unsolved/Resources/books_clean.csv\"\n",
    "\n",
    "df=pd.read_csv(path)"
   ]
  },
  {
   "cell_type": "code",
   "execution_count": 3,
   "outputs": [
    {
     "data": {
      "text/plain": "        ISBN  Publication Year                            Original Title  \\\n0  439023483            2008.0                          The Hunger Games   \n1  439554934            1997.0  Harry Potter and the Philosopher's Stone   \n2  316015849            2005.0                                  Twilight   \n3   61120081            1960.0                     To Kill a Mockingbird   \n4  743273567            1925.0                          The Great Gatsby   \n\n                       Authors  One Star Reviews  Two Star Reviews  \\\n0              Suzanne Collins             66715            127936   \n1  J.K. Rowling, Mary GrandPré             75504            101676   \n2              Stephenie Meyer            456191            436802   \n3                   Harper Lee             60427            117415   \n4          F. Scott Fitzgerald             86236            197621   \n\n   Three Star Reviews  Four Star Reviews  Five Star Reviews  \n0              560092            1481305            2706317  \n1              455024            1156318            3011543  \n2              793319             875073            1355439  \n3              446835            1001952            1714267  \n4              606158             936012             947718  ",
      "text/html": "<div>\n<style scoped>\n    .dataframe tbody tr th:only-of-type {\n        vertical-align: middle;\n    }\n\n    .dataframe tbody tr th {\n        vertical-align: top;\n    }\n\n    .dataframe thead th {\n        text-align: right;\n    }\n</style>\n<table border=\"1\" class=\"dataframe\">\n  <thead>\n    <tr style=\"text-align: right;\">\n      <th></th>\n      <th>ISBN</th>\n      <th>Publication Year</th>\n      <th>Original Title</th>\n      <th>Authors</th>\n      <th>One Star Reviews</th>\n      <th>Two Star Reviews</th>\n      <th>Three Star Reviews</th>\n      <th>Four Star Reviews</th>\n      <th>Five Star Reviews</th>\n    </tr>\n  </thead>\n  <tbody>\n    <tr>\n      <th>0</th>\n      <td>439023483</td>\n      <td>2008.0</td>\n      <td>The Hunger Games</td>\n      <td>Suzanne Collins</td>\n      <td>66715</td>\n      <td>127936</td>\n      <td>560092</td>\n      <td>1481305</td>\n      <td>2706317</td>\n    </tr>\n    <tr>\n      <th>1</th>\n      <td>439554934</td>\n      <td>1997.0</td>\n      <td>Harry Potter and the Philosopher's Stone</td>\n      <td>J.K. Rowling, Mary GrandPré</td>\n      <td>75504</td>\n      <td>101676</td>\n      <td>455024</td>\n      <td>1156318</td>\n      <td>3011543</td>\n    </tr>\n    <tr>\n      <th>2</th>\n      <td>316015849</td>\n      <td>2005.0</td>\n      <td>Twilight</td>\n      <td>Stephenie Meyer</td>\n      <td>456191</td>\n      <td>436802</td>\n      <td>793319</td>\n      <td>875073</td>\n      <td>1355439</td>\n    </tr>\n    <tr>\n      <th>3</th>\n      <td>61120081</td>\n      <td>1960.0</td>\n      <td>To Kill a Mockingbird</td>\n      <td>Harper Lee</td>\n      <td>60427</td>\n      <td>117415</td>\n      <td>446835</td>\n      <td>1001952</td>\n      <td>1714267</td>\n    </tr>\n    <tr>\n      <th>4</th>\n      <td>743273567</td>\n      <td>1925.0</td>\n      <td>The Great Gatsby</td>\n      <td>F. Scott Fitzgerald</td>\n      <td>86236</td>\n      <td>197621</td>\n      <td>606158</td>\n      <td>936012</td>\n      <td>947718</td>\n    </tr>\n  </tbody>\n</table>\n</div>"
     },
     "metadata": {},
     "output_type": "execute_result",
     "execution_count": 3
    }
   ],
   "source": [
    "df.head()"
   ],
   "metadata": {
    "collapsed": false,
    "pycharm": {
     "name": "#%%\n",
     "is_executing": false
    }
   }
  },
  {
   "cell_type": "code",
   "execution_count": 8,
   "outputs": [],
   "source": [
    "author=df['Authors']\n",
    "\n"
   ],
   "metadata": {
    "collapsed": false,
    "pycharm": {
     "name": "#%%\n",
     "is_executing": false
    }
   }
  },
  {
   "cell_type": "code",
   "execution_count": 9,
   "outputs": [
    {
     "data": {
      "text/plain": "0                Suzanne Collins\n1    J.K. Rowling, Mary GrandPré\n2                Stephenie Meyer\n3                     Harper Lee\n4            F. Scott Fitzgerald\nName: Authors, dtype: object"
     },
     "metadata": {},
     "output_type": "execute_result",
     "execution_count": 9
    }
   ],
   "source": [
    "author.head()\n"
   ],
   "metadata": {
    "collapsed": false,
    "pycharm": {
     "name": "#%%\n",
     "is_executing": false
    }
   }
  },
  {
   "cell_type": "code",
   "execution_count": 10,
   "outputs": [
    {
     "data": {
      "text/plain": "Stephen King                                                     60\nNora Roberts                                                     59\nDean Koontz                                                      47\nTerry Pratchett                                                  42\nAgatha Christie                                                  39\nMeg Cabot                                                        37\nJames Patterson                                                  36\nDavid Baldacci                                                   34\nJohn Grisham                                                     33\nJ.D. Robb                                                        33\nLaurell K. Hamilton                                              30\nJanet Evanovich                                                  30\nMichael Connelly                                                 29\nJohn Sandford                                                    28\nKristen Ashley                                                   27\nTamora Pierce                                                    26\nHarlan Coben                                                     25\nPatricia Cornwell                                                25\nSherrilyn Kenyon                                                 25\nSue Grafton                                                      24\nJim Butcher                                                      24\nAnne Rice                                                        23\nJodi Picoult                                                     23\nCharlaine Harris                                                 22\nAbbi Glines                                                      22\nRick Riordan                                                     22\nBrandon Sanderson                                                21\nOrson Scott Card                                                 21\nR.A. Salvatore                                                   21\nJ.R. Ward                                                        21\n                                                                 ..\nBarbara Taylor Bradford                                           1\nWalter M. Miller Jr.                                              1\nMarlo Morgan                                                      1\nبهاء طاهر                                                         1\nKazue Kato, John Werry                                            1\nRobert Harling                                                    1\nRobert Henri, Forbes Watson, Margery A. Ryerson                   1\nClaire Contreras                                                  1\nLouise Jensen                                                     1\nTrevor Noah                                                       1\nJane O'Connor, Robin Preiss Glasser                               1\nWarren Ellis, Darick Robertson, Rodney Ramos, Patrick Stewart     1\nBenjamin Hoff, Ernest H. Shepard                                  1\nMilan Kundera, Michael Henry Heim                                 1\nM.O. Walsh                                                        1\nNathaniel Hawthorne, Robert S. Levine                             1\nShari Lapena                                                      1\nElmore Leonard                                                    1\nAdam Smith                                                        1\nAziz Ansari, Eric Klinenberg                                      1\nArlene Mosel, Blair Lent                                          1\nLaura Dave                                                        1\nJim Kjelgaard, Carl Pfeuffer                                      1\nSarah Palin, Lynn Vincent, Dewey Whetsell                         1\nJohn Eldredge                                                     1\nChristiane F., Kai Hermann, Horst Rieck                           1\nJussi Adler-Olsen, K.E. Semmel                                    1\nMichael Frayn                                                     1\nCarl Bernstein, Bob Woodward                                      1\nEric Van Lustbader, Robert Ludlum                                 1\nName: Authors, Length: 4664, dtype: int64"
     },
     "metadata": {},
     "output_type": "execute_result",
     "execution_count": 10
    }
   ],
   "source": [
    "author.value_counts()"
   ],
   "metadata": {
    "collapsed": false,
    "pycharm": {
     "name": "#%%\n",
     "is_executing": false
    }
   }
  },
  {
   "cell_type": "code",
   "execution_count": 12,
   "outputs": [
    {
     "data": {
      "text/plain": "2017.0"
     },
     "metadata": {},
     "output_type": "execute_result",
     "execution_count": 12
    }
   ],
   "source": [
    "year=df['Publication Year']\n",
    "min_year=year.min()\n",
    "max_year=year.max()\n",
    "min_year\n",
    "max_year"
   ],
   "metadata": {
    "collapsed": false,
    "pycharm": {
     "name": "#%%\n",
     "is_executing": false
    }
   }
  },
  {
   "cell_type": "code",
   "execution_count": 13,
   "outputs": [
    {
     "data": {
      "text/plain": "-1750.0"
     },
     "metadata": {},
     "output_type": "execute_result",
     "execution_count": 13
    }
   ],
   "source": [
    "min_year"
   ],
   "metadata": {
    "collapsed": false,
    "pycharm": {
     "name": "#%%\n",
     "is_executing": false
    }
   }
  },
  {
   "cell_type": "code",
   "execution_count": 17,
   "outputs": [
    {
     "data": {
      "text/plain": "596873216"
     },
     "metadata": {},
     "output_type": "execute_result",
     "execution_count": 17
    }
   ],
   "source": [
    "total_review=df['One Star Reviews'].sum()+df['Two Star Reviews'].sum()+df['Three Star Reviews'].sum()+df['Four Star Reviews'].sum()+df['Five Star Reviews'].sum()\n",
    "total_review"
   ],
   "metadata": {
    "collapsed": false,
    "pycharm": {
     "name": "#%%\n",
     "is_executing": false
    }
   }
  },
  {
   "cell_type": "code",
   "execution_count": null,
   "outputs": [],
   "source": [
    "\n"
   ],
   "metadata": {
    "collapsed": false,
    "pycharm": {
     "name": "#%%\n"
    }
   }
  }
 ],
 "metadata": {
  "language_info": {
   "codemirror_mode": {
    "name": "ipython",
    "version": 2
   },
   "file_extension": ".py",
   "mimetype": "text/x-python",
   "name": "python",
   "nbconvert_exporter": "python",
   "pygments_lexer": "ipython2",
   "version": "2.7.6"
  },
  "kernelspec": {
   "name": "python3",
   "language": "python",
   "display_name": "Python 3"
  },
  "pycharm": {
   "stem_cell": {
    "cell_type": "raw",
    "source": [
     "* Using the modified DataFrame that was created earlier, create a summary table for the dataset that includes the following pieces of information...\n",
     "\n",
     "* The count of unique authors within the DataFrame\n",
     "\n",
     "* The year of the earliest published book in the DataFrame\n",
     "\n",
     "* The year of the latest published book in the DataFrame\n",
     "\n",
     "* The total number of reviews within the DataFrame\n"
    ],
    "metadata": {
     "collapsed": false
    }
   }
  }
 },
 "nbformat": 4,
 "nbformat_minor": 0
}