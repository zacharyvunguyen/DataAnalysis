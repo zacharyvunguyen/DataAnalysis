{
 "cells": [
  {
   "cell_type": "code",
   "execution_count": 11,
   "metadata": {
    "collapsed": true,
    "pycharm": {
     "is_executing": false
    }
   },
   "outputs": [],
   "source": [
    "# Dependencies\n",
    "import pandas as pd\n"
   ]
  },
  {
   "cell_type": "code",
   "execution_count": 12,
   "outputs": [],
   "source": [
    "# Load in File from resources\n",
    "# 'movie_scores.csv'\n",
    "df=pd.read_csv(\"/Users/zacharyvunguyen/Documents/GitHub/DataAnalytic/Daily/Day11/02-Stu_GoodMovies/Unsolved/Resources/movie_scores.csv\")"
   ],
   "metadata": {
    "collapsed": false,
    "pycharm": {
     "name": "#%%\n",
     "is_executing": false
    }
   }
  },
  {
   "cell_type": "code",
   "execution_count": 13,
   "outputs": [
    {
     "data": {
      "text/plain": "                             FILM  RottenTomatoes  RottenTomatoes_User  \\\n0  Avengers: Age of Ultron (2015)              74                   86   \n1               Cinderella (2015)              85                   80   \n2                  Ant-Man (2015)              80                   90   \n3          Do You Believe? (2015)              18                   84   \n4   Hot Tub Time Machine 2 (2015)              14                   28   \n\n   Metacritic  Metacritic_User  IMDB  Fandango_Stars  Fandango_Ratingvalue  \\\n0          66              7.1   7.8             5.0                   4.5   \n1          67              7.5   7.1             5.0                   4.5   \n2          64              8.1   7.8             5.0                   4.5   \n3          22              4.7   5.4             5.0                   4.5   \n4          29              3.4   5.1             3.5                   3.0   \n\n   RT_norm  RT_user_norm  ...  IMDB_norm  RT_norm_round  RT_user_norm_round  \\\n0     3.70           4.3  ...       3.90            3.5                 4.5   \n1     4.25           4.0  ...       3.55            4.5                 4.0   \n2     4.00           4.5  ...       3.90            4.0                 4.5   \n3     0.90           4.2  ...       2.70            1.0                 4.0   \n4     0.70           1.4  ...       2.55            0.5                 1.5   \n\n   Metacritic_norm_round  Metacritic_user_norm_round  IMDB_norm_round  \\\n0                    3.5                         3.5              4.0   \n1                    3.5                         4.0              3.5   \n2                    3.0                         4.0              4.0   \n3                    1.0                         2.5              2.5   \n4                    1.5                         1.5              2.5   \n\n   Metacritic_user_vote_count  IMDB_user_vote_count  Fandango_votes  \\\n0                        1330                271107           14846   \n1                         249                 65709           12640   \n2                         627                103660           12055   \n3                          31                  3136            1793   \n4                          88                 19560            1021   \n\n   Fandango_Difference  \n0                  0.5  \n1                  0.5  \n2                  0.5  \n3                  0.5  \n4                  0.5  \n\n[5 rows x 22 columns]",
      "text/html": "<div>\n<style scoped>\n    .dataframe tbody tr th:only-of-type {\n        vertical-align: middle;\n    }\n\n    .dataframe tbody tr th {\n        vertical-align: top;\n    }\n\n    .dataframe thead th {\n        text-align: right;\n    }\n</style>\n<table border=\"1\" class=\"dataframe\">\n  <thead>\n    <tr style=\"text-align: right;\">\n      <th></th>\n      <th>FILM</th>\n      <th>RottenTomatoes</th>\n      <th>RottenTomatoes_User</th>\n      <th>Metacritic</th>\n      <th>Metacritic_User</th>\n      <th>IMDB</th>\n      <th>Fandango_Stars</th>\n      <th>Fandango_Ratingvalue</th>\n      <th>RT_norm</th>\n      <th>RT_user_norm</th>\n      <th>...</th>\n      <th>IMDB_norm</th>\n      <th>RT_norm_round</th>\n      <th>RT_user_norm_round</th>\n      <th>Metacritic_norm_round</th>\n      <th>Metacritic_user_norm_round</th>\n      <th>IMDB_norm_round</th>\n      <th>Metacritic_user_vote_count</th>\n      <th>IMDB_user_vote_count</th>\n      <th>Fandango_votes</th>\n      <th>Fandango_Difference</th>\n    </tr>\n  </thead>\n  <tbody>\n    <tr>\n      <th>0</th>\n      <td>Avengers: Age of Ultron (2015)</td>\n      <td>74</td>\n      <td>86</td>\n      <td>66</td>\n      <td>7.1</td>\n      <td>7.8</td>\n      <td>5.0</td>\n      <td>4.5</td>\n      <td>3.70</td>\n      <td>4.3</td>\n      <td>...</td>\n      <td>3.90</td>\n      <td>3.5</td>\n      <td>4.5</td>\n      <td>3.5</td>\n      <td>3.5</td>\n      <td>4.0</td>\n      <td>1330</td>\n      <td>271107</td>\n      <td>14846</td>\n      <td>0.5</td>\n    </tr>\n    <tr>\n      <th>1</th>\n      <td>Cinderella (2015)</td>\n      <td>85</td>\n      <td>80</td>\n      <td>67</td>\n      <td>7.5</td>\n      <td>7.1</td>\n      <td>5.0</td>\n      <td>4.5</td>\n      <td>4.25</td>\n      <td>4.0</td>\n      <td>...</td>\n      <td>3.55</td>\n      <td>4.5</td>\n      <td>4.0</td>\n      <td>3.5</td>\n      <td>4.0</td>\n      <td>3.5</td>\n      <td>249</td>\n      <td>65709</td>\n      <td>12640</td>\n      <td>0.5</td>\n    </tr>\n    <tr>\n      <th>2</th>\n      <td>Ant-Man (2015)</td>\n      <td>80</td>\n      <td>90</td>\n      <td>64</td>\n      <td>8.1</td>\n      <td>7.8</td>\n      <td>5.0</td>\n      <td>4.5</td>\n      <td>4.00</td>\n      <td>4.5</td>\n      <td>...</td>\n      <td>3.90</td>\n      <td>4.0</td>\n      <td>4.5</td>\n      <td>3.0</td>\n      <td>4.0</td>\n      <td>4.0</td>\n      <td>627</td>\n      <td>103660</td>\n      <td>12055</td>\n      <td>0.5</td>\n    </tr>\n    <tr>\n      <th>3</th>\n      <td>Do You Believe? (2015)</td>\n      <td>18</td>\n      <td>84</td>\n      <td>22</td>\n      <td>4.7</td>\n      <td>5.4</td>\n      <td>5.0</td>\n      <td>4.5</td>\n      <td>0.90</td>\n      <td>4.2</td>\n      <td>...</td>\n      <td>2.70</td>\n      <td>1.0</td>\n      <td>4.0</td>\n      <td>1.0</td>\n      <td>2.5</td>\n      <td>2.5</td>\n      <td>31</td>\n      <td>3136</td>\n      <td>1793</td>\n      <td>0.5</td>\n    </tr>\n    <tr>\n      <th>4</th>\n      <td>Hot Tub Time Machine 2 (2015)</td>\n      <td>14</td>\n      <td>28</td>\n      <td>29</td>\n      <td>3.4</td>\n      <td>5.1</td>\n      <td>3.5</td>\n      <td>3.0</td>\n      <td>0.70</td>\n      <td>1.4</td>\n      <td>...</td>\n      <td>2.55</td>\n      <td>0.5</td>\n      <td>1.5</td>\n      <td>1.5</td>\n      <td>1.5</td>\n      <td>2.5</td>\n      <td>88</td>\n      <td>19560</td>\n      <td>1021</td>\n      <td>0.5</td>\n    </tr>\n  </tbody>\n</table>\n<p>5 rows × 22 columns</p>\n</div>"
     },
     "metadata": {},
     "output_type": "execute_result",
     "execution_count": 13
    }
   ],
   "source": [
    "# Read and display with pandas\n",
    "df.head()"
   ],
   "metadata": {
    "collapsed": false,
    "pycharm": {
     "name": "#%%\n",
     "is_executing": false
    }
   }
  },
  {
   "cell_type": "code",
   "execution_count": 14,
   "outputs": [
    {
     "data": {
      "text/plain": "['FILM',\n 'RottenTomatoes',\n 'RottenTomatoes_User',\n 'Metacritic',\n 'Metacritic_User',\n 'IMDB',\n 'Fandango_Stars',\n 'Fandango_Ratingvalue',\n 'RT_norm',\n 'RT_user_norm',\n 'Metacritic_norm',\n 'Metacritic_user_nom',\n 'IMDB_norm',\n 'RT_norm_round',\n 'RT_user_norm_round',\n 'Metacritic_norm_round',\n 'Metacritic_user_norm_round',\n 'IMDB_norm_round',\n 'Metacritic_user_vote_count',\n 'IMDB_user_vote_count',\n 'Fandango_votes',\n 'Fandango_Difference']"
     },
     "metadata": {},
     "output_type": "execute_result",
     "execution_count": 14
    }
   ],
   "source": [
    "# List all the columns the table provides\n",
    "list(df)"
   ],
   "metadata": {
    "collapsed": false,
    "pycharm": {
     "name": "#%%\n",
     "is_executing": false
    }
   }
  },
  {
   "cell_type": "code",
   "execution_count": 15,
   "outputs": [
    {
     "data": {
      "text/plain": "                             FILM  IMDB  IMDB_norm  IMDB_norm_round  \\\n0  Avengers: Age of Ultron (2015)   7.8       3.90              4.0   \n1               Cinderella (2015)   7.1       3.55              3.5   \n2                  Ant-Man (2015)   7.8       3.90              4.0   \n3          Do You Believe? (2015)   5.4       2.70              2.5   \n4   Hot Tub Time Machine 2 (2015)   5.1       2.55              2.5   \n\n   IMDB_user_vote_count  \n0                271107  \n1                 65709  \n2                103660  \n3                  3136  \n4                 19560  ",
      "text/html": "<div>\n<style scoped>\n    .dataframe tbody tr th:only-of-type {\n        vertical-align: middle;\n    }\n\n    .dataframe tbody tr th {\n        vertical-align: top;\n    }\n\n    .dataframe thead th {\n        text-align: right;\n    }\n</style>\n<table border=\"1\" class=\"dataframe\">\n  <thead>\n    <tr style=\"text-align: right;\">\n      <th></th>\n      <th>FILM</th>\n      <th>IMDB</th>\n      <th>IMDB_norm</th>\n      <th>IMDB_norm_round</th>\n      <th>IMDB_user_vote_count</th>\n    </tr>\n  </thead>\n  <tbody>\n    <tr>\n      <th>0</th>\n      <td>Avengers: Age of Ultron (2015)</td>\n      <td>7.8</td>\n      <td>3.90</td>\n      <td>4.0</td>\n      <td>271107</td>\n    </tr>\n    <tr>\n      <th>1</th>\n      <td>Cinderella (2015)</td>\n      <td>7.1</td>\n      <td>3.55</td>\n      <td>3.5</td>\n      <td>65709</td>\n    </tr>\n    <tr>\n      <th>2</th>\n      <td>Ant-Man (2015)</td>\n      <td>7.8</td>\n      <td>3.90</td>\n      <td>4.0</td>\n      <td>103660</td>\n    </tr>\n    <tr>\n      <th>3</th>\n      <td>Do You Believe? (2015)</td>\n      <td>5.4</td>\n      <td>2.70</td>\n      <td>2.5</td>\n      <td>3136</td>\n    </tr>\n    <tr>\n      <th>4</th>\n      <td>Hot Tub Time Machine 2 (2015)</td>\n      <td>5.1</td>\n      <td>2.55</td>\n      <td>2.5</td>\n      <td>19560</td>\n    </tr>\n  </tbody>\n</table>\n</div>"
     },
     "metadata": {},
     "output_type": "execute_result",
     "execution_count": 15
    }
   ],
   "source": [
    "# only care about Imdb, so create a new table that takes the Film and all the columns relating to IMDB\n",
    "newTable=df[['FILM','IMDB','IMDB_norm','IMDB_norm_round','IMDB_user_vote_count']]\n",
    "newTable.head()"
   ],
   "metadata": {
    "collapsed": false,
    "pycharm": {
     "name": "#%%\n",
     "is_executing": false
    }
   }
  },
  {
   "cell_type": "code",
   "execution_count": 16,
   "outputs": [
    {
     "data": {
      "text/plain": "                             FILM  IMDB  IMDB_norm  IMDB_norm_round  \\\n0  Avengers: Age of Ultron (2015)   7.8       3.90              4.0   \n1               Cinderella (2015)   7.1       3.55              3.5   \n2                  Ant-Man (2015)   7.8       3.90              4.0   \n5        The Water Diviner (2015)   7.2       3.60              3.5   \n8    Shaun the Sheep Movie (2015)   7.4       3.70              3.5   \n\n   IMDB_user_vote_count  \n0                271107  \n1                 65709  \n2                103660  \n5                 39373  \n8                 12227  ",
      "text/html": "<div>\n<style scoped>\n    .dataframe tbody tr th:only-of-type {\n        vertical-align: middle;\n    }\n\n    .dataframe tbody tr th {\n        vertical-align: top;\n    }\n\n    .dataframe thead th {\n        text-align: right;\n    }\n</style>\n<table border=\"1\" class=\"dataframe\">\n  <thead>\n    <tr style=\"text-align: right;\">\n      <th></th>\n      <th>FILM</th>\n      <th>IMDB</th>\n      <th>IMDB_norm</th>\n      <th>IMDB_norm_round</th>\n      <th>IMDB_user_vote_count</th>\n    </tr>\n  </thead>\n  <tbody>\n    <tr>\n      <th>0</th>\n      <td>Avengers: Age of Ultron (2015)</td>\n      <td>7.8</td>\n      <td>3.90</td>\n      <td>4.0</td>\n      <td>271107</td>\n    </tr>\n    <tr>\n      <th>1</th>\n      <td>Cinderella (2015)</td>\n      <td>7.1</td>\n      <td>3.55</td>\n      <td>3.5</td>\n      <td>65709</td>\n    </tr>\n    <tr>\n      <th>2</th>\n      <td>Ant-Man (2015)</td>\n      <td>7.8</td>\n      <td>3.90</td>\n      <td>4.0</td>\n      <td>103660</td>\n    </tr>\n    <tr>\n      <th>5</th>\n      <td>The Water Diviner (2015)</td>\n      <td>7.2</td>\n      <td>3.60</td>\n      <td>3.5</td>\n      <td>39373</td>\n    </tr>\n    <tr>\n      <th>8</th>\n      <td>Shaun the Sheep Movie (2015)</td>\n      <td>7.4</td>\n      <td>3.70</td>\n      <td>3.5</td>\n      <td>12227</td>\n    </tr>\n  </tbody>\n</table>\n</div>"
     },
     "metadata": {},
     "output_type": "execute_result",
     "execution_count": 16
    }
   ],
   "source": [
    "# List only movies whose ratings are over 7 (out of 10) in IMDB\n",
    "highIMDB=newTable.loc[df['IMDB'] >=7]\n",
    "highIMDB.head()"
   ],
   "metadata": {
    "collapsed": false,
    "pycharm": {
     "name": "#%%\n",
     "is_executing": false
    }
   }
  },
  {
   "cell_type": "code",
   "execution_count": 17,
   "outputs": [
    {
     "data": {
      "text/plain": "                                 FILM  IMDB  IMDB_norm  IMDB_norm_round  \\\n8        Shaun the Sheep Movie (2015)   7.4       3.70              3.5   \n9                 Love & Mercy (2015)   7.8       3.90              4.0   \n10  Far From The Madding Crowd (2015)   7.2       3.60              3.5   \n20              McFarland, USA (2015)   7.5       3.75              4.0   \n29         The End of the Tour (2015)   7.9       3.95              4.0   \n\n    IMDB_user_vote_count  \n8                  12227  \n9                   5367  \n10                 12129  \n20                 13769  \n29                  1320  ",
      "text/html": "<div>\n<style scoped>\n    .dataframe tbody tr th:only-of-type {\n        vertical-align: middle;\n    }\n\n    .dataframe tbody tr th {\n        vertical-align: top;\n    }\n\n    .dataframe thead th {\n        text-align: right;\n    }\n</style>\n<table border=\"1\" class=\"dataframe\">\n  <thead>\n    <tr style=\"text-align: right;\">\n      <th></th>\n      <th>FILM</th>\n      <th>IMDB</th>\n      <th>IMDB_norm</th>\n      <th>IMDB_norm_round</th>\n      <th>IMDB_user_vote_count</th>\n    </tr>\n  </thead>\n  <tbody>\n    <tr>\n      <th>8</th>\n      <td>Shaun the Sheep Movie (2015)</td>\n      <td>7.4</td>\n      <td>3.70</td>\n      <td>3.5</td>\n      <td>12227</td>\n    </tr>\n    <tr>\n      <th>9</th>\n      <td>Love &amp; Mercy (2015)</td>\n      <td>7.8</td>\n      <td>3.90</td>\n      <td>4.0</td>\n      <td>5367</td>\n    </tr>\n    <tr>\n      <th>10</th>\n      <td>Far From The Madding Crowd (2015)</td>\n      <td>7.2</td>\n      <td>3.60</td>\n      <td>3.5</td>\n      <td>12129</td>\n    </tr>\n    <tr>\n      <th>20</th>\n      <td>McFarland, USA (2015)</td>\n      <td>7.5</td>\n      <td>3.75</td>\n      <td>4.0</td>\n      <td>13769</td>\n    </tr>\n    <tr>\n      <th>29</th>\n      <td>The End of the Tour (2015)</td>\n      <td>7.9</td>\n      <td>3.95</td>\n      <td>4.0</td>\n      <td>1320</td>\n    </tr>\n  </tbody>\n</table>\n</div>"
     },
     "metadata": {},
     "output_type": "execute_result",
     "execution_count": 17
    }
   ],
   "source": [
    "# Find lesser-known movies to watch, with fewer than 20K votes\n",
    "lesser=highIMDB.loc[df['IMDB_user_vote_count']<20000]\n",
    "lesser.head()\n"
   ],
   "metadata": {
    "collapsed": false,
    "pycharm": {
     "name": "#%%\n",
     "is_executing": false
    }
   }
  },
  {
   "cell_type": "code",
   "execution_count": 18,
   "outputs": [],
   "source": [
    "# Finally, export this file to an Excel spreadsheet -- without the DataFrame index.#%%\n",
    "lesser.to_excel('Resources/lesser.xlsx', index=False)"
   ],
   "metadata": {
    "collapsed": false,
    "pycharm": {
     "name": "#%%\n",
     "is_executing": false
    }
   }
  },
  {
   "cell_type": "code",
   "execution_count": null,
   "outputs": [],
   "source": [
    "\n"
   ],
   "metadata": {
    "collapsed": false,
    "pycharm": {
     "name": "#%%\n"
    }
   }
  }
 ],
 "metadata": {
  "language_info": {
   "codemirror_mode": {
    "name": "ipython",
    "version": 2
   },
   "file_extension": ".py",
   "mimetype": "text/x-python",
   "name": "python",
   "nbconvert_exporter": "python",
   "pygments_lexer": "ipython2",
   "version": "2.7.6"
  },
  "kernelspec": {
   "name": "python3",
   "language": "python",
   "display_name": "Python 3"
  },
  "pycharm": {
   "stem_cell": {
    "cell_type": "raw",
    "source": [],
    "metadata": {
     "collapsed": false
    }
   }
  }
 },
 "nbformat": 4,
 "nbformat_minor": 0
}