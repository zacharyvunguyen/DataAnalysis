{
 "cells": [
  {
   "cell_type": "code",
   "execution_count": 2,
   "metadata": {
    "collapsed": true,
    "pycharm": {
     "is_executing": false
    }
   },
   "outputs": [],
   "source": [
    "import pandas as pd"
   ]
  },
  {
   "cell_type": "code",
   "execution_count": 3,
   "outputs": [
    {
     "name": "stderr",
     "text": [
      "/anaconda3/envs/PythonData37/lib/python3.7/site-packages/IPython/core/interactiveshell.py:3049: DtypeWarning: Columns (5,9) have mixed types. Specify dtype option on import or set low_memory=False.\n  interactivity=interactivity, compiler=compiler, result=result)\n"
     ],
     "output_type": "stream"
    }
   ],
   "source": [
    "path = \"/Users/zacharyvunguyen/Documents/GitHub/DataAnalytic/Daily/Day11/05-Evr_PandasRecap/Unsolved/Resources/ufoSightings.csv\"\n",
    "\n",
    "df=pd.read_csv(path)\n"
   ],
   "metadata": {
    "collapsed": false,
    "pycharm": {
     "name": "#%%\n",
     "is_executing": false
    }
   }
  },
  {
   "cell_type": "code",
   "execution_count": 4,
   "outputs": [
    {
     "data": {
      "text/plain": "           datetime                  city state country     shape  \\\n0  10/10/1949 20:30            san marcos    tx      us  cylinder   \n1  10/10/1949 21:00          lackland afb    tx     NaN     light   \n2  10/10/1955 17:00  chester (uk/england)   NaN      gb    circle   \n3  10/10/1956 21:00                  edna    tx      us    circle   \n4  10/10/1960 20:00               kaneohe    hi      us     light   \n\n  duration (seconds) duration (hours/min)  \\\n0               2700           45 minutes   \n1               7200              1-2 hrs   \n2                 20           20 seconds   \n3                 20             1/2 hour   \n4                900           15 minutes   \n\n                                            comments date posted    latitude  \\\n0  This event took place in early fall around 194...   4/27/2004  29.8830556   \n1  1949 Lackland AFB&#44 TX.  Lights racing acros...  12/16/2005    29.38421   \n2  Green/Orange circular disc over Chester&#44 En...   1/21/2008        53.2   \n3  My older brother and twin sister were leaving ...   1/17/2004  28.9783333   \n4  AS a Marine 1st Lt. flying an FJ4B fighter/att...   1/22/2004  21.4180556   \n\n   longitude   \n0  -97.941111  \n1  -98.581082  \n2   -2.916667  \n3  -96.645833  \n4 -157.803611  ",
      "text/html": "<div>\n<style scoped>\n    .dataframe tbody tr th:only-of-type {\n        vertical-align: middle;\n    }\n\n    .dataframe tbody tr th {\n        vertical-align: top;\n    }\n\n    .dataframe thead th {\n        text-align: right;\n    }\n</style>\n<table border=\"1\" class=\"dataframe\">\n  <thead>\n    <tr style=\"text-align: right;\">\n      <th></th>\n      <th>datetime</th>\n      <th>city</th>\n      <th>state</th>\n      <th>country</th>\n      <th>shape</th>\n      <th>duration (seconds)</th>\n      <th>duration (hours/min)</th>\n      <th>comments</th>\n      <th>date posted</th>\n      <th>latitude</th>\n      <th>longitude</th>\n    </tr>\n  </thead>\n  <tbody>\n    <tr>\n      <th>0</th>\n      <td>10/10/1949 20:30</td>\n      <td>san marcos</td>\n      <td>tx</td>\n      <td>us</td>\n      <td>cylinder</td>\n      <td>2700</td>\n      <td>45 minutes</td>\n      <td>This event took place in early fall around 194...</td>\n      <td>4/27/2004</td>\n      <td>29.8830556</td>\n      <td>-97.941111</td>\n    </tr>\n    <tr>\n      <th>1</th>\n      <td>10/10/1949 21:00</td>\n      <td>lackland afb</td>\n      <td>tx</td>\n      <td>NaN</td>\n      <td>light</td>\n      <td>7200</td>\n      <td>1-2 hrs</td>\n      <td>1949 Lackland AFB&amp;#44 TX.  Lights racing acros...</td>\n      <td>12/16/2005</td>\n      <td>29.38421</td>\n      <td>-98.581082</td>\n    </tr>\n    <tr>\n      <th>2</th>\n      <td>10/10/1955 17:00</td>\n      <td>chester (uk/england)</td>\n      <td>NaN</td>\n      <td>gb</td>\n      <td>circle</td>\n      <td>20</td>\n      <td>20 seconds</td>\n      <td>Green/Orange circular disc over Chester&amp;#44 En...</td>\n      <td>1/21/2008</td>\n      <td>53.2</td>\n      <td>-2.916667</td>\n    </tr>\n    <tr>\n      <th>3</th>\n      <td>10/10/1956 21:00</td>\n      <td>edna</td>\n      <td>tx</td>\n      <td>us</td>\n      <td>circle</td>\n      <td>20</td>\n      <td>1/2 hour</td>\n      <td>My older brother and twin sister were leaving ...</td>\n      <td>1/17/2004</td>\n      <td>28.9783333</td>\n      <td>-96.645833</td>\n    </tr>\n    <tr>\n      <th>4</th>\n      <td>10/10/1960 20:00</td>\n      <td>kaneohe</td>\n      <td>hi</td>\n      <td>us</td>\n      <td>light</td>\n      <td>900</td>\n      <td>15 minutes</td>\n      <td>AS a Marine 1st Lt. flying an FJ4B fighter/att...</td>\n      <td>1/22/2004</td>\n      <td>21.4180556</td>\n      <td>-157.803611</td>\n    </tr>\n  </tbody>\n</table>\n</div>"
     },
     "metadata": {},
     "output_type": "execute_result",
     "execution_count": 4
    }
   ],
   "source": [
    "# Print the first five rows of data to the screen\n",
    "df.head()"
   ],
   "metadata": {
    "collapsed": false,
    "pycharm": {
     "name": "#%%\n",
     "is_executing": false
    }
   }
  },
  {
   "cell_type": "code",
   "execution_count": 5,
   "outputs": [
    {
     "data": {
      "text/plain": "datetime                80332\ncity                    80332\nstate                   74535\ncountry                 70662\nshape                   78400\nduration (seconds)      80332\nduration (hours/min)    80332\ncomments                80317\ndate posted             80332\nlatitude                80332\nlongitude               80332\ndtype: int64"
     },
     "metadata": {},
     "output_type": "execute_result",
     "execution_count": 5
    }
   ],
   "source": [
    "# Check to see if there are any rows with missing data\n",
    "df.count()"
   ],
   "metadata": {
    "collapsed": false,
    "pycharm": {
     "name": "#%%\n",
     "is_executing": false
    }
   }
  },
  {
   "cell_type": "code",
   "execution_count": 6,
   "outputs": [],
   "source": [
    "# Remove the rows with missing data\n",
    "df_drop=df.dropna(how='any')\n"
   ],
   "metadata": {
    "collapsed": false,
    "pycharm": {
     "name": "#%%\n",
     "is_executing": false
    }
   }
  },
  {
   "cell_type": "code",
   "execution_count": 7,
   "outputs": [
    {
     "data": {
      "text/plain": "datetime                66516\ncity                    66516\nstate                   66516\ncountry                 66516\nshape                   66516\nduration (seconds)      66516\nduration (hours/min)    66516\ncomments                66516\ndate posted             66516\nlatitude                66516\nlongitude               66516\ndtype: int64"
     },
     "metadata": {},
     "output_type": "execute_result",
     "execution_count": 7
    }
   ],
   "source": [
    "df_drop.count()"
   ],
   "metadata": {
    "collapsed": false,
    "pycharm": {
     "name": "#%%\n",
     "is_executing": false
    }
   }
  },
  {
   "cell_type": "code",
   "execution_count": 8,
   "outputs": [
    {
     "data": {
      "text/plain": "           datetime        city state country     shape duration (seconds)  \\\n0  10/10/1949 20:30  san marcos    tx      us  cylinder               2700   \n3  10/10/1956 21:00        edna    tx      us    circle                 20   \n4  10/10/1960 20:00     kaneohe    hi      us     light                900   \n5  10/10/1961 19:00     bristol    tn      us    sphere                300   \n7  10/10/1965 23:45     norwalk    ct      us      disk               1200   \n\n  duration (hours/min)                                           comments  \\\n0           45 minutes  This event took place in early fall around 194...   \n3             1/2 hour  My older brother and twin sister were leaving ...   \n4           15 minutes  AS a Marine 1st Lt. flying an FJ4B fighter/att...   \n5            5 minutes  My father is now 89 my brother 52 the girl wit...   \n7           20 minutes  A bright orange color changing to reddish colo...   \n\n  date posted    latitude  longitude   \n0   4/27/2004  29.8830556  -97.941111  \n3   1/17/2004  28.9783333  -96.645833  \n4   1/22/2004  21.4180556 -157.803611  \n5   4/27/2007      36.595  -82.188889  \n7   10/2/1999     41.1175  -73.408333  ",
      "text/html": "<div>\n<style scoped>\n    .dataframe tbody tr th:only-of-type {\n        vertical-align: middle;\n    }\n\n    .dataframe tbody tr th {\n        vertical-align: top;\n    }\n\n    .dataframe thead th {\n        text-align: right;\n    }\n</style>\n<table border=\"1\" class=\"dataframe\">\n  <thead>\n    <tr style=\"text-align: right;\">\n      <th></th>\n      <th>datetime</th>\n      <th>city</th>\n      <th>state</th>\n      <th>country</th>\n      <th>shape</th>\n      <th>duration (seconds)</th>\n      <th>duration (hours/min)</th>\n      <th>comments</th>\n      <th>date posted</th>\n      <th>latitude</th>\n      <th>longitude</th>\n    </tr>\n  </thead>\n  <tbody>\n    <tr>\n      <th>0</th>\n      <td>10/10/1949 20:30</td>\n      <td>san marcos</td>\n      <td>tx</td>\n      <td>us</td>\n      <td>cylinder</td>\n      <td>2700</td>\n      <td>45 minutes</td>\n      <td>This event took place in early fall around 194...</td>\n      <td>4/27/2004</td>\n      <td>29.8830556</td>\n      <td>-97.941111</td>\n    </tr>\n    <tr>\n      <th>3</th>\n      <td>10/10/1956 21:00</td>\n      <td>edna</td>\n      <td>tx</td>\n      <td>us</td>\n      <td>circle</td>\n      <td>20</td>\n      <td>1/2 hour</td>\n      <td>My older brother and twin sister were leaving ...</td>\n      <td>1/17/2004</td>\n      <td>28.9783333</td>\n      <td>-96.645833</td>\n    </tr>\n    <tr>\n      <th>4</th>\n      <td>10/10/1960 20:00</td>\n      <td>kaneohe</td>\n      <td>hi</td>\n      <td>us</td>\n      <td>light</td>\n      <td>900</td>\n      <td>15 minutes</td>\n      <td>AS a Marine 1st Lt. flying an FJ4B fighter/att...</td>\n      <td>1/22/2004</td>\n      <td>21.4180556</td>\n      <td>-157.803611</td>\n    </tr>\n    <tr>\n      <th>5</th>\n      <td>10/10/1961 19:00</td>\n      <td>bristol</td>\n      <td>tn</td>\n      <td>us</td>\n      <td>sphere</td>\n      <td>300</td>\n      <td>5 minutes</td>\n      <td>My father is now 89 my brother 52 the girl wit...</td>\n      <td>4/27/2007</td>\n      <td>36.595</td>\n      <td>-82.188889</td>\n    </tr>\n    <tr>\n      <th>7</th>\n      <td>10/10/1965 23:45</td>\n      <td>norwalk</td>\n      <td>ct</td>\n      <td>us</td>\n      <td>disk</td>\n      <td>1200</td>\n      <td>20 minutes</td>\n      <td>A bright orange color changing to reddish colo...</td>\n      <td>10/2/1999</td>\n      <td>41.1175</td>\n      <td>-73.408333</td>\n    </tr>\n  </tbody>\n</table>\n</div>"
     },
     "metadata": {},
     "output_type": "execute_result",
     "execution_count": 8
    }
   ],
   "source": [
    "# Filter the data so that only those sightings in the US are in a DataFrame\n",
    "df_us=df_drop[df_drop['country']=='us']\n",
    "df_us.head()"
   ],
   "metadata": {
    "collapsed": false,
    "pycharm": {
     "name": "#%%\n",
     "is_executing": false
    }
   }
  },
  {
   "cell_type": "code",
   "execution_count": 9,
   "outputs": [],
   "source": [
    "# Count how many sightings have occured within each state\n",
    "serie=df_us['state'].value_counts()"
   ],
   "metadata": {
    "collapsed": false,
    "pycharm": {
     "name": "#%%\n",
     "is_executing": false
    }
   }
  },
  {
   "cell_type": "code",
   "execution_count": 10,
   "outputs": [],
   "source": [
    "# Convert the state_counts Series into a DataFrame"
   ],
   "metadata": {
    "collapsed": false,
    "pycharm": {
     "name": "#%%\n",
     "is_executing": false
    }
   }
  },
  {
   "cell_type": "code",
   "execution_count": 11,
   "outputs": [
    {
     "data": {
      "text/plain": "    state\nca   8683\nfl   3754\nwa   3707\ntx   3398\nny   2915",
      "text/html": "<div>\n<style scoped>\n    .dataframe tbody tr th:only-of-type {\n        vertical-align: middle;\n    }\n\n    .dataframe tbody tr th {\n        vertical-align: top;\n    }\n\n    .dataframe thead th {\n        text-align: right;\n    }\n</style>\n<table border=\"1\" class=\"dataframe\">\n  <thead>\n    <tr style=\"text-align: right;\">\n      <th></th>\n      <th>state</th>\n    </tr>\n  </thead>\n  <tbody>\n    <tr>\n      <th>ca</th>\n      <td>8683</td>\n    </tr>\n    <tr>\n      <th>fl</th>\n      <td>3754</td>\n    </tr>\n    <tr>\n      <th>wa</th>\n      <td>3707</td>\n    </tr>\n    <tr>\n      <th>tx</th>\n      <td>3398</td>\n    </tr>\n    <tr>\n      <th>ny</th>\n      <td>2915</td>\n    </tr>\n  </tbody>\n</table>\n</div>"
     },
     "metadata": {},
     "output_type": "execute_result",
     "execution_count": 11
    }
   ],
   "source": [
    "df_state=pd.DataFrame(serie)\n",
    "df_state.head()\n",
    "# Convert the column name into \"Sum of Sightings\""
   ],
   "metadata": {
    "collapsed": false,
    "pycharm": {
     "name": "#%%\n",
     "is_executing": false
    }
   }
  },
  {
   "cell_type": "code",
   "execution_count": 13,
   "outputs": [
    {
     "data": {
      "text/plain": "    state\nca   8683\nfl   3754\nwa   3707\ntx   3398\nny   2915",
      "text/html": "<div>\n<style scoped>\n    .dataframe tbody tr th:only-of-type {\n        vertical-align: middle;\n    }\n\n    .dataframe tbody tr th {\n        vertical-align: top;\n    }\n\n    .dataframe thead th {\n        text-align: right;\n    }\n</style>\n<table border=\"1\" class=\"dataframe\">\n  <thead>\n    <tr style=\"text-align: right;\">\n      <th></th>\n      <th>state</th>\n    </tr>\n  </thead>\n  <tbody>\n    <tr>\n      <th>ca</th>\n      <td>8683</td>\n    </tr>\n    <tr>\n      <th>fl</th>\n      <td>3754</td>\n    </tr>\n    <tr>\n      <th>wa</th>\n      <td>3707</td>\n    </tr>\n    <tr>\n      <th>tx</th>\n      <td>3398</td>\n    </tr>\n    <tr>\n      <th>ny</th>\n      <td>2915</td>\n    </tr>\n  </tbody>\n</table>\n</div>"
     },
     "metadata": {},
     "output_type": "execute_result",
     "execution_count": 13
    }
   ],
   "source": [
    "df_state.rename(columns={\"state\":\"Sum of Sighting\"})\n",
    "df_state.head()\n",
    "# Want to add up the seconds UFOs are seen? There is a problem\n",
    "# Problem can be seen by examining datatypes within the DataFrame"
   ],
   "metadata": {
    "collapsed": false,
    "pycharm": {
     "name": "#%%\n",
     "is_executing": false
    }
   }
  },
  {
   "cell_type": "code",
   "execution_count": null,
   "outputs": [],
   "source": [
    "\n"
   ],
   "metadata": {
    "collapsed": false,
    "pycharm": {
     "name": "#%%\n"
    }
   }
  }
 ],
 "metadata": {
  "language_info": {
   "codemirror_mode": {
    "name": "ipython",
    "version": 2
   },
   "file_extension": ".py",
   "mimetype": "text/x-python",
   "name": "python",
   "nbconvert_exporter": "python",
   "pygments_lexer": "ipython2",
   "version": "2.7.6"
  },
  "kernelspec": {
   "name": "python3",
   "language": "python",
   "display_name": "Python 3"
  },
  "pycharm": {
   "stem_cell": {
    "cell_type": "raw",
    "source": [],
    "metadata": {
     "collapsed": false
    }
   }
  }
 },
 "nbformat": 4,
 "nbformat_minor": 0
}