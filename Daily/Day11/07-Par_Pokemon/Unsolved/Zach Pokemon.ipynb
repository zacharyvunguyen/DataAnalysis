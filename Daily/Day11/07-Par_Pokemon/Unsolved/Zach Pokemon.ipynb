{
 "cells": [
  {
   "cell_type": "code",
   "execution_count": 2,
   "metadata": {
    "collapsed": true,
    "pycharm": {
     "is_executing": false
    }
   },
   "outputs": [],
   "source": [
    "# Dependencies\n",
    "import pandas as pd"
   ]
  },
  {
   "cell_type": "code",
   "execution_count": 3,
   "outputs": [],
   "source": [
    "# File to load"
   ],
   "metadata": {
    "collapsed": false,
    "pycharm": {
     "name": "#%%\n",
     "is_executing": false
    }
   }
  },
  {
   "cell_type": "code",
   "execution_count": 4,
   "outputs": [],
   "source": [
    "path=\"../Unsolved/Resources/Pokemon.csv\"\n",
    "# Read with Pandas"
   ],
   "metadata": {
    "collapsed": false,
    "pycharm": {
     "name": "#%%\n",
     "is_executing": false
    }
   }
  },
  {
   "cell_type": "code",
   "execution_count": 5,
   "outputs": [
    {
     "data": {
      "text/plain": "   #                   Name Type 1  Type 2  Total  HP  Attack  Defense  \\\n0  1              Bulbasaur  Grass  Poison    318  45      49       49   \n1  2                Ivysaur  Grass  Poison    405  60      62       63   \n2  3               Venusaur  Grass  Poison    525  80      82       83   \n3  3  VenusaurMega Venusaur  Grass  Poison    625  80     100      123   \n4  4             Charmander   Fire     NaN    309  39      52       43   \n\n   Sp. Atk  Sp. Def  Speed  Generation  Legendary  \n0       65       65     45           1      False  \n1       80       80     60           1      False  \n2      100      100     80           1      False  \n3      122      120     80           1      False  \n4       60       50     65           1      False  ",
      "text/html": "<div>\n<style scoped>\n    .dataframe tbody tr th:only-of-type {\n        vertical-align: middle;\n    }\n\n    .dataframe tbody tr th {\n        vertical-align: top;\n    }\n\n    .dataframe thead th {\n        text-align: right;\n    }\n</style>\n<table border=\"1\" class=\"dataframe\">\n  <thead>\n    <tr style=\"text-align: right;\">\n      <th></th>\n      <th>#</th>\n      <th>Name</th>\n      <th>Type 1</th>\n      <th>Type 2</th>\n      <th>Total</th>\n      <th>HP</th>\n      <th>Attack</th>\n      <th>Defense</th>\n      <th>Sp. Atk</th>\n      <th>Sp. Def</th>\n      <th>Speed</th>\n      <th>Generation</th>\n      <th>Legendary</th>\n    </tr>\n  </thead>\n  <tbody>\n    <tr>\n      <th>0</th>\n      <td>1</td>\n      <td>Bulbasaur</td>\n      <td>Grass</td>\n      <td>Poison</td>\n      <td>318</td>\n      <td>45</td>\n      <td>49</td>\n      <td>49</td>\n      <td>65</td>\n      <td>65</td>\n      <td>45</td>\n      <td>1</td>\n      <td>False</td>\n    </tr>\n    <tr>\n      <th>1</th>\n      <td>2</td>\n      <td>Ivysaur</td>\n      <td>Grass</td>\n      <td>Poison</td>\n      <td>405</td>\n      <td>60</td>\n      <td>62</td>\n      <td>63</td>\n      <td>80</td>\n      <td>80</td>\n      <td>60</td>\n      <td>1</td>\n      <td>False</td>\n    </tr>\n    <tr>\n      <th>2</th>\n      <td>3</td>\n      <td>Venusaur</td>\n      <td>Grass</td>\n      <td>Poison</td>\n      <td>525</td>\n      <td>80</td>\n      <td>82</td>\n      <td>83</td>\n      <td>100</td>\n      <td>100</td>\n      <td>80</td>\n      <td>1</td>\n      <td>False</td>\n    </tr>\n    <tr>\n      <th>3</th>\n      <td>3</td>\n      <td>VenusaurMega Venusaur</td>\n      <td>Grass</td>\n      <td>Poison</td>\n      <td>625</td>\n      <td>80</td>\n      <td>100</td>\n      <td>123</td>\n      <td>122</td>\n      <td>120</td>\n      <td>80</td>\n      <td>1</td>\n      <td>False</td>\n    </tr>\n    <tr>\n      <th>4</th>\n      <td>4</td>\n      <td>Charmander</td>\n      <td>Fire</td>\n      <td>NaN</td>\n      <td>309</td>\n      <td>39</td>\n      <td>52</td>\n      <td>43</td>\n      <td>60</td>\n      <td>50</td>\n      <td>65</td>\n      <td>1</td>\n      <td>False</td>\n    </tr>\n  </tbody>\n</table>\n</div>"
     },
     "metadata": {},
     "output_type": "execute_result",
     "execution_count": 5
    }
   ],
   "source": [
    "df=pd.read_csv(path)\n",
    "df.head()\n",
    "# Extract the following columns: \"Type 1\", \"HP\", \"Attack\", \"Sp. Atk\", \"Sp. Def\", and \"Speed\""
   ],
   "metadata": {
    "collapsed": false,
    "pycharm": {
     "name": "#%%\n",
     "is_executing": false
    }
   }
  },
  {
   "cell_type": "code",
   "execution_count": 6,
   "outputs": [
    {
     "data": {
      "text/plain": "                 HP      Attack    Sp. Atk    Sp. Def       Speed\nType 1                                                           \nBug       56.884058   70.971014  53.869565  64.797101   61.681159\nDark      66.806452   88.387097  74.645161  69.516129   76.161290\nDragon    83.312500  112.125000  96.843750  88.843750   83.031250\nElectric  59.795455   69.090909  90.022727  73.704545   84.500000\nFairy     74.117647   61.529412  78.529412  84.705882   48.588235\nFighting  69.851852   96.777778  53.111111  64.703704   66.074074\nFire      69.903846   84.769231  88.980769  72.211538   74.442308\nFlying    70.750000   78.750000  94.250000  72.500000  102.500000\nGhost     64.437500   73.781250  79.343750  76.468750   64.343750\nGrass     67.271429   73.214286  77.500000  70.428571   61.928571\nGround    73.781250   95.750000  56.468750  62.750000   63.906250\nIce       72.000000   72.750000  77.541667  76.291667   63.458333\nNormal    77.275510   73.469388  55.816327  63.724490   71.551020\nPoison    67.250000   74.678571  60.428571  64.392857   63.571429\nPsychic   70.631579   71.456140  98.403509  86.280702   81.491228\nRock      65.363636   92.863636  63.340909  75.477273   55.909091\nSteel     65.222222   92.703704  67.518519  80.629630   55.259259\nWater     72.062500   74.151786  74.812500  70.517857   65.964286",
      "text/html": "<div>\n<style scoped>\n    .dataframe tbody tr th:only-of-type {\n        vertical-align: middle;\n    }\n\n    .dataframe tbody tr th {\n        vertical-align: top;\n    }\n\n    .dataframe thead th {\n        text-align: right;\n    }\n</style>\n<table border=\"1\" class=\"dataframe\">\n  <thead>\n    <tr style=\"text-align: right;\">\n      <th></th>\n      <th>HP</th>\n      <th>Attack</th>\n      <th>Sp. Atk</th>\n      <th>Sp. Def</th>\n      <th>Speed</th>\n    </tr>\n    <tr>\n      <th>Type 1</th>\n      <th></th>\n      <th></th>\n      <th></th>\n      <th></th>\n      <th></th>\n    </tr>\n  </thead>\n  <tbody>\n    <tr>\n      <th>Bug</th>\n      <td>56.884058</td>\n      <td>70.971014</td>\n      <td>53.869565</td>\n      <td>64.797101</td>\n      <td>61.681159</td>\n    </tr>\n    <tr>\n      <th>Dark</th>\n      <td>66.806452</td>\n      <td>88.387097</td>\n      <td>74.645161</td>\n      <td>69.516129</td>\n      <td>76.161290</td>\n    </tr>\n    <tr>\n      <th>Dragon</th>\n      <td>83.312500</td>\n      <td>112.125000</td>\n      <td>96.843750</td>\n      <td>88.843750</td>\n      <td>83.031250</td>\n    </tr>\n    <tr>\n      <th>Electric</th>\n      <td>59.795455</td>\n      <td>69.090909</td>\n      <td>90.022727</td>\n      <td>73.704545</td>\n      <td>84.500000</td>\n    </tr>\n    <tr>\n      <th>Fairy</th>\n      <td>74.117647</td>\n      <td>61.529412</td>\n      <td>78.529412</td>\n      <td>84.705882</td>\n      <td>48.588235</td>\n    </tr>\n    <tr>\n      <th>Fighting</th>\n      <td>69.851852</td>\n      <td>96.777778</td>\n      <td>53.111111</td>\n      <td>64.703704</td>\n      <td>66.074074</td>\n    </tr>\n    <tr>\n      <th>Fire</th>\n      <td>69.903846</td>\n      <td>84.769231</td>\n      <td>88.980769</td>\n      <td>72.211538</td>\n      <td>74.442308</td>\n    </tr>\n    <tr>\n      <th>Flying</th>\n      <td>70.750000</td>\n      <td>78.750000</td>\n      <td>94.250000</td>\n      <td>72.500000</td>\n      <td>102.500000</td>\n    </tr>\n    <tr>\n      <th>Ghost</th>\n      <td>64.437500</td>\n      <td>73.781250</td>\n      <td>79.343750</td>\n      <td>76.468750</td>\n      <td>64.343750</td>\n    </tr>\n    <tr>\n      <th>Grass</th>\n      <td>67.271429</td>\n      <td>73.214286</td>\n      <td>77.500000</td>\n      <td>70.428571</td>\n      <td>61.928571</td>\n    </tr>\n    <tr>\n      <th>Ground</th>\n      <td>73.781250</td>\n      <td>95.750000</td>\n      <td>56.468750</td>\n      <td>62.750000</td>\n      <td>63.906250</td>\n    </tr>\n    <tr>\n      <th>Ice</th>\n      <td>72.000000</td>\n      <td>72.750000</td>\n      <td>77.541667</td>\n      <td>76.291667</td>\n      <td>63.458333</td>\n    </tr>\n    <tr>\n      <th>Normal</th>\n      <td>77.275510</td>\n      <td>73.469388</td>\n      <td>55.816327</td>\n      <td>63.724490</td>\n      <td>71.551020</td>\n    </tr>\n    <tr>\n      <th>Poison</th>\n      <td>67.250000</td>\n      <td>74.678571</td>\n      <td>60.428571</td>\n      <td>64.392857</td>\n      <td>63.571429</td>\n    </tr>\n    <tr>\n      <th>Psychic</th>\n      <td>70.631579</td>\n      <td>71.456140</td>\n      <td>98.403509</td>\n      <td>86.280702</td>\n      <td>81.491228</td>\n    </tr>\n    <tr>\n      <th>Rock</th>\n      <td>65.363636</td>\n      <td>92.863636</td>\n      <td>63.340909</td>\n      <td>75.477273</td>\n      <td>55.909091</td>\n    </tr>\n    <tr>\n      <th>Steel</th>\n      <td>65.222222</td>\n      <td>92.703704</td>\n      <td>67.518519</td>\n      <td>80.629630</td>\n      <td>55.259259</td>\n    </tr>\n    <tr>\n      <th>Water</th>\n      <td>72.062500</td>\n      <td>74.151786</td>\n      <td>74.812500</td>\n      <td>70.517857</td>\n      <td>65.964286</td>\n    </tr>\n  </tbody>\n</table>\n</div>"
     },
     "metadata": {},
     "output_type": "execute_result",
     "execution_count": 6
    }
   ],
   "source": [
    "df_less=df[[\"Type 1\", \"HP\", \"Attack\", \"Sp. Atk\", \"Sp. Def\",\"Speed\"]]\n",
    "df_less.head()\n",
    "# Create a dataframe of the average stats for each type of pokemon.\n",
    "df_avg=df_less.groupby(df_less['Type 1']).mean()\n",
    "df_avg"
   ],
   "metadata": {
    "collapsed": false,
    "pycharm": {
     "name": "#%%\n",
     "is_executing": false
    }
   }
  },
  {
   "cell_type": "code",
   "execution_count": 7,
   "outputs": [
    {
     "data": {
      "text/plain": "                 HP      Attack    Sp. Atk    Sp. Def      Speed       total\nType 1                                                                      \nBug       56.884058   70.971014  53.869565  64.797101  61.681159  308.202899\nDark      66.806452   88.387097  74.645161  69.516129  76.161290  375.516129\nDragon    83.312500  112.125000  96.843750  88.843750  83.031250  464.156250\nElectric  59.795455   69.090909  90.022727  73.704545  84.500000  377.113636\nFairy     74.117647   61.529412  78.529412  84.705882  48.588235  347.470588",
      "text/html": "<div>\n<style scoped>\n    .dataframe tbody tr th:only-of-type {\n        vertical-align: middle;\n    }\n\n    .dataframe tbody tr th {\n        vertical-align: top;\n    }\n\n    .dataframe thead th {\n        text-align: right;\n    }\n</style>\n<table border=\"1\" class=\"dataframe\">\n  <thead>\n    <tr style=\"text-align: right;\">\n      <th></th>\n      <th>HP</th>\n      <th>Attack</th>\n      <th>Sp. Atk</th>\n      <th>Sp. Def</th>\n      <th>Speed</th>\n      <th>total</th>\n    </tr>\n    <tr>\n      <th>Type 1</th>\n      <th></th>\n      <th></th>\n      <th></th>\n      <th></th>\n      <th></th>\n      <th></th>\n    </tr>\n  </thead>\n  <tbody>\n    <tr>\n      <th>Bug</th>\n      <td>56.884058</td>\n      <td>70.971014</td>\n      <td>53.869565</td>\n      <td>64.797101</td>\n      <td>61.681159</td>\n      <td>308.202899</td>\n    </tr>\n    <tr>\n      <th>Dark</th>\n      <td>66.806452</td>\n      <td>88.387097</td>\n      <td>74.645161</td>\n      <td>69.516129</td>\n      <td>76.161290</td>\n      <td>375.516129</td>\n    </tr>\n    <tr>\n      <th>Dragon</th>\n      <td>83.312500</td>\n      <td>112.125000</td>\n      <td>96.843750</td>\n      <td>88.843750</td>\n      <td>83.031250</td>\n      <td>464.156250</td>\n    </tr>\n    <tr>\n      <th>Electric</th>\n      <td>59.795455</td>\n      <td>69.090909</td>\n      <td>90.022727</td>\n      <td>73.704545</td>\n      <td>84.500000</td>\n      <td>377.113636</td>\n    </tr>\n    <tr>\n      <th>Fairy</th>\n      <td>74.117647</td>\n      <td>61.529412</td>\n      <td>78.529412</td>\n      <td>84.705882</td>\n      <td>48.588235</td>\n      <td>347.470588</td>\n    </tr>\n  </tbody>\n</table>\n</div>"
     },
     "metadata": {},
     "output_type": "execute_result",
     "execution_count": 7
    }
   ],
   "source": [
    "# Calculate the total power level of each type of pokemon by adding all of the stats together.\n",
    "df_avg['total']=df_avg['HP']+df_avg['Attack']+df_avg[\"Sp. Atk\"]+df_avg[\"Sp. Def\"]+df_avg[\"Speed\"]\n",
    "df_avg.head()\n",
    "# Place the results into a new column."
   ],
   "metadata": {
    "collapsed": false,
    "pycharm": {
     "name": "#%%\n",
     "is_executing": false
    }
   }
  },
  {
   "cell_type": "code",
   "execution_count": 8,
   "outputs": [
    {
     "data": {
      "text/plain": "                 HP      Attack    Sp. Atk    Sp. Def       Speed       total\nType 1                                                                       \nDragon    83.312500  112.125000  96.843750  88.843750   83.031250  464.156250\nFlying    70.750000   78.750000  94.250000  72.500000  102.500000  418.750000\nPsychic   70.631579   71.456140  98.403509  86.280702   81.491228  408.263158\nFire      69.903846   84.769231  88.980769  72.211538   74.442308  390.307692\nElectric  59.795455   69.090909  90.022727  73.704545   84.500000  377.113636",
      "text/html": "<div>\n<style scoped>\n    .dataframe tbody tr th:only-of-type {\n        vertical-align: middle;\n    }\n\n    .dataframe tbody tr th {\n        vertical-align: top;\n    }\n\n    .dataframe thead th {\n        text-align: right;\n    }\n</style>\n<table border=\"1\" class=\"dataframe\">\n  <thead>\n    <tr style=\"text-align: right;\">\n      <th></th>\n      <th>HP</th>\n      <th>Attack</th>\n      <th>Sp. Atk</th>\n      <th>Sp. Def</th>\n      <th>Speed</th>\n      <th>total</th>\n    </tr>\n    <tr>\n      <th>Type 1</th>\n      <th></th>\n      <th></th>\n      <th></th>\n      <th></th>\n      <th></th>\n      <th></th>\n    </tr>\n  </thead>\n  <tbody>\n    <tr>\n      <th>Dragon</th>\n      <td>83.312500</td>\n      <td>112.125000</td>\n      <td>96.843750</td>\n      <td>88.843750</td>\n      <td>83.031250</td>\n      <td>464.156250</td>\n    </tr>\n    <tr>\n      <th>Flying</th>\n      <td>70.750000</td>\n      <td>78.750000</td>\n      <td>94.250000</td>\n      <td>72.500000</td>\n      <td>102.500000</td>\n      <td>418.750000</td>\n    </tr>\n    <tr>\n      <th>Psychic</th>\n      <td>70.631579</td>\n      <td>71.456140</td>\n      <td>98.403509</td>\n      <td>86.280702</td>\n      <td>81.491228</td>\n      <td>408.263158</td>\n    </tr>\n    <tr>\n      <th>Fire</th>\n      <td>69.903846</td>\n      <td>84.769231</td>\n      <td>88.980769</td>\n      <td>72.211538</td>\n      <td>74.442308</td>\n      <td>390.307692</td>\n    </tr>\n    <tr>\n      <th>Electric</th>\n      <td>59.795455</td>\n      <td>69.090909</td>\n      <td>90.022727</td>\n      <td>73.704545</td>\n      <td>84.500000</td>\n      <td>377.113636</td>\n    </tr>\n  </tbody>\n</table>\n</div>"
     },
     "metadata": {},
     "output_type": "execute_result",
     "execution_count": 8
    }
   ],
   "source": [
    "# Bonus: Sort the table by strongest type and export the resulting table to a new CSV.#%%\n",
    "df_sorted=df_avg.sort_values(by=['total'],ascending=False)\n",
    "df_sorted.head()"
   ],
   "metadata": {
    "collapsed": false,
    "pycharm": {
     "name": "#%%\n",
     "is_executing": false
    }
   }
  },
  {
   "cell_type": "code",
   "execution_count": null,
   "outputs": [],
   "source": [
    "\n"
   ],
   "metadata": {
    "collapsed": false,
    "pycharm": {
     "name": "#%%\n"
    }
   }
  }
 ],
 "metadata": {
  "language_info": {
   "codemirror_mode": {
    "name": "ipython",
    "version": 2
   },
   "file_extension": ".py",
   "mimetype": "text/x-python",
   "name": "python",
   "nbconvert_exporter": "python",
   "pygments_lexer": "ipython2",
   "version": "2.7.6"
  },
  "kernelspec": {
   "name": "python3",
   "language": "python",
   "display_name": "Python 3"
  },
  "pycharm": {
   "stem_cell": {
    "cell_type": "raw",
    "source": [],
    "metadata": {
     "collapsed": false
    }
   }
  }
 },
 "nbformat": 4,
 "nbformat_minor": 0
}