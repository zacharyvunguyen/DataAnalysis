{
 "cells": [
  {
   "cell_type": "code",
   "execution_count": 1,
   "metadata": {
    "collapsed": true,
    "pycharm": {
     "is_executing": false
    }
   },
   "outputs": [],
   "source": [
    "import pandas as pd"
   ]
  },
  {
   "cell_type": "code",
   "execution_count": 2,
   "outputs": [],
   "source": [
    "bitcoin_csv = \"Resources/bitcoin_cash_price.csv\"\n",
    "dash_csv = \"Resources/dash_price.csv\""
   ],
   "metadata": {
    "collapsed": false,
    "pycharm": {
     "name": "#%%\n",
     "is_executing": false
    }
   }
  },
  {
   "cell_type": "code",
   "execution_count": 3,
   "outputs": [],
   "source": [
    "bitcoin_df = pd.read_csv(bitcoin_csv)\n",
    "dash_df = pd.read_csv(dash_csv)"
   ],
   "metadata": {
    "collapsed": false,
    "pycharm": {
     "name": "#%%\n",
     "is_executing": false
    }
   }
  },
  {
   "cell_type": "code",
   "execution_count": 4,
   "outputs": [
    {
     "data": {
      "text/plain": "        Date    Open    High     Low   Close       Volume     Market Cap\n0  17-Sep-17  438.90  438.90  384.06  419.86  221828000.0  7,279,520,000\n1  16-Sep-17  424.49  450.98  388.20  440.22  313583000.0  7,039,590,000\n2  15-Sep-17  369.49  448.39  301.69  424.02  707231000.0  6,126,800,000\n3  14-Sep-17  504.22  510.47  367.04  367.04  257431000.0  8,359,650,000\n4  13-Sep-17  509.47  519.20  471.22  503.61  340344000.0  8,445,540,000",
      "text/html": "<div>\n<style scoped>\n    .dataframe tbody tr th:only-of-type {\n        vertical-align: middle;\n    }\n\n    .dataframe tbody tr th {\n        vertical-align: top;\n    }\n\n    .dataframe thead th {\n        text-align: right;\n    }\n</style>\n<table border=\"1\" class=\"dataframe\">\n  <thead>\n    <tr style=\"text-align: right;\">\n      <th></th>\n      <th>Date</th>\n      <th>Open</th>\n      <th>High</th>\n      <th>Low</th>\n      <th>Close</th>\n      <th>Volume</th>\n      <th>Market Cap</th>\n    </tr>\n  </thead>\n  <tbody>\n    <tr>\n      <th>0</th>\n      <td>17-Sep-17</td>\n      <td>438.90</td>\n      <td>438.90</td>\n      <td>384.06</td>\n      <td>419.86</td>\n      <td>221828000.0</td>\n      <td>7,279,520,000</td>\n    </tr>\n    <tr>\n      <th>1</th>\n      <td>16-Sep-17</td>\n      <td>424.49</td>\n      <td>450.98</td>\n      <td>388.20</td>\n      <td>440.22</td>\n      <td>313583000.0</td>\n      <td>7,039,590,000</td>\n    </tr>\n    <tr>\n      <th>2</th>\n      <td>15-Sep-17</td>\n      <td>369.49</td>\n      <td>448.39</td>\n      <td>301.69</td>\n      <td>424.02</td>\n      <td>707231000.0</td>\n      <td>6,126,800,000</td>\n    </tr>\n    <tr>\n      <th>3</th>\n      <td>14-Sep-17</td>\n      <td>504.22</td>\n      <td>510.47</td>\n      <td>367.04</td>\n      <td>367.04</td>\n      <td>257431000.0</td>\n      <td>8,359,650,000</td>\n    </tr>\n    <tr>\n      <th>4</th>\n      <td>13-Sep-17</td>\n      <td>509.47</td>\n      <td>519.20</td>\n      <td>471.22</td>\n      <td>503.61</td>\n      <td>340344000.0</td>\n      <td>8,445,540,000</td>\n    </tr>\n  </tbody>\n</table>\n</div>"
     },
     "metadata": {},
     "output_type": "execute_result",
     "execution_count": 4
    }
   ],
   "source": [
    "bitcoin_df.head()"
   ],
   "metadata": {
    "collapsed": false,
    "pycharm": {
     "name": "#%%\n",
     "is_executing": false
    }
   }
  },
  {
   "cell_type": "code",
   "execution_count": 5,
   "outputs": [
    {
     "data": {
      "text/plain": "        Date    Open    High     Low   Close      Volume     Market Cap\n0  17-Sep-17  298.59  315.58  278.17  313.84  38081600.0  2,257,850,000\n1  16-Sep-17  284.50  301.23  276.57  298.86  43702600.0  2,150,800,000\n2  15-Sep-17  236.05  300.11  220.51  284.36  72695500.0  1,784,040,000\n3  14-Sep-17  301.11  303.74  236.24  236.24  35013800.0  2,275,100,000\n4  13-Sep-17  324.72  325.16  287.25  301.29  28322500.0  2,452,930,000",
      "text/html": "<div>\n<style scoped>\n    .dataframe tbody tr th:only-of-type {\n        vertical-align: middle;\n    }\n\n    .dataframe tbody tr th {\n        vertical-align: top;\n    }\n\n    .dataframe thead th {\n        text-align: right;\n    }\n</style>\n<table border=\"1\" class=\"dataframe\">\n  <thead>\n    <tr style=\"text-align: right;\">\n      <th></th>\n      <th>Date</th>\n      <th>Open</th>\n      <th>High</th>\n      <th>Low</th>\n      <th>Close</th>\n      <th>Volume</th>\n      <th>Market Cap</th>\n    </tr>\n  </thead>\n  <tbody>\n    <tr>\n      <th>0</th>\n      <td>17-Sep-17</td>\n      <td>298.59</td>\n      <td>315.58</td>\n      <td>278.17</td>\n      <td>313.84</td>\n      <td>38081600.0</td>\n      <td>2,257,850,000</td>\n    </tr>\n    <tr>\n      <th>1</th>\n      <td>16-Sep-17</td>\n      <td>284.50</td>\n      <td>301.23</td>\n      <td>276.57</td>\n      <td>298.86</td>\n      <td>43702600.0</td>\n      <td>2,150,800,000</td>\n    </tr>\n    <tr>\n      <th>2</th>\n      <td>15-Sep-17</td>\n      <td>236.05</td>\n      <td>300.11</td>\n      <td>220.51</td>\n      <td>284.36</td>\n      <td>72695500.0</td>\n      <td>1,784,040,000</td>\n    </tr>\n    <tr>\n      <th>3</th>\n      <td>14-Sep-17</td>\n      <td>301.11</td>\n      <td>303.74</td>\n      <td>236.24</td>\n      <td>236.24</td>\n      <td>35013800.0</td>\n      <td>2,275,100,000</td>\n    </tr>\n    <tr>\n      <th>4</th>\n      <td>13-Sep-17</td>\n      <td>324.72</td>\n      <td>325.16</td>\n      <td>287.25</td>\n      <td>301.29</td>\n      <td>28322500.0</td>\n      <td>2,452,930,000</td>\n    </tr>\n  </tbody>\n</table>\n</div>"
     },
     "metadata": {},
     "output_type": "execute_result",
     "execution_count": 5
    }
   ],
   "source": [
    "dash_df.head()"
   ],
   "metadata": {
    "collapsed": false,
    "pycharm": {
     "name": "#%%\n",
     "is_executing": false
    }
   }
  },
  {
   "cell_type": "code",
   "execution_count": 8,
   "outputs": [
    {
     "data": {
      "text/plain": "        Date  Open_Bitcoin  High_Bitcoin  Low_Bitcoin  Close_Bitcoin  \\\n0  17-Sep-17        438.90        438.90       384.06         419.86   \n1  16-Sep-17        424.49        450.98       388.20         440.22   \n2  15-Sep-17        369.49        448.39       301.69         424.02   \n3  14-Sep-17        504.22        510.47       367.04         367.04   \n4  13-Sep-17        509.47        519.20       471.22         503.61   \n\n   Volume_Bitcoin Market Cap_Bitcoin  Open_Dash  High_Dash  Low_Dash  \\\n0     221828000.0      7,279,520,000     298.59     315.58    278.17   \n1     313583000.0      7,039,590,000     284.50     301.23    276.57   \n2     707231000.0      6,126,800,000     236.05     300.11    220.51   \n3     257431000.0      8,359,650,000     301.11     303.74    236.24   \n4     340344000.0      8,445,540,000     324.72     325.16    287.25   \n\n   Close_Dash  Volume_Dash Market Cap_Dash  \n0      313.84   38081600.0   2,257,850,000  \n1      298.86   43702600.0   2,150,800,000  \n2      284.36   72695500.0   1,784,040,000  \n3      236.24   35013800.0   2,275,100,000  \n4      301.29   28322500.0   2,452,930,000  ",
      "text/html": "<div>\n<style scoped>\n    .dataframe tbody tr th:only-of-type {\n        vertical-align: middle;\n    }\n\n    .dataframe tbody tr th {\n        vertical-align: top;\n    }\n\n    .dataframe thead th {\n        text-align: right;\n    }\n</style>\n<table border=\"1\" class=\"dataframe\">\n  <thead>\n    <tr style=\"text-align: right;\">\n      <th></th>\n      <th>Date</th>\n      <th>Open_Bitcoin</th>\n      <th>High_Bitcoin</th>\n      <th>Low_Bitcoin</th>\n      <th>Close_Bitcoin</th>\n      <th>Volume_Bitcoin</th>\n      <th>Market Cap_Bitcoin</th>\n      <th>Open_Dash</th>\n      <th>High_Dash</th>\n      <th>Low_Dash</th>\n      <th>Close_Dash</th>\n      <th>Volume_Dash</th>\n      <th>Market Cap_Dash</th>\n    </tr>\n  </thead>\n  <tbody>\n    <tr>\n      <th>0</th>\n      <td>17-Sep-17</td>\n      <td>438.90</td>\n      <td>438.90</td>\n      <td>384.06</td>\n      <td>419.86</td>\n      <td>221828000.0</td>\n      <td>7,279,520,000</td>\n      <td>298.59</td>\n      <td>315.58</td>\n      <td>278.17</td>\n      <td>313.84</td>\n      <td>38081600.0</td>\n      <td>2,257,850,000</td>\n    </tr>\n    <tr>\n      <th>1</th>\n      <td>16-Sep-17</td>\n      <td>424.49</td>\n      <td>450.98</td>\n      <td>388.20</td>\n      <td>440.22</td>\n      <td>313583000.0</td>\n      <td>7,039,590,000</td>\n      <td>284.50</td>\n      <td>301.23</td>\n      <td>276.57</td>\n      <td>298.86</td>\n      <td>43702600.0</td>\n      <td>2,150,800,000</td>\n    </tr>\n    <tr>\n      <th>2</th>\n      <td>15-Sep-17</td>\n      <td>369.49</td>\n      <td>448.39</td>\n      <td>301.69</td>\n      <td>424.02</td>\n      <td>707231000.0</td>\n      <td>6,126,800,000</td>\n      <td>236.05</td>\n      <td>300.11</td>\n      <td>220.51</td>\n      <td>284.36</td>\n      <td>72695500.0</td>\n      <td>1,784,040,000</td>\n    </tr>\n    <tr>\n      <th>3</th>\n      <td>14-Sep-17</td>\n      <td>504.22</td>\n      <td>510.47</td>\n      <td>367.04</td>\n      <td>367.04</td>\n      <td>257431000.0</td>\n      <td>8,359,650,000</td>\n      <td>301.11</td>\n      <td>303.74</td>\n      <td>236.24</td>\n      <td>236.24</td>\n      <td>35013800.0</td>\n      <td>2,275,100,000</td>\n    </tr>\n    <tr>\n      <th>4</th>\n      <td>13-Sep-17</td>\n      <td>509.47</td>\n      <td>519.20</td>\n      <td>471.22</td>\n      <td>503.61</td>\n      <td>340344000.0</td>\n      <td>8,445,540,000</td>\n      <td>324.72</td>\n      <td>325.16</td>\n      <td>287.25</td>\n      <td>301.29</td>\n      <td>28322500.0</td>\n      <td>2,452,930,000</td>\n    </tr>\n  </tbody>\n</table>\n</div>"
     },
     "metadata": {},
     "output_type": "execute_result",
     "execution_count": 8
    }
   ],
   "source": [
    "# Merge the two DataFrames together based on the Dates they share\n",
    "merge_table=pd.merge(bitcoin_df,dash_df,on=\"Date\",suffixes=(\"_Bitcoin\",\"_Dash\"))\n",
    "merge_table.head()"
   ],
   "metadata": {
    "collapsed": false,
    "pycharm": {
     "name": "#%%\n",
     "is_executing": false
    }
   }
  },
  {
   "cell_type": "code",
   "execution_count": null,
   "outputs": [],
   "source": [
    "# Rename columns so that they are differentiated\n"
   ],
   "metadata": {
    "collapsed": false,
    "pycharm": {
     "name": "#%%\n"
    }
   }
  },
  {
   "cell_type": "code",
   "execution_count": null,
   "outputs": [],
   "source": [
    "# alternatively you can set your suffixes when the merge occurs"
   ],
   "metadata": {
    "collapsed": false,
    "pycharm": {
     "name": "#%%\n"
    }
   }
  },
  {
   "cell_type": "code",
   "execution_count": 13,
   "outputs": [],
   "source": [
    "# Collecting best open for Bitcoin and Dash\n",
    "best_open_Bit=merge_table['Open_Bitcoin'].max()\n",
    "best_open_Dash=merge_table['Open_Dash'].max()\n",
    "\n",
    "# Collecting best close for Bitcoin and Dash\n",
    "best_close_Bit=merge_table['Close_Bitcoin'].max()\n",
    "best_close_Dash=merge_table['Close_Dash'].max()\n",
    "\n",
    "# Collecting the total volume for Bitcoin and Dash\n",
    "total_volume_Bit=merge_table['Volume_Bitcoin'].sum()\n",
    "total_volume_Dash=merge_table['Volume_Dash'].sum()"
   ],
   "metadata": {
    "collapsed": false,
    "pycharm": {
     "name": "#%%\n",
     "is_executing": false
    }
   }
  },
  {
   "cell_type": "code",
   "execution_count": 18,
   "outputs": [],
   "source": [
    "# Creating a summary DataFrame using above values\n",
    "df_summary=pd.DataFrame({\n",
    "    \"Best Bitcoin Open\": [best_open_Bit],\n",
    "    \"Best Dash Open\": [best_open_Dash],\n",
    "    \"Best Bitcoin Close\": [best_close_Bit],\n",
    "    \"Best Dash Close\": [best_close_Dash],\n",
    "    \"Bitcoin Total Volume\": [total_volume_Bit],\n",
    "    \"Dash Total Volume\": [total_volume_Dash]\n",
    "})\n",
    "df_summary=df_summary.transpose()"
   ],
   "metadata": {
    "collapsed": false,
    "pycharm": {
     "name": "#%%\n",
     "is_executing": false
    }
   }
  },
  {
   "cell_type": "code",
   "execution_count": null,
   "outputs": [],
   "source": [
    "\n"
   ],
   "metadata": {
    "collapsed": false,
    "pycharm": {
     "name": "#%%\n"
    }
   }
  }
 ],
 "metadata": {
  "language_info": {
   "codemirror_mode": {
    "name": "ipython",
    "version": 2
   },
   "file_extension": ".py",
   "mimetype": "text/x-python",
   "name": "python",
   "nbconvert_exporter": "python",
   "pygments_lexer": "ipython2",
   "version": "2.7.6"
  },
  "kernelspec": {
   "name": "python3",
   "language": "python",
   "display_name": "Python 3"
  },
  "pycharm": {
   "stem_cell": {
    "cell_type": "raw",
    "source": [],
    "metadata": {
     "collapsed": false
    }
   }
  }
 },
 "nbformat": 4,
 "nbformat_minor": 0
}